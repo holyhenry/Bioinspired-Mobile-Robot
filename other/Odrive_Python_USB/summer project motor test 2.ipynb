{
 "cells": [
  {
   "cell_type": "markdown",
   "metadata": {},
   "source": [
    "connect"
   ]
  },
  {
   "cell_type": "code",
   "execution_count": 1,
   "metadata": {},
   "outputs": [],
   "source": [
    "import odrive\n",
    "from odrive.enums import *\n",
    "import time\n",
    "import math\n",
    "import numpy as np\n",
    "import matplotlib.pyplot as plt"
   ]
  },
  {
   "cell_type": "code",
   "execution_count": 2,
   "metadata": {},
   "outputs": [
    {
     "name": "stdout",
     "output_type": "stream",
     "text": [
      "Right Side Motors Connected!\n",
      "Odrive serial 56565547021622\n",
      "Left Side Motors Connected!\n",
      "Odrive serial 56509714085174\n",
      "Right Side Motors Connected!\n",
      "Odrive serial 56471058265398\n",
      "Left Side Motors Connected!\n",
      "Odrive serial 56539777742134\n"
     ]
    }
   ],
   "source": [
    "Henry = odrive.find_any(serial_number = \"337231563536\")\n",
    "if Henry is not None:\n",
    "    print('Right Side Motors Connected!')\n",
    "    print('Odrive serial {}'.format(Henry.serial_number))\n",
    "else:\n",
    "    print('Not connected')\n",
    "    \n",
    "time.sleep(1)\n",
    "\n",
    "Philip = odrive.find_any(serial_number = \"3365316F3536\")\n",
    "if Philip is not None:\n",
    "    print('Left Side Motors Connected!')\n",
    "    print('Odrive serial {}'.format(Philip.serial_number))\n",
    "else:\n",
    "    print('Not connected')\n",
    "    \n",
    "time.sleep(1)\n",
    "    \n",
    "Charlie = odrive.find_any(serial_number = \"335C315E3536\")\n",
    "if Charlie is not None:\n",
    "    print('Right Side Motors Connected!')\n",
    "    print('Odrive serial {}'.format(Charlie.serial_number))\n",
    "else:\n",
    "    print('Not connected')\n",
    "    \n",
    "time.sleep(1)\n",
    "\n",
    "Jerry = odrive.find_any(serial_number = \"336C315E3536\")\n",
    "if Jerry is not None:\n",
    "    print('Left Side Motors Connected!')\n",
    "    print('Odrive serial {}'.format(Jerry.serial_number))\n",
    "else:\n",
    "    print('Not connected')"
   ]
  },
  {
   "cell_type": "markdown",
   "metadata": {},
   "source": [
    "calibration"
   ]
  },
  {
   "cell_type": "code",
   "execution_count": 3,
   "metadata": {},
   "outputs": [],
   "source": [
    "def Calibration (odrv0):\n",
    "    odrv0.axis0.requested_state = odrive.enums.AXIS_STATE_FULL_CALIBRATION_SEQUENCE # right motor\n",
    "    odrv0.axis1.requested_state = odrive.enums.AXIS_STATE_FULL_CALIBRATION_SEQUENCE # left motor\n",
    "    print('calibration done')\n",
    "    return ()"
   ]
  },
  {
   "cell_type": "code",
   "execution_count": 6,
   "metadata": {},
   "outputs": [
    {
     "name": "stdout",
     "output_type": "stream",
     "text": [
      "calibration done\n",
      "calibration done\n"
     ]
    },
    {
     "data": {
      "text/plain": [
       "()"
      ]
     },
     "execution_count": 6,
     "metadata": {},
     "output_type": "execute_result"
    }
   ],
   "source": [
    "# Calibration(Henry)\n",
    "# time.sleep(1)\n",
    "# Calibration(Philip)\n",
    "# time.sleep(1)\n",
    "Calibration(Charlie)\n",
    "time.sleep(1)\n",
    "Calibration(Jerry)"
   ]
  },
  {
   "cell_type": "markdown",
   "metadata": {},
   "source": [
    "set parameters"
   ]
  },
  {
   "cell_type": "code",
   "execution_count": 7,
   "metadata": {},
   "outputs": [],
   "source": [
    "def SetParameter(odrv0):\n",
    "    odrv0.axis0.controller.config.vel_limit = 200000\n",
    "    odrv0.axis1.controller.config.vel_limit = 200000\n",
    "    odrv0.axis0.controller.config.vel_limit_tolerance = 10000\n",
    "    odrv0.axis1.controller.config.vel_limit_tolerance = 10000\n",
    "    odrv0.axis0.motor.config.requested_current_range = 90\n",
    "    odrv0.axis1.motor.config.requested_current_range = 90\n",
    "    odrv0.axis0.controller.config.pos_gain = 20\n",
    "    odrv0.axis1.controller.config.pos_gain = 20\n",
    "    print('parameter set')\n",
    "    return ()\n",
    "\n",
    "def GetEncoderState(odrv0):\n",
    "    position_cpr0 = odrv0.axis0.encoder.pos_estimate # right motor\n",
    "    position_cpr1 = odrv0.axis1.encoder.pos_estimate # left motor\n",
    "    return (position_cpr0,position_cpr1)\n",
    "\n",
    "def IdleMode(odrv0):\n",
    "    # necessary to switch back to idle to manually control the links to read the encoder position\n",
    "    odrv0.axis0.requested_state = odrive.enums.AXIS_STATE_IDLE\n",
    "    odrv0.axis1.requested_state = odrive.enums.AXIS_STATE_IDLE\n",
    "    return()\n",
    "\n",
    "def ClosedLoopControlMode(odrv0):\n",
    "    # enter closed-loop control to give command to the motor\n",
    "    odrv0.axis0.requested_state = odrive.enums.AXIS_STATE_CLOSED_LOOP_CONTROL\n",
    "    odrv0.axis1.requested_state = odrive.enums.AXIS_STATE_CLOSED_LOOP_CONTROL\n",
    "    return()\n",
    "\n",
    "def MotorClearError(odrv0):\n",
    "    odrv0.axis0.error = 0\n",
    "    odrv0.axis0.motor.error = 0\n",
    "    odrv0.axis0.controller.error = 0\n",
    "    odrv0.axis0.encoder.error = 0\n",
    "    odrv0.axis1.error = 0\n",
    "    odrv0.axis1.motor.error = 0\n",
    "    odrv0.axis1.controller.error = 0\n",
    "    odrv0.axis1.encoder.error = 0\n",
    "    return()\n",
    "\n",
    "def CheckMotorError(odrv0):\n",
    "    axis0error = odrv0.axis0.error \n",
    "    axis0motorerror = odrv0.axis0.motor.error \n",
    "    axis0controllererror = odrv0.axis0.controller.error \n",
    "    axis1error = odrv0.axis1.error \n",
    "    axis1motorerror = odrv0.axis1.motor.error \n",
    "    axis1controllererror = odrv0.axis1.controller.error \n",
    "    return(axis0error, axis0motorerror, axis0controllererror, axis1error, axis1motorerror, axis1controllererror)\n"
   ]
  },
  {
   "cell_type": "code",
   "execution_count": 9,
   "metadata": {},
   "outputs": [
    {
     "name": "stdout",
     "output_type": "stream",
     "text": [
      "parameter set\n",
      "parameter set\n",
      "parameter set\n",
      "parameter set\n"
     ]
    },
    {
     "data": {
      "text/plain": [
       "()"
      ]
     },
     "execution_count": 9,
     "metadata": {},
     "output_type": "execute_result"
    }
   ],
   "source": [
    "SetParameter(Henry)\n",
    "SetParameter(Philip)\n",
    "SetParameter(Charlie)\n",
    "SetParameter(Jerry)"
   ]
  },
  {
   "cell_type": "code",
   "execution_count": 10,
   "metadata": {},
   "outputs": [
    {
     "data": {
      "text/plain": [
       "()"
      ]
     },
     "execution_count": 10,
     "metadata": {},
     "output_type": "execute_result"
    }
   ],
   "source": [
    "ClosedLoopControlMode(Henry)\n",
    "ClosedLoopControlMode(Philip)\n",
    "ClosedLoopControlMode(Charlie)\n",
    "ClosedLoopControlMode(Jerry)"
   ]
  },
  {
   "cell_type": "code",
   "execution_count": 12,
   "metadata": {},
   "outputs": [
    {
     "data": {
      "text/plain": [
       "()"
      ]
     },
     "execution_count": 12,
     "metadata": {},
     "output_type": "execute_result"
    }
   ],
   "source": [
    "IdleMode(Henry)\n",
    "IdleMode(Philip)\n",
    "IdleMode(Charlie)\n",
    "IdleMode(Jerry)"
   ]
  },
  {
   "cell_type": "code",
   "execution_count": null,
   "metadata": {},
   "outputs": [],
   "source": []
  }
 ],
 "metadata": {
  "kernelspec": {
   "display_name": "Python 3",
   "language": "python",
   "name": "python3"
  },
  "language_info": {
   "codemirror_mode": {
    "name": "ipython",
    "version": 3
   },
   "file_extension": ".py",
   "mimetype": "text/x-python",
   "name": "python",
   "nbconvert_exporter": "python",
   "pygments_lexer": "ipython3",
   "version": "3.7.3"
  }
 },
 "nbformat": 4,
 "nbformat_minor": 2
}
