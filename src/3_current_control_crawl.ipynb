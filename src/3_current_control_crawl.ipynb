{
 "cells": [
  {
   "cell_type": "code",
   "execution_count": 2,
   "metadata": {},
   "outputs": [],
   "source": [
    "import odrive\n",
    "from odrive.enums import *\n",
    "import time\n",
    "import math\n",
    "import numpy as np\n",
    "import sympy as sp\n",
    "from sympy.utilities.lambdify import lambdify\n",
    "import matplotlib.pyplot as plt"
   ]
  },
  {
   "cell_type": "markdown",
   "metadata": {},
   "source": [
    "## Connect to Odrive"
   ]
  },
  {
   "cell_type": "code",
   "execution_count": 3,
   "metadata": {},
   "outputs": [
    {
     "name": "stdout",
     "output_type": "stream",
     "text": [
      "Connected!\n",
      "ODrive1 serial 35696338546763\n",
      "Connected!\n",
      "ODrive2 serial 56565547021622\n"
     ]
    }
   ],
   "source": [
    "odrv1 = odrive.find_any(serial_number = \"20773394304B\" )\n",
    "if odrv1 is not None:\n",
    "    print('Connected!\\nODrive1 serial {}'.format(odrv1.serial_number))\n",
    "else:\n",
    "    print('Not connected')\n",
    "    \n",
    "odrv2 = odrive.find_any(serial_number = \"337231563536\")\n",
    "if odrv2 is not None:\n",
    "    print('Connected!\\nODrive2 serial {}'.format(odrv2.serial_number))\n",
    "else:\n",
    "    print('Not connected')\n",
    "\n",
    "m0  = odrv1.axis0\n",
    "m1  = odrv1.axis1\n",
    "m00 = odrv2.axis0\n",
    "m11 = odrv2.axis1"
   ]
  },
  {
   "cell_type": "markdown",
   "metadata": {},
   "source": [
    "## Setup"
   ]
  },
  {
   "cell_type": "code",
   "execution_count": 4,
   "metadata": {},
   "outputs": [],
   "source": [
    "def SetParameter(odrv0):\n",
    "    odrv0.axis0.motor.config.current_lim     = 5 #A\n",
    "    odrv0.axis1.motor.config.current_lim     = 5 #A\n",
    "    odrv0.axis0.controller.config.vel_limit  = 1000000\n",
    "    odrv0.axis1.controller.config.vel_limit  = 1000000\n",
    "    return()\n",
    "\n",
    "def CheckMotorError(odrv0):\n",
    "    axis0error = odrv0.axis0.error \n",
    "    axis1error = odrv0.axis1.error \n",
    "    axis0motorerror = odrv0.axis0.motor.error \n",
    "    axis1motorerror = odrv0.axis1.motor.error \n",
    "    axis0controllererror = odrv0.axis0.controller.error \n",
    "    axis1controllererror = odrv0.axis0.controller.error \n",
    "    print(\"error:          \", axis0error, axis1error)\n",
    "    print(\"motorerror:     \", axis0motorerror, axis1motorerror)\n",
    "    print(\"controllererror:\", axis0controllererror, axis1controllererror)\n",
    "    return()\n",
    "\n",
    "def MotorClearError(odrv0):\n",
    "    odrv0.axis0.error = 0\n",
    "    odrv0.axis1.error = 0\n",
    "    odrv0.axis0.motor.error = 0\n",
    "    odrv0.axis1.motor.error = 0\n",
    "    odrv0.axis0.controller.error = 0\n",
    "    odrv0.axis1.controller.error = 0\n",
    "    odrv0.axis0.encoder.error = 0\n",
    "    odrv0.axis1.encoder.error = 0\n",
    "    return()"
   ]
  },
  {
   "cell_type": "code",
   "execution_count": 5,
   "metadata": {},
   "outputs": [
    {
     "name": "stdout",
     "output_type": "stream",
     "text": [
      "Parameter Set!\n"
     ]
    }
   ],
   "source": [
    "SetParameter(odrv1)\n",
    "SetParameter(odrv2)\n",
    "print(\"Parameter Set!\")"
   ]
  },
  {
   "cell_type": "code",
   "execution_count": 6,
   "metadata": {},
   "outputs": [
    {
     "name": "stdout",
     "output_type": "stream",
     "text": [
      "odrive1\n",
      "error:           0 0\n",
      "motorerror:      0 0\n",
      "controllererror: 0 0\n",
      "odrive2\n",
      "error:           0 0\n",
      "motorerror:      0 0\n",
      "controllererror: 0 0\n",
      "Error Clear!\n"
     ]
    }
   ],
   "source": [
    "print(\"odrive1\")\n",
    "CheckMotorError(odrv1)\n",
    "print(\"odrive2\")\n",
    "CheckMotorError(odrv2)\n",
    "\n",
    "MotorClearError(odrv1)\n",
    "MotorClearError(odrv2)\n",
    "print(\"Error Clear!\")"
   ]
  },
  {
   "cell_type": "markdown",
   "metadata": {},
   "source": [
    "## Motor Commands"
   ]
  },
  {
   "cell_type": "code",
   "execution_count": 7,
   "metadata": {},
   "outputs": [],
   "source": [
    "def Calibration(odrv0):\n",
    "    odrv0.axis0.requested_state = AXIS_STATE_FULL_CALIBRATION_SEQUENCE\n",
    "    odrv0.axis1.requested_state = AXIS_STATE_FULL_CALIBRATION_SEQUENCE\n",
    "    print('calibration done')\n",
    "\n",
    "def ClosedLoopControlMode(odrv0):\n",
    "    odrv0.axis0.requested_state = AXIS_STATE_CLOSED_LOOP_CONTROL\n",
    "    odrv0.axis1.requested_state = AXIS_STATE_CLOSED_LOOP_CONTROL\n",
    "\n",
    "def IdleMode(odrv0):\n",
    "    odrv0.axis0.requested_state = odrive.enums.AXIS_STATE_IDLE\n",
    "    odrv0.axis1.requested_state = odrive.enums.AXIS_STATE_IDLE\n",
    "\n",
    "def ControllerPositionControl(odrv0): # default mode\n",
    "    odrv0.axis0.controller.config.control_mode = CTRL_MODE_POSITION_CONTROL\n",
    "    odrv0.axis1.controller.config.control_mode = CTRL_MODE_POSITION_CONTROL\n",
    "    print(\"Current Control Mode :{}\".format(odrv0.axis0.controller.config.control_mode))\n",
    "\n",
    "def ControllerCurrentControl(odrv0):\n",
    "    odrv0.axis0.controller.config.control_mode = CTRL_MODE_CURRENT_CONTROL\n",
    "    odrv0.axis1.controller.config.control_mode = CTRL_MODE_CURRENT_CONTROL\n",
    "    print(\"Control Mode :{}\".format(odrv0.axis0.controller.config.control_mode))\n",
    "\n",
    "def MaxCurrentProtection(current, current_limit = 10):\n",
    "    current  = min(np.abs(current), current_limit) * np.sign(current) \n",
    "    return(current)"
   ]
  },
  {
   "cell_type": "code",
   "execution_count": 8,
   "metadata": {},
   "outputs": [
    {
     "name": "stdout",
     "output_type": "stream",
     "text": [
      "calibration done\n",
      "calibration done\n"
     ]
    }
   ],
   "source": [
    "Calibration(odrv1)\n",
    "Calibration(odrv2)"
   ]
  },
  {
   "cell_type": "code",
   "execution_count": 11,
   "metadata": {},
   "outputs": [],
   "source": [
    "ClosedLoopControlMode(odrv1)\n",
    "ClosedLoopControlMode(odrv2)"
   ]
  },
  {
   "cell_type": "code",
   "execution_count": 10,
   "metadata": {},
   "outputs": [],
   "source": [
    "IdleMode(odrv1)\n",
    "IdleMode(odrv2)"
   ]
  },
  {
   "cell_type": "code",
   "execution_count": 12,
   "metadata": {},
   "outputs": [
    {
     "name": "stdout",
     "output_type": "stream",
     "text": [
      "Control Mode :1\n",
      "Control Mode :1\n"
     ]
    }
   ],
   "source": [
    "ControllerCurrentControl(odrv1)\n",
    "ControllerCurrentControl(odrv2)"
   ]
  },
  {
   "cell_type": "markdown",
   "metadata": {},
   "source": [
    "# Forward Kinematics & Jacobian (Joint space -- Foot space)"
   ]
  },
  {
   "cell_type": "code",
   "execution_count": 13,
   "metadata": {},
   "outputs": [],
   "source": [
    "(thetaL_sym, thetaR_sym) = sp.symbols(\"\"\"thetaL_sym thetaR_sym \"\"\", real = True)\n",
    "(x_cartesian, y_cartesian) = sp.symbols(\"\"\"x_cartesian y_cartesian \"\"\", real = True)\n",
    "\n",
    "def T(theta, x, y):\n",
    "    return sp.Matrix([[sp.cos(theta), -sp.sin(theta), x], \n",
    "                      [sp.sin(theta), sp.cos(theta), y],\n",
    "                      [0, 0, 1]])\n",
    "\n",
    "l1 = 0.09\n",
    "l2 = 0.16\n",
    "w = 0.07\n",
    "\n",
    "x_r = -w/2 + l1*sp.cos(thetaR_sym)\n",
    "x_l = w/2 + l1*sp.cos(thetaL_sym)\n",
    "\n",
    "y_r = l1*sp.sin(thetaR_sym)\n",
    "y_l = l1*sp.sin(thetaL_sym)\n",
    "\n",
    "theta3_sym = sp.atan2(y_l - y_r, x_l - x_r)\n",
    "L = sp.sqrt((x_l - x_r)**2 + (y_l - y_r)**2)\n",
    "\n",
    "FK = T(thetaL_sym, w/2, 0)@T((sp.pi - thetaL_sym + theta3_sym), l1, 0)@sp.Matrix([L/2, -sp.sqrt(l2**2 - (L/2)**2), 1])\n",
    "FK = FK[:2,:]\n",
    "FK.simplify()\n",
    "FK_fast = lambdify((thetaR_sym, thetaL_sym), FK) # (x,y) = FK_fast(thetaR,thetaL)\n",
    "\n",
    "J = FK.jacobian([thetaR_sym, thetaL_sym]).evalf()\n",
    "J_fast = lambdify((thetaR_sym, thetaL_sym), J) # J_fast(thetaR,thetaL)"
   ]
  },
  {
   "cell_type": "markdown",
   "metadata": {},
   "source": [
    "# Define zero angle (Joint space)"
   ]
  },
  {
   "cell_type": "code",
   "execution_count": 14,
   "metadata": {},
   "outputs": [
    {
     "name": "stdout",
     "output_type": "stream",
     "text": [
      "-96.078125\n",
      "4749.234375\n"
     ]
    }
   ],
   "source": [
    "#front foot\n",
    "m0_home_pos = m0.encoder.pos_estimate\n",
    "m1_home_pos = m1.encoder.pos_estimate\n",
    "theta_R_home = -((m0_home_pos) / 8192 * 2 * np.pi) + np.pi\n",
    "theta_L_home = -((m1_home_pos) / 8192 * 2 * np.pi)\n",
    "# theta_R_home_d = theta_R_home / (2 * np.pi) * 360\n",
    "# theta_L_home_d = theta_L_home / (2 * np.pi) * 360\n",
    "print(m0_home_pos)\n",
    "print(m1_home_pos)"
   ]
  },
  {
   "cell_type": "code",
   "execution_count": 15,
   "metadata": {},
   "outputs": [
    {
     "name": "stdout",
     "output_type": "stream",
     "text": [
      "-2431.25\n",
      "155.234375\n"
     ]
    }
   ],
   "source": [
    "#back foot\n",
    "m00_home_pos = m00.encoder.pos_estimate\n",
    "m11_home_pos = m11.encoder.pos_estimate\n",
    "theta_R_home = -((m00_home_pos) / 8192 * 2 * np.pi) + np.pi\n",
    "theta_L_home = -((m11_home_pos) / 8192 * 2 * np.pi)\n",
    "# theta_R_home_d = theta_R_home / (2 * np.pi) * 360\n",
    "# theta_L_home_d = theta_L_home / (2 * np.pi) * 360\n",
    "print(m00_home_pos)\n",
    "print(m11_home_pos)"
   ]
  },
  {
   "cell_type": "code",
   "execution_count": null,
   "metadata": {},
   "outputs": [],
   "source": [
    "# # Without encoder read position\n",
    "# m0_home_pos = -1157.032470703125\n",
    "# m1_home_pos = 707.75048828125\n",
    "# theta_R_home = -((m0_home_pos) / 8192 * 2 * np.pi) + np.pi\n",
    "# theta_L_home = -((m1_home_pos) / 8192 * 2 * np.pi)"
   ]
  },
  {
   "cell_type": "markdown",
   "metadata": {},
   "source": [
    "# Define tiptoe home location (Joint space)"
   ]
  },
  {
   "cell_type": "code",
   "execution_count": 16,
   "metadata": {},
   "outputs": [
    {
     "name": "stdout",
     "output_type": "stream",
     "text": [
      "Odrv1 \n",
      "R: 140.50071716308594 \n",
      "L: 35.52909851074218\n"
     ]
    }
   ],
   "source": [
    "#Front foot home location\n",
    "m0_equilibrium_toe_pos = m0.encoder.pos_estimate\n",
    "m1_equilibrium_toe_pos = m1.encoder.pos_estimate\n",
    "theta_R_eq = - ((m0_equilibrium_toe_pos - m0_home_pos) / 8192 * 2 * np.pi) + np.pi\n",
    "theta_L_eq = - ((m1_equilibrium_toe_pos - m1_home_pos) / 8192 * 2 * np.pi)\n",
    "theta_R_eq_d = theta_R_eq / (2 * np.pi) * 360\n",
    "theta_L_eq_d = theta_L_eq / (2 * np.pi) * 360\n",
    "print(\"Odrv1 \\nR:\", theta_R_eq_d, \"\\nL:\", theta_L_eq_d)"
   ]
  },
  {
   "cell_type": "code",
   "execution_count": 17,
   "metadata": {},
   "outputs": [
    {
     "name": "stdout",
     "output_type": "stream",
     "text": [
      "Odrv2 \n",
      "R: 143.6572265625 \n",
      "L: 42.42851257324219\n"
     ]
    }
   ],
   "source": [
    "#Back foot home location\n",
    "m00_equilibrium_toe_pos = m00.encoder.pos_estimate\n",
    "m11_equilibrium_toe_pos = m11.encoder.pos_estimate\n",
    "theta_R_eq = - ((m00_equilibrium_toe_pos - m00_home_pos) / 8192 * 2 * np.pi) + np.pi\n",
    "theta_L_eq = - ((m11_equilibrium_toe_pos - m11_home_pos) / 8192 * 2 * np.pi)\n",
    "theta_R_eq_d = theta_R_eq / (2 * np.pi) * 360\n",
    "theta_L_eq_d = theta_L_eq / (2 * np.pi) * 360\n",
    "print(\"Odrv2 \\nR:\", theta_R_eq_d, \"\\nL:\", theta_L_eq_d)"
   ]
  },
  {
   "cell_type": "markdown",
   "metadata": {},
   "source": [
    "# Record trajectory (Joint space)"
   ]
  },
  {
   "cell_type": "code",
   "execution_count": null,
   "metadata": {},
   "outputs": [],
   "source": [
    "# theta_R_eq_array = []\n",
    "# theta_L_eq_array = []\n",
    "\n",
    "# t0 = 0\n",
    "# t1 = 0\n",
    "# t_start = time.time()\n",
    "# duration = 10\n",
    "# count = 0\n",
    "\n",
    "# while (time.time() - t_start < duration):\n",
    "    \n",
    "#     t0 = time.time()\n",
    "#     #read the encoder position & velocity\n",
    "#     m0_encoder_pos = m0.encoder.pos_estimate\n",
    "#     m1_encoder_pos = m1.encoder.pos_estimate\n",
    "#     #current angle(rad) & velocity(rad/s)\n",
    "#     theta_R_eq = - ((m0_encoder_pos - m0_home_pos) / 8192 * 2 * np.pi) + np.pi\n",
    "#     theta_L_eq = - ((m1_encoder_pos - m1_home_pos) / 8192 * 2 * np.pi)\n",
    "#     #current angle(degree)\n",
    "# #     theta_R_eq_d = theta_R_eq / (2 * np.pi) * 360\n",
    "# #     theta_L_eq_d = theta_L_eq / (2 * np.pi) * 360\n",
    "    \n",
    "#     theta_R_eq_array.append(theta_R_eq)\n",
    "#     theta_L_eq_array.append(theta_L_eq)\n",
    "    \n",
    "#     count += 1\n",
    "\n",
    "#     t1 = time.time()\n",
    "#     time_spent = t1 - t0\n",
    "# #     print(time_spent)\n",
    "# #     time.sleep(0.005 - time_spent)\n",
    "    \n",
    "# print(count,'iterations in', duration, 'second')\n",
    "# print(count/duration, 'Hz')"
   ]
  },
  {
   "cell_type": "markdown",
   "metadata": {},
   "source": [
    "# Sine Trajectory (Foot Space)"
   ]
  },
  {
   "cell_type": "code",
   "execution_count": null,
   "metadata": {},
   "outputs": [],
   "source": [
    "# DownAMP = 0.01\n",
    "# UpperAMP = 0.05\n",
    "# StanceHeight = 0.18\n",
    "# StepLength = 0.12\n",
    "\n",
    "# CurrentPercent = np.array([a/100+0.01 for a in range(100)]) # 0.01 ~ 1.00\n",
    "# StancePercent = 0.6\n",
    "# SwingPercent = 1 - StancePercent\n",
    "\n",
    "# x = np.zeros(len(CurrentPercent), dtype=float)\n",
    "# y = np.zeros(len(CurrentPercent), dtype=float)\n",
    "\n",
    "# for i in range(len(CurrentPercent)):\n",
    "#      if (CurrentPercent[i] <= StancePercent):\n",
    "#           x[i] = -(StepLength / 2) + (CurrentPercent[i] / StancePercent) * StepLength\n",
    "#           y[i] =  DownAMP * np.sin(np.pi * CurrentPercent[i] / StancePercent) + StanceHeight\n",
    "#      else:\n",
    "#           x[i] = (StepLength / 2) - ((CurrentPercent[i] - StancePercent) / SwingPercent) * StepLength\n",
    "#           y[i] = -UpperAMP * np.sin(np.pi * (CurrentPercent[i] - StancePercent) / SwingPercent) + StanceHeight\n",
    "\n",
    "# plt.plot(x,y)\n",
    "# plt.plot(x[99],y[99],x[79],y[79],x[59],y[59],x[29],y[29], marker='*')\n",
    "# plt.title('SineTrajectory')\n",
    "# plt.ylim(0.195, 0.125)\n",
    "# plt.xlim(0.065, -0.065)\n",
    "# plt.grid()\n",
    "# plt.show()"
   ]
  },
  {
   "cell_type": "code",
   "execution_count": 42,
   "metadata": {},
   "outputs": [],
   "source": [
    "# 1,2 for crawl\n",
    "\n",
    "def SineTrajectory1(DownAMP=0.01, UpperAMP=0.08, StanceHeight=0.18, StepLength=0.15):\n",
    "    \n",
    "    StancePercent = 0.5\n",
    "    SwingPercent = 1 - StancePercent\n",
    "\n",
    "    t_iteration = 2\n",
    "    t_real = time.time()\n",
    "    t_cycle = t_real % 2\n",
    "    CurrentPercent = t_cycle / t_iteration\n",
    "        \n",
    "    if (CurrentPercent <= StancePercent): # stance phase front foot\n",
    "        x = -(StepLength / 2) + (CurrentPercent / StancePercent) * StepLength\n",
    "        y =  DownAMP * np.sin(np.pi * CurrentPercent / StancePercent) + StanceHeight\n",
    "    else: # swing phase front foot\n",
    "        x = (StepLength / 2) - ((CurrentPercent - StancePercent) / SwingPercent) * StepLength\n",
    "        y = -UpperAMP * np.sin(np.pi * (CurrentPercent - StancePercent) / SwingPercent) + StanceHeight\n",
    "\n",
    "    return np.array([[x], [y]])\n",
    "\n",
    "def SineTrajectory2(DownAMP=0.01, UpperAMP=0.08, StanceHeight=0.18, StepLength=0.15):\n",
    "    \n",
    "    StancePercent = 0.5\n",
    "    SwingPercent = 1 - StancePercent\n",
    "\n",
    "    t_iteration = 2\n",
    "    t_real = time.time()\n",
    "    t_cycle = t_real % 2\n",
    "    CurrentPercent = t_cycle / t_iteration\n",
    "    if (CurrentPercent <= StancePercent): # stance phase front foot\n",
    "        x = (StepLength / 2)- (CurrentPercent / StancePercent) * StepLength\n",
    "        y =  DownAMP * np.sin(np.pi * CurrentPercent / StancePercent) + StanceHeight\n",
    "    else: # swing phase front foot\n",
    "        x = -(StepLength / 2) + ((CurrentPercent - StancePercent) / SwingPercent) * StepLength\n",
    "        y = -UpperAMP * np.sin(np.pi * (CurrentPercent - StancePercent) / SwingPercent) + StanceHeight\n",
    "        \n",
    "    return np.array([[x], [y]])\n",
    "\n",
    "# 3, 4 for walk\n",
    "\n",
    "def SineTrajectory3(DownAMP=0.01, UpperAMP=0.1, StanceHeight=0.18, StepLength=0.15):\n",
    "    \n",
    "    StancePercent = 0.5\n",
    "    SwingPercent = 1 - StancePercent\n",
    "\n",
    "    t_iteration = 2\n",
    "    t_real = time.time()\n",
    "    t_cycle = t_real % 2\n",
    "    CurrentPercent = t_cycle / t_iteration\n",
    "        \n",
    "    if (CurrentPercent <= StancePercent): # stance phase front foot\n",
    "        x = -(StepLength / 2) + (CurrentPercent / StancePercent) * StepLength\n",
    "        y =  DownAMP * np.sin(np.pi * CurrentPercent / StancePercent) + StanceHeight\n",
    "    else: # swing phase front foot\n",
    "        x = (StepLength / 2) - ((CurrentPercent - StancePercent) / SwingPercent) * StepLength\n",
    "        y = -UpperAMP * np.sin(np.pi * (CurrentPercent - StancePercent) / SwingPercent) + StanceHeight\n",
    "\n",
    "    return np.array([[x], [y]])\n",
    "\n",
    "def SineTrajectory4(DownAMP=0.01, UpperAMP=0.1, StanceHeight=0.18, StepLength=0.15):\n",
    "    \n",
    "    StancePercent = 0.5\n",
    "    SwingPercent = 1 - StancePercent\n",
    "\n",
    "    t_iteration = 2\n",
    "    t_real = time.time()\n",
    "    t_cycle = t_real % 2\n",
    "    CurrentPercent = t_cycle / t_iteration\n",
    "    if (CurrentPercent <= StancePercent): # stance phase front foot\n",
    "        x = -(StepLength / 2) + (CurrentPercent / StancePercent) * StepLength\n",
    "        y = -UpperAMP * np.sin(np.pi * (CurrentPercent / StancePercent)) + StanceHeight\n",
    "    else: # swing phase front foot\n",
    "        x = (StepLength / 2) - ((CurrentPercent - StancePercent) / SwingPercent) * StepLength\n",
    "        y =  DownAMP * np.sin(np.pi * ((CurrentPercent - StancePercent) / SwingPercent)) + StanceHeight\n",
    "                              \n",
    "    return np.array([[x], [y]])"
   ]
  },
  {
   "cell_type": "markdown",
   "metadata": {},
   "source": [
    "# Define virtual compliance"
   ]
  },
  {
   "cell_type": "code",
   "execution_count": 44,
   "metadata": {},
   "outputs": [],
   "source": [
    "# stiffness coeff (currently can up to 100)\n",
    "kx = 60\n",
    "ky = 60\n",
    "k  = np.array([[kx,0],[0,ky]])\n",
    "# damping coeff\n",
    "cx = 0.5\n",
    "cy = 0.5\n",
    "c  = np.array([[cx,0],[0,cy]])\n",
    "# motor torque const\n",
    "Kt = 0.0285\n",
    "\n",
    "def cartesian_compliance_homePosition(theta_R, theta_L, vel_R, vel_L):\n",
    "    \n",
    "    J_trans  = -np.transpose(J_fast(theta_R, theta_L))  \n",
    "    disp     = FK_fast(theta_R, theta_L) - FK_fast(theta_R_eq, theta_L_eq) \n",
    "    vel      = J_fast(theta_R, theta_L) @ np.array([[vel_R], [vel_L]])\n",
    "    currents = J_trans @ ( k @ disp + c @ vel )*(1/Kt)\n",
    "    return currents \n",
    "\n",
    "def cartesian_compliance_sineTrajectory1(theta_R, theta_L, vel_R, vel_L):\n",
    "    \n",
    "    J_trans  = -np.transpose(J_fast(theta_R, theta_L))\n",
    "    disp     = FK_fast(theta_R, theta_L) - SineTrajectory1()   \n",
    "    vel      = J_fast(theta_R, theta_L) @ np.array([[vel_R], [vel_L]])\n",
    "    currents = J_trans @ ( k @ disp + c @ vel )*(1/Kt)\n",
    "    return currents \n",
    "\n",
    "def cartesian_compliance_sineTrajectory2(theta_R, theta_L, vel_R, vel_L):\n",
    "    \n",
    "    J_trans  = -np.transpose(J_fast(theta_R, theta_L))\n",
    "    disp     = FK_fast(theta_R, theta_L) - SineTrajectory2()   \n",
    "    vel      = J_fast(theta_R, theta_L) @ np.array([[vel_R], [vel_L]])\n",
    "    currents = J_trans @ ( k @ disp + c @ vel )*(1/Kt)\n",
    "    return currents \n",
    "\n",
    "def cartesian_compliance_sineTrajectory3(theta_R, theta_L, vel_R, vel_L):\n",
    "    \n",
    "    J_trans  = -np.transpose(J_fast(theta_R, theta_L))\n",
    "    disp     = FK_fast(theta_R, theta_L) - SineTrajectory3()   \n",
    "    vel      = J_fast(theta_R, theta_L) @ np.array([[vel_R], [vel_L]])\n",
    "    currents = J_trans @ ( k @ disp + c @ vel )*(1/Kt)\n",
    "    return currents \n",
    "\n",
    "def cartesian_compliance_sineTrajectory4(theta_R, theta_L, vel_R, vel_L):\n",
    "    \n",
    "    J_trans  = -np.transpose(J_fast(theta_R, theta_L))\n",
    "    disp     = FK_fast(theta_R, theta_L) - SineTrajectory4()   \n",
    "    vel      = J_fast(theta_R, theta_L) @ np.array([[vel_R], [vel_L]])\n",
    "    currents = J_trans @ ( k @ disp + c @ vel )*(1/Kt)\n",
    "    return currents \n"
   ]
  },
  {
   "cell_type": "markdown",
   "metadata": {},
   "source": [
    "# Control loop (each loop takes about 0.005s 200Hz)"
   ]
  },
  {
   "cell_type": "code",
   "execution_count": 50,
   "metadata": {
    "scrolled": true
   },
   "outputs": [
    {
     "name": "stdout",
     "output_type": "stream",
     "text": [
      "1256 iterations in 10 second\n",
      "Frequency: 125.6 Hz\n",
      "Current Control Mode :3\n",
      "Current Control Mode :3\n"
     ]
    }
   ],
   "source": [
    "ClosedLoopControlMode(odrv1)\n",
    "ClosedLoopControlMode(odrv2)\n",
    "\n",
    "t_start = time.time()\n",
    "duration = 10 #sec\n",
    "count = 0\n",
    "\n",
    "while (time.time() - t_start < duration):\n",
    "    \n",
    "    t0 = time.time()\n",
    "    \n",
    "    #current angle(rad) & velocity(rad/s)\n",
    "    odrv1_theta_R = - ((m0.encoder.pos_estimate - m0_home_pos) / 8192 * 2 * np.pi) + np.pi\n",
    "    odrv1_theta_L = - ((m1.encoder.pos_estimate - m1_home_pos) / 8192 * 2 * np.pi)\n",
    "    odrv2_theta_R = - ((m00.encoder.pos_estimate - m00_home_pos) / 8192 * 2 * np.pi) + np.pi\n",
    "    odrv2_theta_L = - ((m11.encoder.pos_estimate - m11_home_pos) / 8192 * 2 * np.pi)\n",
    "    \n",
    "    odrv1_vel_R = - ((m0.encoder.vel_estimate) / 8192 * 2 * np.pi)\n",
    "    odrv1_vel_L = - ((m1.encoder.vel_estimate) / 8192 * 2 * np.pi)\n",
    "    odrv2_vel_R = - ((m00.encoder.vel_estimate) / 8192 * 2 * np.pi)\n",
    "    odrv2_vel_L = - ((m11.encoder.vel_estimate) / 8192 * 2 * np.pi)\n",
    "    \n",
    "    #get current\n",
    "#     current = cartesian_compliance_homePosition(theta_R, theta_L, vel_R, vel_L)\n",
    "    joint_damping_R = 0.5\n",
    "    joint_damping_L = 0.5\n",
    "    \n",
    "    #get time right now\n",
    "    #t_cyclenow = (time.time()) %2\n",
    "    \n",
    "    # run the commands based on time\n",
    "    \n",
    "    odrv1_current = cartesian_compliance_sineTrajectory1(odrv1_theta_R, odrv1_theta_L, odrv1_vel_R, odrv1_vel_L)\n",
    "    odrv1_damping_current_R = np.array(joint_damping_R * odrv1_vel_R)\n",
    "    odrv1_damping_current_L = np.array(joint_damping_L * odrv1_vel_L)\n",
    "    odrv1_current_R = odrv1_current[0] - odrv1_damping_current_R\n",
    "    odrv1_current_L = odrv1_current[1] - odrv1_damping_current_L\n",
    "    \n",
    "    odrv2_current = cartesian_compliance_sineTrajectory2(odrv2_theta_R, odrv2_theta_L, odrv2_vel_R, odrv2_vel_L)\n",
    "    odrv2_damping_current_R = np.array(joint_damping_R * odrv2_vel_R)\n",
    "    odrv2_damping_current_L = np.array(joint_damping_L * odrv2_vel_L)\n",
    "    odrv2_current_R = odrv2_current[0] - odrv2_damping_current_R\n",
    "    odrv2_current_L = odrv2_current[1] - odrv2_damping_current_L\n",
    "\n",
    "    #make sure the current is not exceeds the limit\n",
    "    odrv1_current_R = MaxCurrentProtection(odrv1_current_R)\n",
    "    odrv1_current_L = MaxCurrentProtection(odrv1_current_L)\n",
    "    odrv2_current_R = MaxCurrentProtection(odrv2_current_R)\n",
    "    odrv2_current_L = MaxCurrentProtection(odrv2_current_L)\n",
    "    \n",
    "    #control the motors\n",
    "    m0.controller.set_current_setpoint(-odrv1_current_R)\n",
    "    m1.controller.set_current_setpoint(-odrv1_current_L)\n",
    "    m00.controller.set_current_setpoint(-odrv2_current_R)\n",
    "    m11.controller.set_current_setpoint(-odrv2_current_L)\n",
    "    \n",
    "    count += 1\n",
    "\n",
    "    t1 = time.time()\n",
    "    time_spent = t1 - t0\n",
    "#     print(time_spent)\n",
    "#     time.sleep(0.01 - time_spent)\n",
    "\n",
    "print(count,'iterations in', duration, 'second')\n",
    "print(\"Frequency:\", count/duration, 'Hz')\n",
    "\n",
    "m0.controller.set_current_setpoint(0)\n",
    "m1.controller.set_current_setpoint(0)\n",
    "m00.controller.set_current_setpoint(0)\n",
    "m11.controller.set_current_setpoint(0)\n",
    "\n",
    "ControllerPositionControl(odrv1)\n",
    "ControllerPositionControl(odrv2)\n",
    "\n",
    "ClosedLoopControlMode(odrv1)\n",
    "ClosedLoopControlMode(odrv2)\n",
    "    "
   ]
  },
  {
   "cell_type": "code",
   "execution_count": 48,
   "metadata": {},
   "outputs": [],
   "source": [
    "IdleMode(odrv1)\n",
    "IdleMode(odrv2)"
   ]
  },
  {
   "cell_type": "code",
   "execution_count": null,
   "metadata": {},
   "outputs": [],
   "source": [
    "m0.controller.config.control_mode = 3\n",
    "m1.controller.config.control_mode = 3\n",
    "m00.controller.config.control_mode = 3\n",
    "m11.controller.config.control_mode = 3\n",
    "ClosedLoopControlMode(odrv1)\n",
    "ClosedLoopControlMode(odrv2)"
   ]
  },
  {
   "cell_type": "code",
   "execution_count": null,
   "metadata": {},
   "outputs": [],
   "source": []
  }
 ],
 "metadata": {
  "kernelspec": {
   "display_name": "Python 3",
   "language": "python",
   "name": "python3"
  },
  "language_info": {
   "codemirror_mode": {
    "name": "ipython",
    "version": 3
   },
   "file_extension": ".py",
   "mimetype": "text/x-python",
   "name": "python",
   "nbconvert_exporter": "python",
   "pygments_lexer": "ipython3",
   "version": "3.7.4"
  }
 },
 "nbformat": 4,
 "nbformat_minor": 2
}
