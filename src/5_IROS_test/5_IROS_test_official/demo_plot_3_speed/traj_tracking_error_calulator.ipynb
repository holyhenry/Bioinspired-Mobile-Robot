{
 "cells": [
  {
   "cell_type": "markdown",
   "metadata": {},
   "source": [
    "# Forward Kinematics "
   ]
  },
  {
   "cell_type": "code",
   "execution_count": 28,
   "metadata": {},
   "outputs": [],
   "source": [
    "import numpy as np\n",
    "import sympy as sp\n",
    "from sympy.utilities.lambdify import lambdify\n",
    "import matplotlib.pyplot as plt\n",
    "\n",
    "(thetaL_sym, thetaR_sym) = sp.symbols(\"\"\"thetaL_sym thetaR_sym \"\"\", real = True)\n",
    "\n",
    "def T(theta, x, y):\n",
    "    return sp.Matrix([[sp.cos(theta), -sp.sin(theta), x], \n",
    "                      [sp.sin(theta), sp.cos(theta), y],\n",
    "                      [0, 0, 1]])\n",
    "\n",
    "l1 = 0.09\n",
    "l2 = 0.16\n",
    "w  = 0.07\n",
    "\n",
    "x_r = -w/2 + l1*sp.cos(thetaR_sym)\n",
    "x_l = w/2 + l1*sp.cos(thetaL_sym)\n",
    "\n",
    "y_r = l1*sp.sin(thetaR_sym)\n",
    "y_l = l1*sp.sin(thetaL_sym)\n",
    "\n",
    "theta3_sym = sp.atan2(y_l - y_r, x_l - x_r)\n",
    "L = sp.sqrt((x_l - x_r)**2 + (y_l - y_r)**2)\n",
    "\n",
    "FK = T(thetaL_sym, w/2, 0)@T((sp.pi - thetaL_sym + theta3_sym), l1, 0)@sp.Matrix([L/2, -sp.sqrt(l2**2 - (L/2)**2), 1])\n",
    "FK = FK[:2,:]\n",
    "FK_fast = lambdify((thetaR_sym, thetaL_sym), FK) # (x,y) = FK_fast(thetaR,thetaL)\n",
    "\n",
    "J = FK.jacobian([thetaR_sym, thetaL_sym]).evalf()\n",
    "J_fast = lambdify((thetaR_sym, thetaL_sym), J) # J_fast(thetaR,thetaL)"
   ]
  },
  {
   "cell_type": "code",
   "execution_count": 35,
   "metadata": {},
   "outputs": [
    {
     "name": "stdout",
     "output_type": "stream",
     "text": [
      "# Data x, y, m0_set, m1_set, m0_measured, m1_measured\n",
      "\n",
      "demo_txt/Aniso_Cur_demo_t_0.5_k_40.txt  loaded\n",
      "\n"
     ]
    },
    {
     "data": {
      "text/plain": [
       "[<matplotlib.lines.Line2D at 0x7f9027e1c790>]"
      ]
     },
     "execution_count": 35,
     "metadata": {},
     "output_type": "execute_result"
    },
    {
     "data": {
      "image/png": "[encoded data removed]",
      "text/plain": [
       "<Figure size 432x288 with 1 Axes>"
      ]
     },
     "metadata": {
      "needs_background": "light"
     },
     "output_type": "display_data"
    }
   ],
   "source": [
    "path = 'demo_txt/Aniso_Cur_demo_t_0.5_k_40.txt'\n",
    "f = None\n",
    "try:\n",
    "    f = open(path, 'r')\n",
    "    text = []\n",
    "    for line in f.readlines():\n",
    "        text.append(line)\n",
    "    print(text.pop(0))\n",
    "    print(path,\" loaded\\n\")\n",
    "except IOError:\n",
    "    print('ERROR: can not found ' + path)\n",
    "    if f:\n",
    "        f.close()\n",
    "finally:\n",
    "    if f:\n",
    "        f.close()\n",
    "\n",
    "x = []\n",
    "y = []\n",
    "x_set_rad = []\n",
    "y_set_rad = []\n",
    "x_measured = []\n",
    "y_measured = []\n",
    "\n",
    "for i in range(len(text)):\n",
    "    m0_set_rad = - (np.array(text[i].split(\",\"), dtype=np.float64)[2] / 8192 * np.pi) + np.pi\n",
    "    m1_set_rad = - (np.array(text[i].split(\",\"), dtype=np.float64)[3] / 8192 * np.pi)\n",
    "    m0_measured = np.array(text[i].split(\",\"), dtype=np.float64)[4]\n",
    "    m1_measured = np.array(text[i].split(\",\"), dtype=np.float64)[5]\n",
    "        \n",
    "    x.append(np.array(text[i].split(\",\"), dtype=np.float64)[0])\n",
    "    y.append(np.array(text[i].split(\",\"), dtype=np.float64)[1])\n",
    "    x_set.append(FK_fast(m0_set_rad, m1_set_rad)[0])\n",
    "    y_set.append(FK_fast(m0_set_rad, m1_set_rad)[1])\n",
    "\n",
    "\n",
    "# print(m0_set, m1_set)\n",
    "# print(x_set[-1], y_set[-1])\n",
    "# print(FK_fast(1.786682724952697754e+00,3.364640474319458008e-01))\n",
    "plt.plot(x, y)\n",
    "plt.plot(x_set, y_set)"
   ]
  },
  {
   "cell_type": "code",
   "execution_count": null,
   "metadata": {},
   "outputs": [],
   "source": [
    "print(text[1])"
   ]
  },
  {
   "cell_type": "code",
   "execution_count": null,
   "metadata": {},
   "outputs": [],
   "source": []
  }
 ],
 "metadata": {
  "kernelspec": {
   "display_name": "Python 3",
   "language": "python",
   "name": "python3"
  },
  "language_info": {
   "codemirror_mode": {
    "name": "ipython",
    "version": 3
   },
   "file_extension": ".py",
   "mimetype": "text/x-python",
   "name": "python",
   "nbconvert_exporter": "python",
   "pygments_lexer": "ipython3",
   "version": "3.7.4"
  }
 },
 "nbformat": 4,
 "nbformat_minor": 2
}
