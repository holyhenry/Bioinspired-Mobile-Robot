{
 "cells": [
  {
   "cell_type": "code",
   "execution_count": 1,
   "metadata": {},
   "outputs": [],
   "source": [
    "import odrive\n",
    "from odrive.enums import *\n",
    "import time\n",
    "import math\n",
    "import numpy as np\n",
    "import sympy as sp\n",
    "from sympy.utilities.lambdify import lambdify\n",
    "import matplotlib.pyplot as plt\n",
    "plt.ion()\n",
    "import matplotlib as mpl\n",
    "mpl.use('Qt5Agg')\n",
    "from scipy.optimize import minimize"
   ]
  },
  {
   "cell_type": "markdown",
   "metadata": {},
   "source": [
    "# FK & IK"
   ]
  },
  {
   "cell_type": "code",
   "execution_count": 2,
   "metadata": {},
   "outputs": [],
   "source": [
    "(thetaL_sym, thetaR_sym) = sp.symbols(\"\"\"thetaL_sym thetaR_sym \"\"\", real = True)\n",
    "\n",
    "def T(theta, x, y):\n",
    "    return sp.Matrix([[sp.cos(theta), -sp.sin(theta), x], \n",
    "                      [sp.sin(theta), sp.cos(theta), y],\n",
    "                      [0, 0, 1]])\n",
    "\n",
    "l1 = 0.09\n",
    "l2 = 0.16\n",
    "w  = 0.07\n",
    "\n",
    "x_r = -w/2 + l1*sp.cos(thetaR_sym)\n",
    "x_l = w/2 + l1*sp.cos(thetaL_sym)\n",
    "\n",
    "y_r = l1*sp.sin(thetaR_sym)\n",
    "y_l = l1*sp.sin(thetaL_sym)\n",
    "\n",
    "theta3_sym = sp.atan2(y_l - y_r, x_l - x_r)\n",
    "L = sp.sqrt((x_l - x_r)**2 + (y_l - y_r)**2)\n",
    "\n",
    "FK = T(thetaL_sym, w/2, 0)@T((sp.pi - thetaL_sym + theta3_sym), l1, 0)@sp.Matrix([L/2, -sp.sqrt(l2**2 - (L/2)**2), 1])\n",
    "FK = FK[:2,:]\n",
    "FK_fast = lambdify((thetaR_sym, thetaL_sym), FK) # (x,y) = FK_fast(thetaR,thetaL)\n",
    "\n",
    "J = FK.jacobian([thetaR_sym, thetaL_sym]).evalf()\n",
    "J_fast = lambdify((thetaR_sym, thetaL_sym), J) # J_fast(thetaR,thetaL)\n",
    "\n",
    "def IK_5_link(x, y, l1 = 0.09, l2 = 0.16, w = 0.07):\n",
    "\n",
    "    def leg_wide(var):\n",
    "        return np.linalg.norm([var[0], var[1] - np.pi]) \n",
    "\n",
    "    def x_constraint_equation(var):\n",
    "    # should be equal to zero when the \n",
    "        return l1**2 - l2**2 + (x - w/2)**2 + y**2 - 2*l1*(y*np.sin(var[0]) + (x - w/2)*np.cos(var[0]))\n",
    "\n",
    "    def y_constraint_equation(var):\n",
    "        return l1**2 - l2**2 + (x + w/2)**2 + y**2 - 2*l1*(y*np.sin(var[1]) + (x + w/2)*np.cos(var[1]))\n",
    "\n",
    "    res = minimize(leg_wide, (0.1, 9*np.pi/10), method=\"SLSQP\", constraints= ({\"type\": \"eq\", \"fun\": x_constraint_equation}, \n",
    "                                                                              {\"type\": \"eq\", \"fun\": y_constraint_equation}))\n",
    "    return (res.x[0], res.x[1])"
   ]
  },
  {
   "cell_type": "markdown",
   "metadata": {},
   "source": [
    "## Connect to Odrive"
   ]
  },
  {
   "cell_type": "code",
   "execution_count": 4,
   "metadata": {},
   "outputs": [
    {
     "name": "stdout",
     "output_type": "stream",
     "text": [
      "Connected!\n",
      "Target serial 335C315E3536 \t Odrive serial 56471058265398\n",
      "Motor 0 calibrated: True\n",
      "Motor 1 calibrated: True\n"
     ]
    }
   ],
   "source": [
    "def connect_odrive(serial):\n",
    "    odrv0 = odrive.find_any(serial_number = serial, timeout = 20)\n",
    "    if odrv0 is not None:\n",
    "        print('Connected!')\n",
    "        print('Target serial {} \\t Odrive serial {}'.format(serial, odrv0.serial_number))\n",
    "        print('Motor 0 calibrated: {}'.format(odrv0.axis0.motor.is_calibrated))\n",
    "        print('Motor 1 calibrated: {}'.format(odrv0.axis1.motor.is_calibrated))    \n",
    "    else:\n",
    "        print(\"ODrive ({}) not found\".format(serial))\n",
    "    return odrv0\n",
    "\n",
    "odrv1 = connect_odrive(\"335C315E3536\")\n",
    "# odrv1 = connect_odrive(\"206A33A5304B\")\n",
    "\n",
    "m0  = odrv1.axis0\n",
    "m1  = odrv1.axis1"
   ]
  },
  {
   "cell_type": "markdown",
   "metadata": {},
   "source": [
    "## Configuration Setup"
   ]
  },
  {
   "cell_type": "code",
   "execution_count": 5,
   "metadata": {},
   "outputs": [],
   "source": [
    "def SetParameter(odrv0):\n",
    "    current_limit = 20\n",
    "    odrv0.axis0.motor.config.current_lim    = current_limit #A\n",
    "    odrv0.axis1.motor.config.current_lim    = current_limit #A\n",
    "    odrv0.axis0.controller.config.vel_limit = 1000000\n",
    "    odrv0.axis1.controller.config.vel_limit = 1000000\n",
    "    odrv0.axis0.controller.config.pos_gain  = 60\n",
    "    odrv0.axis1.controller.config.pos_gain  = 60\n",
    "    odrv0.axis0.controller.config.vel_integrator_gain = 0.0001\n",
    "    odrv0.axis1.controller.config.vel_integrator_gain = 0.0001\n",
    "    return(current_limit)\n",
    "\n",
    "def CheckMotorError(odrv0):\n",
    "    axis0error = odrv0.axis0.error \n",
    "    axis1error = odrv0.axis1.error \n",
    "    axis0motorerror = odrv0.axis0.motor.error \n",
    "    axis1motorerror = odrv0.axis1.motor.error \n",
    "    axis0controllererror = odrv0.axis0.controller.error \n",
    "    axis1controllererror = odrv0.axis0.controller.error \n",
    "    print(\"error:          \", axis0error, axis1error)\n",
    "    print(\"motorerror:     \", axis0motorerror, axis1motorerror)\n",
    "    print(\"controllererror:\", axis0controllererror, axis1controllererror)\n",
    "    return()\n",
    "\n",
    "def MotorClearError(odrv0):\n",
    "    odrv0.axis0.error = 0\n",
    "    odrv0.axis1.error = 0\n",
    "    odrv0.axis0.motor.error = 0\n",
    "    odrv0.axis1.motor.error = 0\n",
    "    odrv0.axis0.controller.error = 0\n",
    "    odrv0.axis1.controller.error = 0\n",
    "    odrv0.axis0.encoder.error = 0\n",
    "    odrv0.axis1.encoder.error = 0\n",
    "    return()"
   ]
  },
  {
   "cell_type": "code",
   "execution_count": 6,
   "metadata": {},
   "outputs": [
    {
     "name": "stdout",
     "output_type": "stream",
     "text": [
      "Parameter Set!\n"
     ]
    }
   ],
   "source": [
    "SetParameter(odrv1)\n",
    "print(\"Parameter Set!\")"
   ]
  },
  {
   "cell_type": "code",
   "execution_count": 7,
   "metadata": {},
   "outputs": [
    {
     "name": "stdout",
     "output_type": "stream",
     "text": [
      "odrive1\n",
      "error:           0 0\n",
      "motorerror:      0 0\n",
      "controllererror: 0 0\n",
      "Error Clear!\n"
     ]
    }
   ],
   "source": [
    "print(\"odrive1\")\n",
    "CheckMotorError(odrv1)\n",
    "MotorClearError(odrv1)\n",
    "print(\"Error Clear!\")"
   ]
  },
  {
   "cell_type": "markdown",
   "metadata": {},
   "source": [
    "## Motor Command"
   ]
  },
  {
   "cell_type": "code",
   "execution_count": 8,
   "metadata": {},
   "outputs": [],
   "source": [
    "def Calibration(odrv0):\n",
    "    odrv0.axis0.requested_state = AXIS_STATE_FULL_CALIBRATION_SEQUENCE\n",
    "    odrv0.axis1.requested_state = AXIS_STATE_FULL_CALIBRATION_SEQUENCE\n",
    "    print('Motor 0 calibrated: {}'.format(odrv0.axis0.motor.is_calibrated))\n",
    "    print('Motor 1 calibrated: {}'.format(odrv0.axis1.motor.is_calibrated))   \n",
    "\n",
    "def ClosedLoopControlMode(odrv0):\n",
    "    odrv0.axis0.requested_state = AXIS_STATE_CLOSED_LOOP_CONTROL\n",
    "    odrv0.axis1.requested_state = AXIS_STATE_CLOSED_LOOP_CONTROL\n",
    "\n",
    "def IdleMode(odrv0):\n",
    "    odrv0.axis0.requested_state = odrive.enums.AXIS_STATE_IDLE\n",
    "    odrv0.axis1.requested_state = odrive.enums.AXIS_STATE_IDLE\n",
    "\n",
    "def ControllerPositionControl(odrv0): # default mode\n",
    "    odrv0.axis0.controller.config.control_mode = CTRL_MODE_POSITION_CONTROL\n",
    "    odrv0.axis1.controller.config.control_mode = CTRL_MODE_POSITION_CONTROL\n",
    "#     print(\"Control Mode :{}\".format(odrv0.axis0.controller.config.control_mode))\n",
    "\n",
    "def ControllerCurrentControl(odrv0):\n",
    "    odrv0.axis0.controller.config.control_mode = CTRL_MODE_CURRENT_CONTROL\n",
    "    odrv0.axis1.controller.config.control_mode = CTRL_MODE_CURRENT_CONTROL\n",
    "#     print(\"Control Mode :{}\".format(odrv0.axis0.controller.config.control_mode))\n",
    "\n",
    "def MaxCurrentProtection(current, current_limit = 20):\n",
    "    current = min(np.abs(current), current_limit) * np.sign(current) \n",
    "    return(current)"
   ]
  },
  {
   "cell_type": "code",
   "execution_count": null,
   "metadata": {},
   "outputs": [],
   "source": [
    "Calibration(odrv1)"
   ]
  },
  {
   "cell_type": "code",
   "execution_count": 9,
   "metadata": {},
   "outputs": [],
   "source": [
    "ClosedLoopControlMode(odrv1)"
   ]
  },
  {
   "cell_type": "code",
   "execution_count": 10,
   "metadata": {},
   "outputs": [],
   "source": [
    "IdleMode(odrv1)"
   ]
  },
  {
   "cell_type": "markdown",
   "metadata": {},
   "source": [
    "## Define zero angle"
   ]
  },
  {
   "cell_type": "code",
   "execution_count": 11,
   "metadata": {},
   "outputs": [
    {
     "name": "stdout",
     "output_type": "stream",
     "text": [
      "-409.000732421875\n",
      "1363.7530517578125\n"
     ]
    }
   ],
   "source": [
    "m0_home_pos = m0.encoder.pos_estimate\n",
    "m1_home_pos = m1.encoder.pos_estimate\n",
    "theta_R_home = -((m0_home_pos) / 8192 * 2 * np.pi) + np.pi\n",
    "theta_L_home = -((m1_home_pos) / 8192 * 2 * np.pi)\n",
    "print(m0_home_pos)\n",
    "print(m1_home_pos)"
   ]
  },
  {
   "cell_type": "markdown",
   "metadata": {},
   "source": [
    "## Define home location"
   ]
  },
  {
   "cell_type": "code",
   "execution_count": 12,
   "metadata": {},
   "outputs": [
    {
     "name": "stdout",
     "output_type": "stream",
     "text": [
      "Odrv1 \n",
      "R: 139.5263671875 \n",
      "L: 39.6826171875\n"
     ]
    }
   ],
   "source": [
    "m0_equilibrium_toe_pos = m0.encoder.pos_estimate\n",
    "m1_equilibrium_toe_pos = m1.encoder.pos_estimate\n",
    "theta_R_eq = - ((m0_equilibrium_toe_pos - m0_home_pos) / 8192 * 2 * np.pi) + np.pi\n",
    "theta_L_eq = - ((m1_equilibrium_toe_pos - m1_home_pos) / 8192 * 2 * np.pi)\n",
    "theta_R_eq_d = theta_R_eq / (2 * np.pi) * 360\n",
    "theta_L_eq_d = theta_L_eq / (2 * np.pi) * 360\n",
    "print(\"Odrv1 \\nR:\", theta_R_eq_d, \"\\nL:\", theta_L_eq_d)"
   ]
  },
  {
   "cell_type": "markdown",
   "metadata": {},
   "source": [
    "## Space Convertor"
   ]
  },
  {
   "cell_type": "code",
   "execution_count": 13,
   "metadata": {},
   "outputs": [],
   "source": [
    "def get_joint_angle(m0_home_pos, m1_home_pos):\n",
    "    \n",
    "    thetaR = -((m0.encoder.pos_estimate - m0_home_pos) / 8192 * 2 * np.pi) + np.pi\n",
    "    thetaL = -((m1.encoder.pos_estimate - m1_home_pos) / 8192 * 2 * np.pi)\n",
    "    \n",
    "    return np.array([[thetaR],[thetaL]])\n",
    "\n",
    "def get_encoder_unit(m0_home_pos, m1_home_pos, theta_R, theta_L):\n",
    "    \n",
    "    m0_pos = -(theta_R - np.pi)/(2*np.pi)*8192 + m0_home_pos\n",
    "    m1_pos = -theta_L/(2*np.pi)*8192 + m1_home_pos \n",
    "    \n",
    "    return np.array([[m0_pos],[m1_pos]])\n",
    "\n",
    "def from_joint_get_pos(m0_home_pos, m1_home_pos): #return current xy\n",
    "    \n",
    "    thetaR = - ((m0.encoder.pos_estimate - m0_home_pos) / 8192 * 2 * np.pi) + np.pi\n",
    "    thetaL = - ((m1.encoder.pos_estimate - m1_home_pos) / 8192 * 2 * np.pi)\n",
    "\n",
    "    x = FK_fast(thetaR, thetaL)[0]\n",
    "    y = FK_fast(thetaR, thetaL)[1]\n",
    "    \n",
    "    return np.array([x, y])\n",
    "\n",
    "def from_pos_get_joint(x, y, m0_home_pos, m1_home_pos): #xy ->encoder\n",
    "\n",
    "    theta_R = IK_5_link(x, y)[1]\n",
    "    theta_L = IK_5_link(x, y)[0]\n",
    "    \n",
    "    m0_pos = -(theta_R - np.pi)/(2*np.pi)*8192 + m0_home_pos\n",
    "    m1_pos = -theta_L/(2*np.pi)*8192 + m1_home_pos\n",
    "    \n",
    "    return np.array([m0_pos, m1_pos])"
   ]
  },
  {
   "cell_type": "markdown",
   "metadata": {},
   "source": [
    "## Trajactory Generator"
   ]
  },
  {
   "cell_type": "code",
   "execution_count": 14,
   "metadata": {},
   "outputs": [],
   "source": [
    "def SwingTrajectory(t_clock, UpperAMP = 0.07, StanceHeight = 0.185, StepLength = 0.18):\n",
    "    \n",
    "    period = 2\n",
    "    percent = t_clock / period\n",
    "\n",
    "    if (percent <= 1): # Swing\n",
    "        x = -(StepLength / 2) + percent * StepLength\n",
    "        y = -UpperAMP * np.sin(np.pi * percent) + StanceHeight  \n",
    "        \n",
    "    else: # Stay and do nothing\n",
    "        x = StepLength / 2\n",
    "        y = StanceHeight\n",
    "\n",
    "    return np.array([[x], [y]])\n",
    "\n",
    "def GoHomeTrajactory(t_clock, StanceHeight = 0.185, StepLength = 0.18, LiftHeight = 0.09):\n",
    "\n",
    "    period = 4   \n",
    "    percent = t_clock / period\n",
    "\n",
    "    if percent >= 0 and percent < 0.25:\n",
    "        x = StepLength / 2\n",
    "        y = -(percent / 0.25) * LiftHeight + StanceHeight\n",
    "        \n",
    "    elif percent >= 0.25 and percent < 0.75:\n",
    "        x = StepLength / 2 - ((percent - 0.25) / 0.5) * StepLength\n",
    "        y = -LiftHeight + StanceHeight\n",
    "        \n",
    "    elif percent >= 0.75 and percent <= 1:\n",
    "        x = -StepLength / 2\n",
    "        y = -LiftHeight + StanceHeight + ((percent - 0.75) / 0.25) * LiftHeight \n",
    "        \n",
    "    else:\n",
    "        x = -StepLength / 2\n",
    "        y = StanceHeight\n",
    "\n",
    "    return np.array([[x], [y]])"
   ]
  },
  {
   "cell_type": "markdown",
   "metadata": {},
   "source": [
    "## Run test"
   ]
  },
  {
   "cell_type": "code",
   "execution_count": 15,
   "metadata": {},
   "outputs": [],
   "source": [
    "%matplotlib qt"
   ]
  },
  {
   "cell_type": "code",
   "execution_count": 16,
   "metadata": {},
   "outputs": [],
   "source": [
    "def run_step_test(test_cycle, pause_time = 2, swing_time = 2, gohome_time = 4):\n",
    "    \n",
    "    ClosedLoopControlMode(odrv1)\n",
    "    \n",
    "    x = []\n",
    "    y = []\n",
    "    x_real = []\n",
    "    y_real = []\n",
    "    \n",
    "    count = 0\n",
    "    while count < test_cycle:\n",
    "        '''\n",
    "        Pausing =================================================================================\n",
    "        '''\n",
    "        t_pause_start = time.time()\n",
    "        while time.time() - t_pause_start < pause_time:\n",
    "\n",
    "            pass\n",
    "        '''\n",
    "        Swing Trajactory ========================================================================\n",
    "        '''\n",
    "        t_swing_start = time.time()\n",
    "        while time.time() - t_swing_start < swing_time:\n",
    "\n",
    "            t_clock = time.time() - t_swing_start\n",
    "            odrv1_theta_R = IK_5_link(SwingTrajectory(t_clock)[0],SwingTrajectory(t_clock)[1])[1]\n",
    "            odrv1_theta_L = IK_5_link(SwingTrajectory(t_clock)[0],SwingTrajectory(t_clock)[1])[0]\n",
    "            \n",
    "            m0_pos = -(odrv1_theta_R - np.pi)/(2*np.pi)*8192 + m0_home_pos\n",
    "            m1_pos = -odrv1_theta_L/(2*np.pi)*8192 + m1_home_pos\n",
    "            \n",
    "            m0.controller.set_pos_setpoint(m0_pos,0,0)\n",
    "            m1.controller.set_pos_setpoint(m1_pos,0,0)\n",
    "            \n",
    "            #plotting-----------------------------------------------------------------------------\n",
    "            x.append(SwingTrajectory(t_clock)[0])\n",
    "            y.append(SwingTrajectory(t_clock)[1])\n",
    "            \n",
    "            real_thetaR = - ((m0.encoder.pos_estimate - m0_home_pos) / 8192 * 2 * np.pi) + np.pi\n",
    "            real_thetaL = - ((m1.encoder.pos_estimate - m1_home_pos) / 8192 * 2 * np.pi)\n",
    "            \n",
    "            x_real.append(FK_fast(real_thetaR, real_thetaL)[0])\n",
    "            y_real.append(FK_fast(real_thetaR, real_thetaL)[1])\n",
    "        '''\n",
    "        Pausing =================================================================================\n",
    "        '''\n",
    "        ClosedLoopControlMode(odrv1)\n",
    "        t_pause_start = time.time()\n",
    "        while time.time() - t_pause_start < pause_time:\n",
    "\n",
    "            pass\n",
    "        '''\n",
    "        Going Home Trajactory =====================================================================\n",
    "        '''\n",
    "        t_gohome_start = time.time()\n",
    "        while time.time() - t_gohome_start < gohome_time:\n",
    "\n",
    "            t_clock = time.time() - t_gohome_start\n",
    "            odrv1_theta_R = IK_5_link(GoHomeTrajactory(t_clock)[0],GoHomeTrajactory(t_clock)[1])[1]\n",
    "            odrv1_theta_L = IK_5_link(GoHomeTrajactory(t_clock)[0],GoHomeTrajactory(t_clock)[1])[0] \n",
    "            \n",
    "            m0_pos = -(odrv1_theta_R - np.pi)/(2*np.pi)*8192 + m0_home_pos\n",
    "            m1_pos = -odrv1_theta_L/(2*np.pi)*8192 + m1_home_pos\n",
    "            \n",
    "            m0.controller.set_pos_setpoint(m0_pos,0,0)\n",
    "            m1.controller.set_pos_setpoint(m1_pos,0,0)\n",
    "            \n",
    "            #plotting-----------------------------------------------------------------------------\n",
    "            x.append(GoHomeTrajactory(t_clock)[0])\n",
    "            y.append(GoHomeTrajactory(t_clock)[1])    \n",
    "            \n",
    "            real_thetaR = - ((m0.encoder.pos_estimate - m0_home_pos) / 8192 * 2 * np.pi) + np.pi\n",
    "            real_thetaL = - ((m1.encoder.pos_estimate - m1_home_pos) / 8192 * 2 * np.pi)\n",
    "            \n",
    "            x_real.append(FK_fast(real_thetaR, real_thetaL)[0])\n",
    "            y_real.append(FK_fast(real_thetaR, real_thetaL)[1])\n",
    "\n",
    "        count += 1\n",
    "        print(\"test cycle:\",count)\n",
    "        \n",
    "        return x, y, x_real, y_real"
   ]
  },
  {
   "cell_type": "code",
   "execution_count": 17,
   "metadata": {},
   "outputs": [
    {
     "name": "stdout",
     "output_type": "stream",
     "text": [
      "test cycle: 1\n",
      "test cycle: 2\n",
      "test cycle: 3\n",
      "test cycle: 4\n",
      "test cycle: 5\n",
      "test cycle: 6\n",
      "test cycle: 7\n",
      "test cycle: 8\n",
      "test cycle: 9\n",
      "test cycle: 10\n",
      "test cycle: 11\n",
      "test cycle: 12\n",
      "test cycle: 13\n",
      "test cycle: 14\n",
      "test cycle: 15\n",
      "test cycle: 16\n",
      "test cycle: 17\n",
      "test cycle: 18\n",
      "test cycle: 19\n",
      "test cycle: 20\n",
      "test cycle: 21\n",
      "test cycle: 22\n",
      "test cycle: 23\n",
      "test cycle: 24\n",
      "test cycle: 25\n",
      "test cycle: 26\n",
      "test cycle: 27\n",
      "test cycle: 28\n",
      "test cycle: 29\n",
      "test cycle: 30\n",
      "test cycle: 31\n",
      "test cycle: 32\n",
      "test cycle: 33\n",
      "test cycle: 34\n",
      "test cycle: 35\n",
      "test cycle: 36\n",
      "test cycle: 37\n",
      "test cycle: 38\n",
      "test cycle: 39\n",
      "test cycle: 40\n",
      "time spent:400.71169424057007sec\n"
     ]
    },
    {
     "name": "stderr",
     "output_type": "stream",
     "text": [
      "The PostScript backend does not support transparency; partially transparent artists will be rendered opaque.\n",
      "The PostScript backend does not support transparency; partially transparent artists will be rendered opaque.\n"
     ]
    }
   ],
   "source": [
    "t0 = time.time()\n",
    "x, y, x_real, y_real = run_step_test(40)\n",
    "t = time.time() - t0\n",
    "print(\"time spent:{}sec\".format(t))\n",
    "\n",
    "IdleMode(odrv1)"
   ]
  },
  {
   "cell_type": "code",
   "execution_count": null,
   "metadata": {},
   "outputs": [],
   "source": [
    "plt.plot(x,y)\n",
    "plt.plot(x_real,y_real)\n",
    "plt.xlim(0.1, -0.1)\n",
    "plt.ylim(0.2, 0.09)\n",
    "plt.title(\"Pos step:{} cycles & vel_gain: {}\".format(test_cycle, odrv1.axis0.controller.config.vel_integrator_gain))\n",
    "plt.legend(['set point','real point'])\n",
    "plt.xlabel('x(m)')\n",
    "plt.ylabel('y(m)')\n",
    "plt.show()"
   ]
  },
  {
   "cell_type": "markdown",
   "metadata": {},
   "source": [
    "## Run compliance mode"
   ]
  },
  {
   "cell_type": "code",
   "execution_count": null,
   "metadata": {},
   "outputs": [],
   "source": [
    "ControllerCurrentControl(odrv1)"
   ]
  },
  {
   "cell_type": "code",
   "execution_count": null,
   "metadata": {},
   "outputs": [],
   "source": [
    "\"\"\"\n",
    "k = [kx,0 ]  c = [cx,0 ]\n",
    "    [0 ,ky]      [0 ,cy]\n",
    "\n",
    "\"\"\"\n",
    "\n",
    "def compliance_swing(theta_R, theta_L, vel_R, vel_L, t_swing_start):\n",
    "    \n",
    "    t_clock = time.time() - t_swing_start\n",
    "    disp    = FK_fast(theta_R, theta_L) - SwingTrajectory(t_clock) \n",
    "    \n",
    "    Kt = 0.0285\n",
    "    c  = np.array([[0.5,0],[0,0.5]])\n",
    "    k  = np.array([[100 ,0],[0,100 ]])\n",
    "\n",
    "    vel     = J_fast(theta_R, theta_L) @ np.array([[vel_R], [vel_L]])\n",
    "    current = -J_fast(theta_R, theta_L).T @ ( k @ disp + c @ vel )*(1/Kt)\n",
    "    \n",
    "    return current"
   ]
  },
  {
   "cell_type": "code",
   "execution_count": null,
   "metadata": {},
   "outputs": [],
   "source": [
    "%matplotlib qt"
   ]
  },
  {
   "cell_type": "code",
   "execution_count": null,
   "metadata": {},
   "outputs": [],
   "source": [
    "def run_compliance_step_test(test_cycle, pause_time = 2, swing_time = 2, gohome_time = 4):\n",
    "    \n",
    "    ClosedLoopControlMode(odrv1)\n",
    "\n",
    "    x = []\n",
    "    y = []\n",
    "    m0_i   = []\n",
    "    m1_i   = []\n",
    "    x_real = []\n",
    "    y_real = []\n",
    "    i_index = 0\n",
    "    \n",
    "    count = 0\n",
    "    while count < test_cycle:\n",
    "        '''\n",
    "        Pausing =================================================================================\n",
    "        '''\n",
    "        t_pause_start = time.time()\n",
    "        while time.time() - t_pause_start < pause_time:\n",
    "\n",
    "            pass\n",
    "        '''\n",
    "        Swing Trajactory ========================================================================\n",
    "        '''\n",
    "        t_swing_start = time.time()\n",
    "        while time.time() - t_swing_start < swing_time:\n",
    "            \n",
    "            t_clock = time.time() - t_swing_start\n",
    "            theta_R = - ((m0.encoder.pos_estimate - m0_home_pos) / 8192 * 2 * np.pi) + np.pi\n",
    "            theta_L = - ((m1.encoder.pos_estimate - m1_home_pos) / 8192 * 2 * np.pi)\n",
    "            vel_R = - (m0.encoder.vel_estimate / 8192 * 2 * np.pi)\n",
    "            vel_L = - (m1.encoder.vel_estimate / 8192 * 2 * np.pi)\n",
    "             \n",
    "            current = compliance_swing(theta_R, theta_L, vel_R, vel_L, t_swing_start)\n",
    "            # Motor current = Current - Damp Current\n",
    "            m0_current_R = current[0] - np.array(0.5 * vel_R)\n",
    "            m1_current_L = current[1] - np.array(0.5 * vel_L)\n",
    "            \n",
    "            m0.controller.set_current_setpoint(-MaxCurrentProtection(m0_current_R))\n",
    "            m1.controller.set_current_setpoint(-MaxCurrentProtection(m1_current_L))\n",
    "            \n",
    "            #plotting-----------------------------------------------------------------------------\n",
    "            x.append(SwingTrajectory(t_clock)[0])\n",
    "            y.append(SwingTrajectory(t_clock)[1])\n",
    "            \n",
    "            real_thetaR = - ((m0.encoder.pos_estimate - m0_home_pos) / 8192 * 2 * np.pi) + np.pi\n",
    "            real_thetaL = - ((m1.encoder.pos_estimate - m1_home_pos) / 8192 * 2 * np.pi)\n",
    "            \n",
    "            x_real.append(FK_fast(real_thetaR, real_thetaL)[0])\n",
    "            y_real.append(FK_fast(real_thetaR, real_thetaL)[1])\n",
    "            \n",
    "            m0_i.append(MaxCurrentProtection(m0_current_R))\n",
    "            m1_i.append(MaxCurrentProtection(m1_current_L))\n",
    "            i_index += 1\n",
    "        '''\n",
    "        Pausing =================================================================================\n",
    "        '''\n",
    "        m0.controller.set_current_setpoint(0)\n",
    "        m1.controller.set_current_setpoint(0)\n",
    "        ControllerPositionControl(odrv1)\n",
    "        ClosedLoopControlMode(odrv1)\n",
    "        t_pause_start = time.time()\n",
    "        while time.time() - t_pause_start < pause_time:\n",
    "\n",
    "            pass\n",
    "        '''\n",
    "        Going Home Trajactory =====================================================================\n",
    "        '''\n",
    "        t_gohome_start = time.time()\n",
    "        while time.time() - t_gohome_start < gohome_time:\n",
    "\n",
    "            t_clock = time.time() - t_gohome_start\n",
    "            odrv1_theta_R = IK_5_link(GoHomeTrajactory(t_clock)[0],GoHomeTrajactory(t_clock)[1])[1]\n",
    "            odrv1_theta_L = IK_5_link(GoHomeTrajactory(t_clock)[0],GoHomeTrajactory(t_clock)[1])[0] \n",
    "            \n",
    "            m0_pos  = -(odrv1_theta_R - np.pi)/(2*np.pi)*8192 + m0_home_pos\n",
    "            m1_pos  = -odrv1_theta_L/(2*np.pi)*8192 + m1_home_pos\n",
    "            \n",
    "            m0.controller.set_pos_setpoint(m0_pos,0,0)\n",
    "            m1.controller.set_pos_setpoint(m1_pos,0,0)\n",
    "            \n",
    "            #plotting-----------------------------------------------------------------------------\n",
    "            x.append(GoHomeTrajactory(t_clock)[0])\n",
    "            y.append(GoHomeTrajactory(t_clock)[1])    \n",
    "            \n",
    "            real_thetaR = - ((m0.encoder.pos_estimate - m0_home_pos) / 8192 * 2 * np.pi) + np.pi\n",
    "            real_thetaL = - ((m1.encoder.pos_estimate - m1_home_pos) / 8192 * 2 * np.pi)\n",
    "            \n",
    "            x_real.append(FK_fast(real_thetaR, real_thetaL)[0])\n",
    "            y_real.append(FK_fast(real_thetaR, real_thetaL)[1])\n",
    "\n",
    "        count += 1\n",
    "        print(\"test cycle:\",count)\n",
    "        \n",
    "    fig1 = plt.plot(x,y)\n",
    "    fig1 = plt.plot(x_real,y_real)\n",
    "    plt.xlim(0.1, -0.1)\n",
    "    plt.ylim(0.2, 0.08)\n",
    "    plt.title(\"Run Compliance Step test: {} cycle\".format(test_cycle))\n",
    "    plt.legend(['set point','real point'])\n",
    "    plt.xlabel('x(m)')\n",
    "    plt.ylabel('y(m)')\n",
    "    fig1 = plt.show()\n",
    "    \n",
    "#     i = np.arange(i_index)\n",
    "#     fig2 = plt.plot(i,m0_i,'tab:red',linewidth=1)\n",
    "#     fig2 = plt.plot(i,m1_i,'tab:blue',linewidth=1)\n",
    "#     plt.title(\"Motor Current\")\n",
    "#     plt.legend(['m0','m1'])\n",
    "#     plt.xlabel('Loop count')\n",
    "#     plt.ylabel('Current (A)')\n",
    "#     fig2 = plt.show()"
   ]
  },
  {
   "cell_type": "code",
   "execution_count": null,
   "metadata": {},
   "outputs": [],
   "source": [
    "t0 = time.time()\n",
    "run_compliance_step_test(40)\n",
    "t = time.time() - t0\n",
    "print(\"time spent:{}sec\".format(t))"
   ]
  },
  {
   "cell_type": "code",
   "execution_count": null,
   "metadata": {},
   "outputs": [],
   "source": [
    "IdleMode(odrv1)"
   ]
  },
  {
   "cell_type": "code",
   "execution_count": null,
   "metadata": {},
   "outputs": [],
   "source": [
    "ClosedLoopControlMode(odrv1)"
   ]
  },
  {
   "cell_type": "markdown",
   "metadata": {},
   "source": [
    "## Run compliance mode"
   ]
  },
  {
   "cell_type": "code",
   "execution_count": null,
   "metadata": {},
   "outputs": [],
   "source": [
    "def anisotropic_swing(theta_R, theta_L, vel_R, vel_L, t_swing_start):\n",
    "    \n",
    "    t_clock = time.time() - t_swing_start\n",
    "    disp    = FK_fast(theta_R, theta_L) - SwingTrajectory(t_clock) \n",
    "    \n",
    "    Kt = 0.0285\n",
    "    c  = np.array([[0.5,0],[0,0.5]])\n",
    "    \n",
    "    if disp[1] < -0.005:\n",
    "        k = np.array([[100 ,0],[0,0 ]])    \n",
    "    else:\n",
    "        k = np.array([[100,0],[0,100]])\n",
    "       \n",
    "    vel     = J_fast(theta_R, theta_L) @ np.array([[vel_R], [vel_L]])\n",
    "    current = -J_fast(theta_R, theta_L).T @ ( k @ disp + c @ vel )*(1/Kt)\n",
    "    \n",
    "    return current"
   ]
  },
  {
   "cell_type": "code",
   "execution_count": null,
   "metadata": {},
   "outputs": [],
   "source": [
    "def run_anisotropic_compliance_step_test(test_cycle, pause_time = 2, swing_time = 2, gohome_time = 4):\n",
    "    \n",
    "    ClosedLoopControlMode(odrv1)\n",
    "\n",
    "    x = []\n",
    "    y = []\n",
    "    m0_i   = []\n",
    "    m1_i   = []\n",
    "    x_real = []\n",
    "    y_real = []\n",
    "    i_index = 0\n",
    "    \n",
    "    count = 0\n",
    "    while count < test_cycle:\n",
    "        '''\n",
    "        Pausing =================================================================================\n",
    "        '''\n",
    "        t_pause_start = time.time()\n",
    "        while time.time() - t_pause_start < pause_time:\n",
    "\n",
    "            pass\n",
    "        '''\n",
    "        Swing Trajactory ========================================================================\n",
    "        '''\n",
    "        t_swing_start = time.time()\n",
    "        while time.time() - t_swing_start < swing_time:\n",
    "            \n",
    "            t_clock = time.time() - t_swing_start\n",
    "            theta_R = - ((m0.encoder.pos_estimate - m0_home_pos) / 8192 * 2 * np.pi) + np.pi\n",
    "            theta_L = - ((m1.encoder.pos_estimate - m1_home_pos) / 8192 * 2 * np.pi)\n",
    "            vel_R = - (m0.encoder.vel_estimate / 8192 * 2 * np.pi)\n",
    "            vel_L = - (m1.encoder.vel_estimate / 8192 * 2 * np.pi)\n",
    "             \n",
    "            current = anisotropic_swing(theta_R, theta_L, vel_R, vel_L, t_swing_start)\n",
    "            # Motor current = Current - Damp Current\n",
    "            m0_current_R = current[0] - np.array(0.5 * vel_R)\n",
    "            m1_current_L = current[1] - np.array(0.5 * vel_L)\n",
    "            \n",
    "            m0.controller.set_current_setpoint(-MaxCurrentProtection(m0_current_R))\n",
    "            m1.controller.set_current_setpoint(-MaxCurrentProtection(m1_current_L))\n",
    "            \n",
    "            #plotting-----------------------------------------------------------------------------\n",
    "            x.append(SwingTrajectory(t_clock)[0])\n",
    "            y.append(SwingTrajectory(t_clock)[1])\n",
    "            \n",
    "            real_thetaR = - ((m0.encoder.pos_estimate - m0_home_pos) / 8192 * 2 * np.pi) + np.pi\n",
    "            real_thetaL = - ((m1.encoder.pos_estimate - m1_home_pos) / 8192 * 2 * np.pi)\n",
    "            \n",
    "            x_real.append(FK_fast(real_thetaR, real_thetaL)[0])\n",
    "            y_real.append(FK_fast(real_thetaR, real_thetaL)[1])\n",
    "            \n",
    "            m0_i.append(MaxCurrentProtection(m0_current_R))\n",
    "            m1_i.append(MaxCurrentProtection(m1_current_L))\n",
    "            i_index += 1\n",
    "        '''\n",
    "        Pausing =================================================================================\n",
    "        '''\n",
    "        m0.controller.set_current_setpoint(0)\n",
    "        m1.controller.set_current_setpoint(0)\n",
    "        ControllerPositionControl(odrv1)\n",
    "        ClosedLoopControlMode(odrv1)\n",
    "        t_pause_start = time.time()\n",
    "        while time.time() - t_pause_start < pause_time:\n",
    "\n",
    "            pass\n",
    "        '''\n",
    "        Going Home Trajactory =====================================================================\n",
    "        '''\n",
    "        t_gohome_start = time.time()\n",
    "        while time.time() - t_gohome_start < gohome_time:\n",
    "\n",
    "            t_clock = time.time() - t_gohome_start\n",
    "            odrv1_theta_R = IK_5_link(GoHomeTrajactory(t_clock)[0],GoHomeTrajactory(t_clock)[1])[1]\n",
    "            odrv1_theta_L = IK_5_link(GoHomeTrajactory(t_clock)[0],GoHomeTrajactory(t_clock)[1])[0] \n",
    "            \n",
    "            m0_pos  = -(odrv1_theta_R - np.pi)/(2*np.pi)*8192 + m0_home_pos\n",
    "            m1_pos  = -odrv1_theta_L/(2*np.pi)*8192 + m1_home_pos\n",
    "            \n",
    "            m0.controller.set_pos_setpoint(m0_pos,0,0)\n",
    "            m1.controller.set_pos_setpoint(m1_pos,0,0)\n",
    "            \n",
    "            #plotting-----------------------------------------------------------------------------\n",
    "            x.append(GoHomeTrajactory(t_clock)[0])\n",
    "            y.append(GoHomeTrajactory(t_clock)[1])    \n",
    "            \n",
    "            real_thetaR = - ((m0.encoder.pos_estimate - m0_home_pos) / 8192 * 2 * np.pi) + np.pi\n",
    "            real_thetaL = - ((m1.encoder.pos_estimate - m1_home_pos) / 8192 * 2 * np.pi)\n",
    "            \n",
    "            x_real.append(FK_fast(real_thetaR, real_thetaL)[0])\n",
    "            y_real.append(FK_fast(real_thetaR, real_thetaL)[1])\n",
    "\n",
    "        count += 1\n",
    "        print(\"test cycle:\",count)\n",
    "        \n",
    "    fig1 = plt.plot(x,y)\n",
    "    fig1 = plt.plot(x_real,y_real)\n",
    "    plt.xlim(0.1, -0.1)\n",
    "    plt.ylim(0.2, 0.08)\n",
    "    plt.title(\"Run Compliance Step test: {} cycle\".format(test_cycle))\n",
    "    plt.legend(['set point','real point'])\n",
    "    plt.xlabel('x(m)')\n",
    "    plt.ylabel('y(m)')\n",
    "    fig1 = plt.show()\n",
    "    \n",
    "#     i = np.arange(i_index)\n",
    "#     fig2 = plt.plot(i,m0_i,'tab:red',linewidth=1)\n",
    "#     fig2 = plt.plot(i,m1_i,'tab:blue',linewidth=1)\n",
    "#     plt.title(\"Motor Current\")\n",
    "#     plt.legend(['m0','m1'])\n",
    "#     plt.xlabel('Loop count')\n",
    "#     plt.ylabel('Current (A)')\n",
    "#     fig2 = plt.show()"
   ]
  },
  {
   "cell_type": "code",
   "execution_count": null,
   "metadata": {},
   "outputs": [],
   "source": [
    "t0 = time.time()\n",
    "run_anisotropic_compliance_step_test(40)\n",
    "t = time.time() - t0\n",
    "print(\"time spent:{}sec\".format(t))"
   ]
  },
  {
   "cell_type": "code",
   "execution_count": null,
   "metadata": {},
   "outputs": [],
   "source": [
    "IdleMode(odrv1)"
   ]
  },
  {
   "cell_type": "code",
   "execution_count": null,
   "metadata": {},
   "outputs": [],
   "source": [
    "ClosedLoopControlMode(odrv1)"
   ]
  },
  {
   "cell_type": "code",
   "execution_count": null,
   "metadata": {},
   "outputs": [],
   "source": [
    "%matplotlib qt"
   ]
  },
  {
   "cell_type": "code",
   "execution_count": null,
   "metadata": {},
   "outputs": [],
   "source": [
    "print(\"odrive1\")\n",
    "CheckMotorError(odrv1)\n",
    "MotorClearError(odrv1)\n",
    "print(\"Error Clear!\")"
   ]
  }
 ],
 "metadata": {
  "kernelspec": {
   "display_name": "Python 3",
   "language": "python",
   "name": "python3"
  },
  "language_info": {
   "codemirror_mode": {
    "name": "ipython",
    "version": 3
   },
   "file_extension": ".py",
   "mimetype": "text/x-python",
   "name": "python",
   "nbconvert_exporter": "python",
   "pygments_lexer": "ipython3",
   "version": "3.7.4"
  }
 },
 "nbformat": 4,
 "nbformat_minor": 2
}
