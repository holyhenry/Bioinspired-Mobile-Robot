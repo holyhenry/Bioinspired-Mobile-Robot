{
 "cells": [
  {
   "cell_type": "markdown",
   "metadata": {},
   "source": [
    "# Connect to Odrive"
   ]
  },
  {
   "cell_type": "code",
   "execution_count": null,
   "metadata": {},
   "outputs": [],
   "source": [
    "import odrive\n",
    "from odrive.enums import *\n",
    "import time\n",
    "import math\n",
    "import numpy as np\n",
    "import sympy as sp\n",
    "import matplotlib.pyplot as plt\n",
    "\n",
    "my_drive = odrive.find_any()\n",
    "if my_drive is not None:\n",
    "    print('Connected!')\n",
    "    print('my_drive serial {}'.format(my_drive.serial_number))\n",
    "else:\n",
    "    print('Not connected')\n",
    "    "
   ]
  },
  {
   "cell_type": "code",
   "execution_count": null,
   "metadata": {},
   "outputs": [],
   "source": [
    "m0 = my_drive.axis0\n",
    "m1 = my_drive.axis1"
   ]
  },
  {
   "cell_type": "markdown",
   "metadata": {},
   "source": [
    "# Configure output limits"
   ]
  },
  {
   "cell_type": "code",
   "execution_count": null,
   "metadata": {},
   "outputs": [],
   "source": [
    "curr_limit = 2 #A\n",
    "my_drive.axis0.motor.config.current_lim = curr_limit\n",
    "my_drive.axis1.motor.config.current_lim = curr_limit\n",
    "\n",
    "current_limit = (curr_limit, curr_limit)\n",
    "\n",
    "my_drive.axis0.controller.config.vel_limit = 1000000\n",
    "my_drive.axis1.controller.config.vel_limit = 1000000"
   ]
  },
  {
   "cell_type": "markdown",
   "metadata": {},
   "source": [
    "# Calibration"
   ]
  },
  {
   "cell_type": "code",
   "execution_count": null,
   "metadata": {},
   "outputs": [],
   "source": [
    "m0.requested_state = AXIS_STATE_FULL_CALIBRATION_SEQUENCE\n",
    "m1.requested_state = AXIS_STATE_FULL_CALIBRATION_SEQUENCE"
   ]
  },
  {
   "cell_type": "code",
   "execution_count": null,
   "metadata": {},
   "outputs": [],
   "source": [
    "m0.requested_state = AXIS_STATE_CLOSED_LOOP_CONTROL\n",
    "m1.requested_state = AXIS_STATE_CLOSED_LOOP_CONTROL"
   ]
  },
  {
   "cell_type": "code",
   "execution_count": null,
   "metadata": {},
   "outputs": [],
   "source": [
    "m0.requested_state = AXIS_STATE_IDLE\n",
    "m1.requested_state = AXIS_STATE_IDLE"
   ]
  },
  {
   "cell_type": "markdown",
   "metadata": {},
   "source": [
    "# Define transmission matrix"
   ]
  },
  {
   "cell_type": "code",
   "execution_count": null,
   "metadata": {},
   "outputs": [],
   "source": [
    "import sympy as sp\n",
    "from sympy.utilities.lambdify import lambdify\n",
    "\n",
    "(thetaL_sym, thetaR_sym) = sp.symbols(\"\"\"thetaL_sym thetaR_sym \"\"\", real = True)\n",
    "(x_cartesian, y_cartesian) = sp.symbols(\"\"\"x_cartesian y_cartesian \"\"\", real = True)\n",
    "\n",
    "def T(theta, x, y):\n",
    "    return sp.Matrix([[sp.cos(theta), -sp.sin(theta), x], \n",
    "                      [sp.sin(theta), sp.cos(theta), y],\n",
    "                      [0, 0, 1]])\n",
    "def car_polar(x, y):\n",
    "    r = sp.sqrt(x**2+y**2)\n",
    "    theta = sp.atan(y/x)\n",
    "    return sp.Matrix([[r],\n",
    "                      [theta]])\n",
    "def sym_to_np(car_polar):\n",
    "    return np.array(car2polar).astype(np.float64)\n",
    "\n",
    "def sym_to_np(T):\n",
    "    return np.array(T).astype(np.float64)\n"
   ]
  },
  {
   "cell_type": "markdown",
   "metadata": {},
   "source": [
    "# Polar FK Through transformation matrices"
   ]
  },
  {
   "cell_type": "code",
   "execution_count": null,
   "metadata": {},
   "outputs": [],
   "source": [
    "l1 = 0.09\n",
    "l2 = 0.16\n",
    "w = 0.07\n",
    "\n",
    "x_r = -w/2 + l1*sp.cos(thetaR_sym)\n",
    "x_l = w/2 + l1*sp.cos(thetaL_sym)\n",
    "\n",
    "y_r = l1*sp.sin(thetaR_sym)\n",
    "y_l = l1*sp.sin(thetaL_sym)\n",
    "\n",
    "theta3_sym = sp.atan2(y_l - y_r, x_l - x_r)\n",
    "L = sp.sqrt((x_l - x_r)**2 + (y_l - y_r)**2)\n",
    "\n",
    "FK = T(thetaL_sym, w/2, 0)@T((sp.pi - thetaL_sym + theta3_sym), l1, 0)@sp.Matrix([L/2, -sp.sqrt(l2**2 - (L/2)**2), 1])\n",
    "FK = FK[:2,:]\n",
    "FK.simplify()\n",
    "FK_fast = lambdify((thetaR_sym, thetaL_sym), FK) # FK_fast(x,y)\n",
    "\n",
    "J = FK.jacobian([thetaR_sym, thetaL_sym]).evalf()\n",
    "J_fast = lambdify((thetaR_sym, thetaL_sym), J) # J_fast(x,y)\n",
    "\n",
    "#convert coordinate to polar\n",
    "FK_polar = car_polar(FK[0], FK[1])\n",
    "FK_polar_fast = lambdify((thetaR_sym, thetaL_sym), FK_polar) # FK_polar_fast(x,y)\n",
    "\n",
    "# #arctan is defined between -pi/2~pi/2 \n",
    "# if FK_polar_fast(theta_R, theta_L)[1] < 0\n",
    "#     FK_polar_fast(theta_R, theta_L)[1] = FK_polar_fast(theta_R, theta_L)[1] + np.pi\n",
    "# else\n",
    "#     FK_polar_fast(theta_R, theta_L)[1] = FK_polar_fast(theta_R, theta_L)[1]\n",
    "\n",
    "J_polar = FK_polar.jacobian([thetaR_sym, thetaL_sym]).evalf()\n",
    "J_polar_fast = lambdify((thetaR_sym, thetaL_sym), J_polar) # J_polar_fast(x,y)"
   ]
  },
  {
   "cell_type": "markdown",
   "metadata": {},
   "source": [
    "# Define home location (which is zero angle)"
   ]
  },
  {
   "cell_type": "code",
   "execution_count": null,
   "metadata": {},
   "outputs": [],
   "source": [
    "my_drive.axis0.requested_state = AXIS_STATE_IDLE\n",
    "my_drive.axis1.requested_state = AXIS_STATE_IDLE"
   ]
  },
  {
   "cell_type": "code",
   "execution_count": null,
   "metadata": {},
   "outputs": [],
   "source": [
    "m0_home_pos = m0.encoder.pos_estimate\n",
    "m1_home_pos = m1.encoder.pos_estimate\n",
    "\n",
    "theta_R_home = -((m0_home_pos) / 8192 * 2 * np.pi) + np.pi\n",
    "theta_L_home = -((m1_home_pos) / 8192 * 2 * np.pi)\n",
    "\n",
    "theta_R_home_d = theta_R_home / (2 * np.pi) * 360\n",
    "theta_L_home_d = theta_L_home / (2 * np.pi) * 360\n",
    "\n",
    "print(theta_R_home_d)\n",
    "print(theta_L_home_d)"
   ]
  },
  {
   "cell_type": "markdown",
   "metadata": {},
   "source": [
    "# Define equilibrium toe location (where you want to start)"
   ]
  },
  {
   "cell_type": "code",
   "execution_count": null,
   "metadata": {},
   "outputs": [],
   "source": [
    "m0_equilibrium_toe_pos = m0.encoder.pos_estimate\n",
    "m1_equilibrium_toe_pos = m1.encoder.pos_estimate\n",
    "\n",
    "theta_R_eq = -((m0_equilibrium_toe_pos - m0_home_pos) / 8192 * 2 * np.pi) + np.pi\n",
    "theta_L_eq = -((m1_equilibrium_toe_pos - m1_home_pos) / 8192 * 2 * np.pi)\n",
    "\n",
    "theta_R_eq_d = theta_R_eq / (2 * np.pi) * 360\n",
    "theta_L_eq_d = theta_L_eq / (2 * np.pi) * 360\n",
    "\n",
    "print(theta_R_eq_d)\n",
    "print(theta_L_eq_d)"
   ]
  },
  {
   "cell_type": "markdown",
   "metadata": {},
   "source": [
    "# Define polar compliance"
   ]
  },
  {
   "cell_type": "code",
   "execution_count": null,
   "metadata": {},
   "outputs": [],
   "source": [
    "# stiffness coeff\n",
    "kr = 10\n",
    "ktheta = 10\n",
    "k = np.array([[kx,0],[0,ky]])\n",
    "# damping coeff\n",
    "cr = 2\n",
    "ctheta = 2\n",
    "c = np.array([[cx,0],[0,cy]])\n",
    "# motor torque const\n",
    "Kt = 0.0285\n",
    "\n",
    "def polar_compliance(theta_R, theta_L, vel_R, vel_L):\n",
    "    \n",
    "    J_trans = -np.transpose(J_polar_fast(theta_R, theta_L))\n",
    "    disp = FK_polar_fast(theta_R, theta_L) - FK_polar_fast(theta_R_eq, theta_L_eq) \n",
    "    vel = J_polar_fast(theta_R, theta_L) @ np.array([[vel_R], [vel_L]])\n",
    "    \n",
    "    currents = J_trans @ ( k @ disp + c @ vel )*(1/Kt)\n",
    "\n",
    "    return currents "
   ]
  },
  {
   "cell_type": "markdown",
   "metadata": {},
   "source": [
    "# Control loop"
   ]
  },
  {
   "cell_type": "code",
   "execution_count": null,
   "metadata": {},
   "outputs": [],
   "source": [
    "# m0.requested_state = AXIS_STATE_CLOSED_LOOP_CONTROL\n",
    "# m1.requested_state = AXIS_STATE_CLOSED_LOOP_CONTROL\n",
    "my_drive.axis0.requested_state = AXIS_STATE_IDLE\n",
    "my_drive.axis1.requested_state = AXIS_STATE_IDLE\n",
    "    \n",
    "\n",
    "t = 10\n",
    "theta_R = np.zeros(10*t)\n",
    "theta_L = np.zeros(10*t)\n",
    "\n",
    "for i in range(10*t):\n",
    "    #read the encoder position & velocity\n",
    "    m0_encoder_pos = m0.encoder.pos_estimate\n",
    "    m1_encoder_pos = m1.encoder.pos_estimate\n",
    "    m0_encoder_vel = m0.encoder.vel_estimate\n",
    "    m1_encoder_vel = m0.encoder.vel_estimate\n",
    "    #current angle(rad) & velocity(rad/s)\n",
    "    theta_R = - ((m0_encoder_pos - m0_home_pos) / 8192 * 2 * np.pi) + np.pi\n",
    "    theta_L = - ((m1_encoder_pos - m1_home_pos) / 8192 * 2 * np.pi)\n",
    "    vel_R = - ((m0_encoder_vel) / 8192 * 2 * np.pi)\n",
    "    vel_L = - ((m1_encoder_vel) / 8192 * 2 * np.pi)\n",
    "    \n",
    "    #current angle(degree)\n",
    "    theta_R_d = theta_R / (2 * np.pi) * 360\n",
    "    theta_L_d = theta_L / (2 * np.pi) * 360\n",
    "        \n",
    "    print(FK_polar_fast(theta_R, theta_L)[1])\n",
    "\n",
    "\n",
    "    #get cureent\n",
    "    current = polar_compliance(theta_R, theta_L, vel_R, vel_L)\n",
    "    #make sure the current is not exceeds the limit\n",
    "    current_0 = min(np.abs(current[0]), current_limit[0]) * np.sign(current[0])\n",
    "    current_1 = min(np.abs(current[1]), current_limit[1]) * np.sign(current[1]) \n",
    "    \n",
    "    print(current_0,current_1)\n",
    "      \n",
    "    #control the motors\n",
    "    my_drive.axis0.controller.set_current_setpoint(-current_0)\n",
    "    my_drive.axis1.controller.set_current_setpoint(-current_1)\n",
    "    \n",
    "    time.sleep(0.1)\n",
    "    \n",
    "my_drive.axis0.requested_state = AXIS_STATE_IDLE\n",
    "my_drive.axis1.requested_state = AXIS_STATE_IDLE\n",
    "    "
   ]
  }
 ],
 "metadata": {
  "kernelspec": {
   "display_name": "Python 3",
   "language": "python",
   "name": "python3"
  },
  "language_info": {
   "codemirror_mode": {
    "name": "ipython",
    "version": 3
   },
   "file_extension": ".py",
   "mimetype": "text/x-python",
   "name": "python",
   "nbconvert_exporter": "python",
   "pygments_lexer": "ipython3",
   "version": "3.7.4"
  }
 },
 "nbformat": 4,
 "nbformat_minor": 2
}
