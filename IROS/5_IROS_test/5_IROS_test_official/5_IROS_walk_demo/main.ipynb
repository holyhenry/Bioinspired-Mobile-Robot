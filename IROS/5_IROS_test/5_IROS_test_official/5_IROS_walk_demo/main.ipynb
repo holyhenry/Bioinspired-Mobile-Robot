{
 "cells": [
  {
   "cell_type": "code",
   "execution_count": 1,
   "metadata": {},
   "outputs": [
    {
     "name": "stdout",
     "output_type": "stream",
     "text": [
      "importing Jupyter notebook from odrive_function.ipynb\n",
      "importing Jupyter notebook from kinematics_function.ipynb\n"
     ]
    }
   ],
   "source": [
    "import odrive\n",
    "from odrive.enums import *\n",
    "import time\n",
    "import numpy as np\n",
    "import import_ipynb\n",
    "from odrive_function import od, gait"
   ]
  },
  {
   "cell_type": "markdown",
   "metadata": {},
   "source": [
    "## Connect to Odrive"
   ]
  },
  {
   "cell_type": "code",
   "execution_count": 2,
   "metadata": {},
   "outputs": [
    {
     "name": "stdout",
     "output_type": "stream",
     "text": [
      "Connected!\n",
      "Target serial 335C315E3536 \t Odrive serial 56471058265398\n",
      "Motor 0 calibrated: False\n",
      "Motor 1 calibrated: False\n",
      "Connected!\n",
      "Target serial 206A33A5304B \t Odrive serial 35640505086027\n",
      "Motor 0 calibrated: False\n",
      "Motor 1 calibrated: False\n"
     ]
    }
   ],
   "source": [
    "odrv2 = od.connect_odrive(\"335C315E3536\")\n",
    "odrv1 = od.connect_odrive(\"206A33A5304B\")\n",
    "\n",
    "m0  = odrv1.axis0\n",
    "m1  = odrv1.axis1\n",
    "m00 = odrv2.axis0\n",
    "m11 = odrv2.axis1"
   ]
  },
  {
   "cell_type": "markdown",
   "metadata": {},
   "source": [
    "## Setup"
   ]
  },
  {
   "cell_type": "code",
   "execution_count": 3,
   "metadata": {},
   "outputs": [
    {
     "name": "stdout",
     "output_type": "stream",
     "text": [
      "Parameter Set!\n"
     ]
    }
   ],
   "source": [
    "od.SetParameter(odrv1)\n",
    "od.SetParameter(odrv2)\n",
    "print(\"Parameter Set!\")"
   ]
  },
  {
   "cell_type": "code",
   "execution_count": 4,
   "metadata": {},
   "outputs": [
    {
     "name": "stdout",
     "output_type": "stream",
     "text": [
      "odrive1\n",
      "error:           0 0\n",
      "motorerror:      0 0\n",
      "controllererror: 0 0\n",
      "odrive2\n",
      "error:           0 0\n",
      "motorerror:      0 0\n",
      "controllererror: 0 0\n",
      "Error Clear!\n"
     ]
    }
   ],
   "source": [
    "print(\"odrive1\")\n",
    "od.CheckMotorError(odrv1)\n",
    "print(\"odrive2\")\n",
    "od.CheckMotorError(odrv2)\n",
    "\n",
    "od.MotorClearError(odrv1)\n",
    "od.MotorClearError(odrv2)\n",
    "print(\"Error Clear!\")"
   ]
  },
  {
   "cell_type": "markdown",
   "metadata": {},
   "source": [
    "## Motor Commands"
   ]
  },
  {
   "cell_type": "code",
   "execution_count": 5,
   "metadata": {},
   "outputs": [
    {
     "name": "stdout",
     "output_type": "stream",
     "text": [
      "Motor 0 calibrated: False\n",
      "Motor 1 calibrated: False\n",
      "Motor 0 calibrated: False\n",
      "Motor 1 calibrated: False\n"
     ]
    }
   ],
   "source": [
    "od.Calibration(odrv1)\n",
    "od.Calibration(odrv2)"
   ]
  },
  {
   "cell_type": "code",
   "execution_count": 6,
   "metadata": {},
   "outputs": [],
   "source": [
    "od.ClosedLoopControlMode(odrv1)\n",
    "od.ClosedLoopControlMode(odrv2)"
   ]
  },
  {
   "cell_type": "code",
   "execution_count": 7,
   "metadata": {},
   "outputs": [],
   "source": [
    "od.IdleMode(odrv1)\n",
    "od.IdleMode(odrv2)"
   ]
  },
  {
   "cell_type": "markdown",
   "metadata": {},
   "source": [
    "# Define zero angle (Joint space)"
   ]
  },
  {
   "cell_type": "code",
   "execution_count": 8,
   "metadata": {},
   "outputs": [
    {
     "name": "stdout",
     "output_type": "stream",
     "text": [
      "Odrv1 \n",
      "R: -1121.765869140625 \n",
      "L: 899.7501220703125\n"
     ]
    }
   ],
   "source": [
    "m0_home_pos = od.SetMotorHomePosition(m0, m1)[0]\n",
    "m1_home_pos = od.SetMotorHomePosition(m0, m1)[1]\n",
    "print(\"Odrv1 \\nR:\", m0_home_pos, \"\\nL:\", m1_home_pos)"
   ]
  },
  {
   "cell_type": "code",
   "execution_count": 9,
   "metadata": {},
   "outputs": [
    {
     "name": "stdout",
     "output_type": "stream",
     "text": [
      "Odrv2 \n",
      "R: -2048.000244140625 \n",
      "L: 959.75\n"
     ]
    }
   ],
   "source": [
    "m00_home_pos = od.SetMotorHomePosition(m00, m11)[0]\n",
    "m11_home_pos = od.SetMotorHomePosition(m00, m11)[1]\n",
    "print(\"Odrv2 \\nR:\", m00_home_pos, \"\\nL:\", m11_home_pos)"
   ]
  },
  {
   "cell_type": "markdown",
   "metadata": {},
   "source": [
    "# Define tiptoe home location (Joint space)"
   ]
  },
  {
   "cell_type": "code",
   "execution_count": 10,
   "metadata": {},
   "outputs": [
    {
     "name": "stdout",
     "output_type": "stream",
     "text": [
      "Odrv1 \n",
      "R: 150.908203125 \n",
      "L: 48.31855773925781\n"
     ]
    }
   ],
   "source": [
    "#odrv1\n",
    "theta_R_eq_d = od.SetMotorEquilibriumPosition(m0, m1, m0_home_pos, m1_home_pos)[0]\n",
    "theta_L_eq_d = od.SetMotorEquilibriumPosition(m0, m1, m0_home_pos, m1_home_pos)[1]\n",
    "print(\"Odrv1 \\nR:\", theta_R_eq_d, \"\\nL:\", theta_L_eq_d)"
   ]
  },
  {
   "cell_type": "code",
   "execution_count": 11,
   "metadata": {},
   "outputs": [
    {
     "name": "stdout",
     "output_type": "stream",
     "text": [
      "Odrv2 \n",
      "R: 135.3412628173828 \n",
      "L: 33.7060546875\n"
     ]
    }
   ],
   "source": [
    "#odrv2\n",
    "theta_R_eq_d = od.SetMotorEquilibriumPosition(m00, m11, m00_home_pos, m11_home_pos)[0]\n",
    "theta_L_eq_d = od.SetMotorEquilibriumPosition(m00, m11, m00_home_pos, m11_home_pos)[1]\n",
    "print(\"Odrv2 \\nR:\", theta_R_eq_d, \"\\nL:\", theta_L_eq_d)"
   ]
  },
  {
   "cell_type": "markdown",
   "metadata": {},
   "source": [
    "## Gait geometry"
   ]
  },
  {
   "cell_type": "code",
   "execution_count": null,
   "metadata": {},
   "outputs": [],
   "source": [
    "UA, DA, SL = 0.07 ,0.02, 0.10 # UpperAMP, DownAMP, StepLength, StanceHeight = 0.18"
   ]
  },
  {
   "cell_type": "markdown",
   "metadata": {},
   "source": [
    "## Test run (Positional Control)"
   ]
  },
  {
   "cell_type": "code",
   "execution_count": null,
   "metadata": {},
   "outputs": [],
   "source": [
    "%matplotlib qt"
   ]
  },
  {
   "cell_type": "code",
   "execution_count": null,
   "metadata": {},
   "outputs": [],
   "source": [
    "gait.get_ready_pos(UA, DA, SL, odrv1, odrv2, m0, m1, m00, m11, m0_home_pos, m1_home_pos, m00_home_pos, m11_home_pos)"
   ]
  },
  {
   "cell_type": "code",
   "execution_count": null,
   "metadata": {},
   "outputs": [],
   "source": [
    "# Run test-------------------------------------------------------------\n",
    "k = 1\n",
    "sr = 0.1\n",
    "phase_t = 1 \n",
    "t0 = time.time()\n",
    "\n",
    "od.ControllerCurrentControl(odrv1)\n",
    "od.ControllerCurrentControl(odrv2)\n",
    "\n",
    "#(test_cycle, swing_time, stance_time)\n",
    "gait.run_positional_step_test(8, phase_t, phase_t, UA, DA, SL, odrv1, odrv2, m0, m1, m00, m11, m0_home_pos, m1_home_pos, m00_home_pos, m11_home_pos) \n",
    "\n",
    "print(\"time spent:{}sec\".format(time.time() - t0))"
   ]
  },
  {
   "cell_type": "code",
   "execution_count": null,
   "metadata": {},
   "outputs": [],
   "source": [
    "od.IdleMode(odrv1)\n",
    "od.IdleMode(odrv2)"
   ]
  },
  {
   "cell_type": "markdown",
   "metadata": {},
   "source": [
    "## Test Run (Virtual Compliance)"
   ]
  },
  {
   "cell_type": "code",
   "execution_count": 12,
   "metadata": {},
   "outputs": [],
   "source": [
    "UA, DA, SL = 0.05 ,0.02, 0.10 # UpperAMP, DownAMP, StepLength, StanceHeight = 0.18"
   ]
  },
  {
   "cell_type": "code",
   "execution_count": 15,
   "metadata": {},
   "outputs": [],
   "source": [
    "gait.get_ready_pos(UA, DA, SL, odrv1, odrv2, m0, m1, m00, m11, m0_home_pos, m1_home_pos, m00_home_pos, m11_home_pos)"
   ]
  },
  {
   "cell_type": "code",
   "execution_count": 16,
   "metadata": {},
   "outputs": [
    {
     "data": {
      "image/png": "[encoded data removed]",
      "text/plain": [
       "<Figure size 432x288 with 2 Axes>"
      ]
     },
     "metadata": {
      "needs_background": "light"
     },
     "output_type": "display_data"
    },
    {
     "name": "stdout",
     "output_type": "stream",
     "text": [
      "time spent:14.301229000091553sec\n"
     ]
    }
   ],
   "source": [
    "# Run test-------------------------------------------------------------\n",
    "k = 1\n",
    "sr = 0.01\n",
    "phase_t = 1 \n",
    "t0 = time.time()\n",
    "\n",
    "od.ControllerCurrentControl(odrv1)\n",
    "od.ControllerCurrentControl(odrv2)\n",
    "\n",
    "#(test_cycle, k_val, swing_t, stance_t, stiff_ratio, kill_rear_motor)\n",
    "gait.run_aniso_compliance_step_test(7,150, phase_t, phase_t, sr, k, UA, DA, SL, odrv1, odrv2, m0, m1, m00, m11, m0_home_pos, m1_home_pos, m00_home_pos, m11_home_pos) \n",
    "\n",
    "print(\"time spent:{}sec\".format(time.time() - t0))"
   ]
  },
  {
   "cell_type": "code",
   "execution_count": 17,
   "metadata": {},
   "outputs": [],
   "source": [
    "od.IdleMode(odrv1)\n",
    "od.IdleMode(odrv2)"
   ]
  },
  {
   "cell_type": "code",
   "execution_count": null,
   "metadata": {},
   "outputs": [],
   "source": [
    "print(\"odrive1\")\n",
    "CheckMotorError(odrv1)\n",
    "print(\"odrive2\")\n",
    "CheckMotorError(odrv2)\n",
    "\n",
    "MotorClearError(odrv1)\n",
    "MotorClearError(odrv2)\n",
    "print(\"Error Clear!\")"
   ]
  },
  {
   "cell_type": "code",
   "execution_count": null,
   "metadata": {},
   "outputs": [],
   "source": [
    "ControllerPositionControl(odrv1)\n",
    "ControllerPositionControl(odrv2)"
   ]
  },
  {
   "cell_type": "code",
   "execution_count": null,
   "metadata": {},
   "outputs": [],
   "source": [
    "ClosedLoopControlMode(odrv1)\n",
    "ClosedLoopControlMode(odrv2)"
   ]
  },
  {
   "cell_type": "code",
   "execution_count": null,
   "metadata": {},
   "outputs": [],
   "source": []
  }
 ],
 "metadata": {
  "kernelspec": {
   "display_name": "Python 3",
   "language": "python",
   "name": "python3"
  },
  "language_info": {
   "codemirror_mode": {
    "name": "ipython",
    "version": 3
   },
   "file_extension": ".py",
   "mimetype": "text/x-python",
   "name": "python",
   "nbconvert_exporter": "python",
   "pygments_lexer": "ipython3",
   "version": "3.7.6"
  }
 },
 "nbformat": 4,
 "nbformat_minor": 2
}
