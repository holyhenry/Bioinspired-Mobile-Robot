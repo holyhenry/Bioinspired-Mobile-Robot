{
 "cells": [
  {
   "cell_type": "code",
   "execution_count": 3,
   "metadata": {},
   "outputs": [],
   "source": [
    "import odrive\n",
    "from odrive.enums import *\n",
    "import time\n",
    "import numpy as np\n",
    "import import_ipynb\n",
    "from odrive_function import od, gait"
   ]
  },
  {
   "cell_type": "markdown",
   "metadata": {},
   "source": [
    "## Connect to Odrive"
   ]
  },
  {
   "cell_type": "code",
   "execution_count": null,
   "metadata": {},
   "outputs": [],
   "source": [
    "odrv2 = od.connect_odrive(\"335C315E3536\")\n",
    "odrv1 = od.connect_odrive(\"206A33A5304B\")\n",
    "\n",
    "m0  = odrv1.axis0\n",
    "m1  = odrv1.axis1\n",
    "m00 = odrv2.axis0\n",
    "m11 = odrv2.axis1"
   ]
  },
  {
   "cell_type": "markdown",
   "metadata": {},
   "source": [
    "## Setup"
   ]
  },
  {
   "cell_type": "code",
   "execution_count": null,
   "metadata": {},
   "outputs": [],
   "source": [
    "od.SetParameter(odrv1)\n",
    "od.SetParameter(odrv2)\n",
    "print(\"Parameter Set!\")"
   ]
  },
  {
   "cell_type": "code",
   "execution_count": null,
   "metadata": {},
   "outputs": [],
   "source": [
    "print(\"odrive1\")\n",
    "od.CheckMotorError(odrv1)\n",
    "print(\"odrive2\")\n",
    "od.CheckMotorError(odrv2)\n",
    "\n",
    "od.MotorClearError(odrv1)\n",
    "od.MotorClearError(odrv2)\n",
    "print(\"Error Clear!\")"
   ]
  },
  {
   "cell_type": "markdown",
   "metadata": {},
   "source": [
    "## Motor Commands"
   ]
  },
  {
   "cell_type": "code",
   "execution_count": null,
   "metadata": {},
   "outputs": [],
   "source": [
    "od.Calibration(odrv1)\n",
    "od.Calibration(odrv2)"
   ]
  },
  {
   "cell_type": "code",
   "execution_count": null,
   "metadata": {},
   "outputs": [],
   "source": [
    "od.ClosedLoopControlMode(odrv1)\n",
    "od.ClosedLoopControlMode(odrv2)"
   ]
  },
  {
   "cell_type": "code",
   "execution_count": null,
   "metadata": {},
   "outputs": [],
   "source": [
    "od.IdleMode(odrv1)\n",
    "od.IdleMode(odrv2)"
   ]
  },
  {
   "cell_type": "markdown",
   "metadata": {},
   "source": [
    "# Define zero angle (Joint space)"
   ]
  },
  {
   "cell_type": "code",
   "execution_count": null,
   "metadata": {},
   "outputs": [],
   "source": [
    "m0_home_pos = od.SetMotorHomePosition(m0, m1)[0]\n",
    "m1_home_pos = od.SetMotorHomePosition(m0, m1)[1]\n",
    "print(\"Odrv1 \\nR:\", m0_home_pos, \"\\nL:\", m1_home_pos)"
   ]
  },
  {
   "cell_type": "code",
   "execution_count": null,
   "metadata": {},
   "outputs": [],
   "source": [
    "m00_home_pos = od.SetMotorHomePosition(m00, m11)[0]\n",
    "m11_home_pos = od.SetMotorHomePosition(m00, m11)[1]\n",
    "print(\"Odrv2 \\nR:\", m00_home_pos, \"\\nL:\", m11_home_pos)"
   ]
  },
  {
   "cell_type": "markdown",
   "metadata": {},
   "source": [
    "# Define tiptoe home location (Joint space)"
   ]
  },
  {
   "cell_type": "code",
   "execution_count": null,
   "metadata": {},
   "outputs": [],
   "source": [
    "#odrv1\n",
    "theta_R_eq_d = od.SetMotorEquilibriumPosition(m0, m1, m0_home_pos, m1_home_pos)[0]\n",
    "theta_L_eq_d = od.SetMotorEquilibriumPosition(m0, m1, m0_home_pos, m1_home_pos)[1]\n",
    "print(\"Odrv1 \\nR:\", theta_R_eq_d, \"\\nL:\", theta_L_eq_d)"
   ]
  },
  {
   "cell_type": "code",
   "execution_count": null,
   "metadata": {},
   "outputs": [],
   "source": [
    "#odrv2\n",
    "theta_R_eq_d = od.SetMotorEquilibriumPosition(m00, m11, m00_home_pos, m11_home_pos)[0]\n",
    "theta_L_eq_d = od.SetMotorEquilibriumPosition(m00, m11, m00_home_pos, m11_home_pos)[1]\n",
    "print(\"Odrv2 \\nR:\", theta_R_eq_d, \"\\nL:\", theta_L_eq_d)"
   ]
  },
  {
   "cell_type": "markdown",
   "metadata": {},
   "source": [
    "## Space Convertor"
   ]
  },
  {
   "cell_type": "code",
   "execution_count": null,
   "metadata": {},
   "outputs": [],
   "source": [
    "def from_joint_get_pos(m0_home_pos, m1_home_pos): #return current xy\n",
    "    \n",
    "    thetaR = - ((m0.encoder.pos_estimate - m0_home_pos) / 8192 * 2 * np.pi) + np.pi\n",
    "    thetaL = - ((m1.encoder.pos_estimate - m1_home_pos) / 8192 * 2 * np.pi)\n",
    "\n",
    "    x = FK_fast(thetaR, thetaL)[0]\n",
    "    y = FK_fast(thetaR, thetaL)[1]\n",
    "    \n",
    "    return np.array([x, y])\n",
    "\n",
    "def from_pos_get_joint(x, y, m0_home_pos, m1_home_pos): #xy ->encoder\n",
    "\n",
    "    theta_R = IK_5_link(x, y)[1]\n",
    "    theta_L = IK_5_link(x, y)[0]\n",
    "    \n",
    "    m0_pos = -(theta_R - np.pi)/(2*np.pi)*8192 + m0_home_pos\n",
    "    m1_pos = -theta_L/(2*np.pi)*8192 + m1_home_pos\n",
    "    \n",
    "    return np.array([m0_pos, m1_pos])"
   ]
  },
  {
   "cell_type": "markdown",
   "metadata": {},
   "source": [
    "## Test run (Positional Control)"
   ]
  },
  {
   "cell_type": "code",
   "execution_count": null,
   "metadata": {},
   "outputs": [],
   "source": [
    "%matplotlib qt"
   ]
  },
  {
   "cell_type": "code",
   "execution_count": null,
   "metadata": {},
   "outputs": [],
   "source": [
    "ControllerPositionControl(odrv1)\n",
    "ControllerPositionControl(odrv2)\n",
    "\n",
    "ClosedLoopControlMode(odrv1)\n",
    "ClosedLoopControlMode(odrv2)\n",
    "\n",
    "# Get ready to start---------------------------------------------------\n",
    "phase_t = 1\n",
    "\n",
    "m0_pos = from_pos_get_joint(RightStanceTrajectory(0, phase_t)[0], RightStanceTrajectory(0, phase_t)[1]-0.02, m0_home_pos, m1_home_pos)[0]\n",
    "m1_pos = from_pos_get_joint(RightStanceTrajectory(0, phase_t)[0], RightStanceTrajectory(0, phase_t)[1]-0.02, m0_home_pos, m1_home_pos)[1]\n",
    "m00_pos= from_pos_get_joint(LeftSwingTrajectory(0, phase_t)[0], LeftSwingTrajectory(0, phase_t)[1]-0.01, m00_home_pos, m11_home_pos)[0]\n",
    "m11_pos= from_pos_get_joint(LeftSwingTrajectory(0, phase_t)[0], LeftSwingTrajectory(0, phase_t)[1]-0.01, m00_home_pos, m11_home_pos)[1]\n",
    "\n",
    "m0.controller.set_pos_setpoint(m0_pos,0,0)\n",
    "m1.controller.set_pos_setpoint(m1_pos,0,0)\n",
    "m00.controller.set_pos_setpoint(m00_pos,0,0)\n",
    "m11.controller.set_pos_setpoint(m11_pos,0,0)"
   ]
  },
  {
   "cell_type": "code",
   "execution_count": null,
   "metadata": {},
   "outputs": [],
   "source": [
    "# Run test-------------------------------------------------------------\n",
    "k = 1\n",
    "sr = 0.1\n",
    "phase_t = 1 \n",
    "t0 = time.time()\n",
    "\n",
    "ControllerCurrentControl(odrv1)\n",
    "ControllerCurrentControl(odrv2)\n",
    "\n",
    "#(test_cycle, swing_time, stance_time)\n",
    "run_positional_step_test(8,phase_t,phase_t) \n",
    "\n",
    "print(\"time spent:{}sec\".format(time.time() - t0))"
   ]
  },
  {
   "cell_type": "code",
   "execution_count": null,
   "metadata": {},
   "outputs": [],
   "source": [
    "IdleMode(odrv1)\n",
    "IdleMode(odrv2)"
   ]
  },
  {
   "cell_type": "markdown",
   "metadata": {},
   "source": [
    "## Test Run (Virtual Compliance)"
   ]
  },
  {
   "cell_type": "code",
   "execution_count": null,
   "metadata": {},
   "outputs": [],
   "source": [
    "ControllerPositionControl(odrv1)\n",
    "ControllerPositionControl(odrv2)\n",
    "\n",
    "ClosedLoopControlMode(odrv1)\n",
    "ClosedLoopControlMode(odrv2)\n",
    "\n",
    "# Get ready to start---------------------------------------------------\n",
    "phase_t = 1\n",
    "\n",
    "m0_pos = from_pos_get_joint(RightStanceTrajectory(0, phase_t)[0], RightStanceTrajectory(0, phase_t)[1]-0.02, m0_home_pos, m1_home_pos)[0]\n",
    "m1_pos = from_pos_get_joint(RightStanceTrajectory(0, phase_t)[0], RightStanceTrajectory(0, phase_t)[1]-0.02, m0_home_pos, m1_home_pos)[1]\n",
    "m00_pos= from_pos_get_joint(LeftSwingTrajectory(0, phase_t)[0], LeftSwingTrajectory(0, phase_t)[1]-0.01, m00_home_pos, m11_home_pos)[0]\n",
    "m11_pos= from_pos_get_joint(LeftSwingTrajectory(0, phase_t)[0], LeftSwingTrajectory(0, phase_t)[1]-0.01, m00_home_pos, m11_home_pos)[1]\n",
    "\n",
    "m0.controller.set_pos_setpoint(m0_pos,0,0)\n",
    "m1.controller.set_pos_setpoint(m1_pos,0,0)\n",
    "m00.controller.set_pos_setpoint(m00_pos,0,0)\n",
    "m11.controller.set_pos_setpoint(m11_pos,0,0)"
   ]
  },
  {
   "cell_type": "code",
   "execution_count": null,
   "metadata": {},
   "outputs": [],
   "source": [
    "# Run test-------------------------------------------------------------\n",
    "k = 1\n",
    "sr = 0.1\n",
    "phase_t = 1 \n",
    "t0 = time.time()\n",
    "\n",
    "ControllerCurrentControl(odrv1)\n",
    "ControllerCurrentControl(odrv2)\n",
    "\n",
    "#(test_cycle, k_val, swing_t, stance_t, stiff_ratio, kill_rear_motor)\n",
    "run_aniso_compliance_step_test(7,150,phase_t,phase_t,sr,k) \n",
    "\n",
    "print(\"time spent:{}sec\".format(time.time() - t0))"
   ]
  },
  {
   "cell_type": "code",
   "execution_count": null,
   "metadata": {},
   "outputs": [],
   "source": [
    "IdleMode(odrv1)\n",
    "IdleMode(odrv2)"
   ]
  },
  {
   "cell_type": "code",
   "execution_count": null,
   "metadata": {},
   "outputs": [],
   "source": [
    "print(\"odrive1\")\n",
    "CheckMotorError(odrv1)\n",
    "print(\"odrive2\")\n",
    "CheckMotorError(odrv2)\n",
    "\n",
    "MotorClearError(odrv1)\n",
    "MotorClearError(odrv2)\n",
    "print(\"Error Clear!\")"
   ]
  },
  {
   "cell_type": "code",
   "execution_count": null,
   "metadata": {},
   "outputs": [],
   "source": [
    "ControllerPositionControl(odrv1)\n",
    "ControllerPositionControl(odrv2)"
   ]
  },
  {
   "cell_type": "code",
   "execution_count": null,
   "metadata": {},
   "outputs": [],
   "source": [
    "ClosedLoopControlMode(odrv1)\n",
    "ClosedLoopControlMode(odrv2)"
   ]
  },
  {
   "cell_type": "code",
   "execution_count": null,
   "metadata": {},
   "outputs": [],
   "source": []
  }
 ],
 "metadata": {
  "kernelspec": {
   "display_name": "Python 3",
   "language": "python",
   "name": "python3"
  },
  "language_info": {
   "codemirror_mode": {
    "name": "ipython",
    "version": 3
   },
   "file_extension": ".py",
   "mimetype": "text/x-python",
   "name": "python",
   "nbconvert_exporter": "python",
   "pygments_lexer": "ipython3",
   "version": "3.7.4"
  }
 },
 "nbformat": 4,
 "nbformat_minor": 2
}
