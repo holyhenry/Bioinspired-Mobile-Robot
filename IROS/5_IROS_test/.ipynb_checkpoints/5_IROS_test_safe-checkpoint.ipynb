{
 "cells": [
  {
   "cell_type": "code",
   "execution_count": 1,
   "metadata": {},
   "outputs": [],
   "source": [
    "import time\n",
    "import numpy as np\n",
    "import sympy as sp\n",
    "from sympy.utilities.lambdify import lambdify\n",
    "import matplotlib.pyplot as plt\n",
    "\n",
    "import odrive\n",
    "from odrive.enums import *"
   ]
  },
  {
   "cell_type": "markdown",
   "metadata": {},
   "source": [
    "# FK & IK"
   ]
  },
  {
   "cell_type": "code",
   "execution_count": 2,
   "metadata": {},
   "outputs": [],
   "source": [
    "(thetaL_sym, thetaR_sym) = sp.symbols(\"\"\"thetaL_sym thetaR_sym \"\"\", real = True)\n",
    "\n",
    "def T(theta, x, y):\n",
    "    return sp.Matrix([[sp.cos(theta), -sp.sin(theta), x], \n",
    "                      [sp.sin(theta), sp.cos(theta), y],\n",
    "                      [0, 0, 1]])\n",
    "\n",
    "l1 = 0.09\n",
    "l2 = 0.16\n",
    "w  = 0.07\n",
    "\n",
    "x_r = -w/2 + l1*sp.cos(thetaR_sym)\n",
    "x_l = w/2 + l1*sp.cos(thetaL_sym)\n",
    "\n",
    "y_r = l1*sp.sin(thetaR_sym)\n",
    "y_l = l1*sp.sin(thetaL_sym)\n",
    "\n",
    "theta3_sym = sp.atan2(y_l - y_r, x_l - x_r)\n",
    "L = sp.sqrt((x_l - x_r)**2 + (y_l - y_r)**2)\n",
    "\n",
    "FK = T(thetaL_sym, w/2, 0)@T((sp.pi - thetaL_sym + theta3_sym), l1, 0)@sp.Matrix([L/2, -sp.sqrt(l2**2 - (L/2)**2), 1])\n",
    "FK = FK[:2,:]\n",
    "FK_fast = lambdify((thetaR_sym, thetaL_sym), FK) # (x,y) = FK_fast(thetaR,thetaL)\n",
    "\n",
    "J = FK.jacobian([thetaR_sym, thetaL_sym]).evalf()\n",
    "J_fast = lambdify((thetaR_sym, thetaL_sym), J) # J_fast(thetaR,thetaL)\n",
    "\n",
    "from scipy.optimize import minimize\n",
    "\n",
    "def IK_5_link(x, y, l1 = 0.09, l2 = 0.16, w = 0.07):\n",
    "\n",
    "    def leg_wide(var):\n",
    "        return np.linalg.norm([var[0], var[1] - np.pi]) \n",
    "\n",
    "    def x_constraint_equation(var):\n",
    "    # should be equal to zero when the \n",
    "        return l1**2 - l2**2 + (x - w/2)**2 + y**2 - 2*l1*(y*np.sin(var[0]) + (x - w/2)*np.cos(var[0]))\n",
    "\n",
    "    def y_constraint_equation(var):\n",
    "        return l1**2 - l2**2 + (x + w/2)**2 + y**2 - 2*l1*(y*np.sin(var[1]) + (x + w/2)*np.cos(var[1]))\n",
    "\n",
    "    res = minimize(leg_wide, (0.1, 9*np.pi/10), method=\"SLSQP\", constraints= ({\"type\": \"eq\", \"fun\": x_constraint_equation}, \n",
    "                                                                              {\"type\": \"eq\", \"fun\": y_constraint_equation}))\n",
    "    return (res.x[0], res.x[1])"
   ]
  },
  {
   "cell_type": "markdown",
   "metadata": {},
   "source": [
    "## Currents For Anti-Gravity"
   ]
  },
  {
   "cell_type": "code",
   "execution_count": 3,
   "metadata": {},
   "outputs": [],
   "source": [
    "'''\n",
    "These are the average currents of 3 test cycles, each cycle has 231 data points.\n",
    "Method to measured the current: Position control mode with pos_gain = 60, vel_integraotr_gain = 0.00025\n",
    "'''\n",
    "avg_current_m0 = np.array([0.24385765194892883, 0.3094293673833211, 0.7187509934107462, 0.6929809252421061, 1.3647583325703938, 1.7217425505320232, 1.300304889678955, 1.648040533065796, 1.9535056352615356, 1.4974501132965088, 2.31532613436381, 1.9920955499013264, 2.2254158655802407, 2.3666520913441977, 1.847597360610962, 1.6390361388524373, 1.6461957693099976, 2.1099076668421426, 2.1325478553771973, 1.8163514137268066, 1.8888504107793171, 2.9206464290618896, 2.6543094317118325, 2.0987207889556885, 2.092839320500692, 1.999744137128194, 2.2282211780548096, 1.6792758305867512, 1.10627414782842, 1.4703027407328289, 2.1606341203053794, 1.5280054410298665, 1.7889078855514526, 0.6789019306500753, 1.1961313486099243, 0.48277286688486737, 0.612623006105423, 1.1495956977208455, 1.1725813150405884, -0.2772788455088933, 0.332332968711853, 0.6521611015001932, 0.7043842375278473, 0.6808854738871256, 1.1591075261433919, 1.054255445798238, 0.743113378683726, 0.9329129457473755, 1.0790797074635823, 1.0422943433125813, 2.032093127568563, 1.8056693871815999, 2.0906312465667725, 0.849586566289266, 1.029306689898173, 2.0222384929656982, 1.9436176617940266, 2.126174290974935, 2.641770919164022, 2.1976657708485923, 2.1059587001800537, 2.2957820892333984, 2.3773279984792075, 2.4455095132191977, 1.975038210550944, 2.00803812344869, 1.8102043867111206, 1.9721685250600178, 2.4267675081888833, 2.6304352283477783, 1.8454880317052205, 1.744606852531433, 1.2482138872146606, 1.4302936792373657, 2.188453753789266, 1.5512415568033855, 1.631245772043864, 0.6038171450297037, 0.13339702288309732, 0.4121633768081665, 1.143872857093811, 0.14988629023234049, -0.7167718211809794, 0.22382322947184244, -0.4171148935953776, 0.511415441830953, 1.2329217195510864, 1.3153606255849202, 1.2904865741729736, 0.9308393001556396, 1.7994898955027263, 2.0531906286875405, 2.3358784914016724, 2.161727865537008, 1.9283878405888875, 2.015161315600077, 2.5283345381418862, 2.1249244610468545, 2.5240070819854736, 2.0664217869440713, 1.9704421758651733, 2.0232108434041343, 2.265923102696737, 2.258591572443644, 2.3936071395874023, 2.6251205603281655, 2.5077221393585205, 2.4912234942118325, 2.473044236501058, 2.0820539792378745, 2.2661094268163047, 1.745513677597046, 3.1524131298065186, 1.9257471561431885, 2.4136871496836343, 1.8905646800994873, 1.6534742911656697, 1.7814180850982666, 1.9101956288019817, 1.9164384206136067, 1.0571859280268352, 0.4606725573539734, 1.091152509053548, 1.476565678914388, 0.3367473979791005, -0.47332294782002765, 0.5010560154914856, 1.1517316897710164, 1.5442677736282349, 1.6470460096995037, 1.3049650986989338, 1.9339747428894043, 1.8914369742075603, 1.0414698521296184, 1.4385973612467449, 1.969805081685384, 2.447709321975708, 1.7240252097447712, 1.928009271621704, 1.8547149499257405, 2.0282653172810874, 2.594468593597412, 2.1630724668502808, 2.127838452657064, 3.202412764231364, 2.6751373608907065, 2.051024317741394, 2.498440663019816, 2.4904049237569175, 2.088454325993856, 1.5678453644116719, 1.406442642211914, 2.250063101450602, 1.866146167119344, 2.304741621017456, 1.309440056482951, 1.4436272780100505, 1.2946491241455078, 1.7087289492289226, 1.3948681354522705, 0.19499091307322183, 1.7129745086034138, 1.5390563408533733, 0.5865997423728307, 0.6500785102446874, 0.4878290295600891, 1.2354771693547566, 0.6837249596913656, 0.8018242716789246, 0.9551982680956522, 0.1827294925848643, 0.5636499921480814, 0.49909430742263794, 1.643161416053772, 1.1430108547210693, 1.1951600313186646, 1.9328319231669109, 2.168688098589579, 2.1448940436045327, 1.781290332476298, 2.3837035497029624, 2.772059122721354, 1.4827723900477092, 1.9108161528905232, 1.4763656457265217, 1.8926761547724407, 2.33011531829834, 2.10691237449646, 2.256103992462158, 1.145057241121928, 1.4253995815912883, 1.5443984667460124, 1.977695902188619, 2.0023202896118164, 1.9223989248275757, 1.4143034219741821, 2.206624666849772, 2.071223735809326, 1.874717076619466, 1.8417784770329793, 1.8987433910369873, 2.293064753214518, 1.4327460527420044, 1.5438967148462932, 1.7068617741266887, 1.2466908693313599, 0.09146864463885625, 0.14497573177019754, 0.9241856733957926, -0.12775465846061707, -0.10185965398947398, 1.191097617149353, 1.0708035031954448, 0.5770930250485738, 1.7961201270421345, 1.6440867980321248, 1.2170868714650471, 1.90204922358195, 1.5947521527608235, 1.5382156769434612, 2.3090309302012124, 1.1101342837015789, 1.9734142621358235, 2.0313257376352944, 0.5989607771237692, 1.7254005273183186, 1.169793168703715, 1.6195868253707886, 1.487960656483968, 1.6649297873179119, 1.2752639849980671])\n",
    "avg_current_m1 = np.array([-2.2797098954518638, -2.053180376688639, -2.3361454010009766, -2.3334283034006753, -2.081712563832601, -1.3692905108133953, -1.9024568398793538, -1.7690024773279827, -1.3322250843048096, -1.994081695874532, -1.6818673610687256, -1.8202637434005737, -1.1361668109893799, -0.5988062421480814, -1.048218051592509, -0.6973060766855875, -0.8300726811091105, -0.7380097508430481, -0.11959755669037501, 0.14762013157208762, 0.3353431175152461, -0.6869473854700724, -0.5016278525193533, -0.7577384114265442, -1.2399080594380696, -1.340093731880188, -1.3555967807769775, -0.666299303372701, -1.4233221213022869, -2.193217118581136, -2.1028990745544434, -2.103356917699178, -1.6393461624781291, -1.859449823697408, -1.269327203432719, -2.348478396733602, -2.4404971599578857, -2.3028586705525718, -2.7627042134602866, -2.24586812655131, -2.335736115773519, -2.295964320500692, -2.1735856533050537, -2.0345710118611655, -2.249800523122152, -2.0066835085550943, -2.2386058966318765, -2.7825369834899902, -2.1118180751800537, -2.2224119504292807, -1.6119219462076824, -1.4509632587432861, -1.7773346900939941, -2.1761478583017984, -1.5867713292439778, -1.5122490723927815, -0.9182511766751608, -0.2192233751217524, -1.308614174524943, -1.0779201189676921, -0.6103412806987762, 0.266292467713356, 0.3024089535077413, -0.3552477955818176, -1.0995302597681682, -1.2309869925181072, -1.4033260742823284, -0.9891932805379232, -1.2713457743326824, -1.2932180563608806, -1.8089810212453206, -2.281296650568644, -1.770991365114848, -1.479876200358073, -2.0801594654719033, -2.035137176513672, -2.664177497227987, -2.2222375869750977, -2.280874570210775, -2.070718685785929, -2.1321224371592202, -2.0859897136688232, -2.294501622517904, -2.3432594935099282, -2.8702147006988525, -2.5244043668111167, -2.0505572160085044, -1.70535413424174, -2.203084707260132, -1.996114452679952, -2.0780444145202637, -1.9735807577768962, -2.3072122732798257, -1.6672333876291912, -1.9841952323913574, -1.4278603792190552, -1.5234063069025676, -1.5701942443847656, -1.460862159729004, -0.7478309075037638, -0.3853119711081187, -1.3322337865829468, -1.1077086130777996, -0.41606027881304425, 0.45204410950342816, -0.6481122374534607, -1.087979833285014, -1.4994410276412964, -0.9439000487327576, -1.322035789489746, -1.6403996149698894, -1.7279959917068481, -1.6262753009796143, -1.8283069531122844, -1.9439634482065837, -2.119074741999308, -2.2233635584513345, -2.0330498218536377, -1.8607685565948486, -2.2394651571909585, -1.783077319463094, -2.394257386525472, -2.329181512196859, -2.095521926879883, -2.630920966466268, -2.694347381591797, -2.2236881256103516, -2.0829123655954995, -1.7431803544362385, -1.8088794549306233, -2.2208834489186606, -2.0757440328598022, -2.420562744140625, -1.7030529181162517, -1.9283218781153362, -1.9219011068344116, -2.2662204106648765, -1.8367143472035725, -1.1591898202896118, -1.3650212685267131, -1.5507978200912476, -1.5597504774729412, -0.8181673884391785, -0.06766634806990623, -1.1718734502792358, -0.7329153219858805, -0.2809777061144511, -0.5715944568316141, -1.4501049915949504, -0.9978561004002889, -0.9296558300654093, -1.458973487218221, -1.8228953679402669, -1.123289982477824, -1.5559649467468262, -2.038268248240153, -2.7279580434163413, -1.8738028605779011, -1.8974505265553792, -1.5848116079966228, -2.53731902440389, -2.2780799070994058, -1.5509647925694783, -1.8995410203933716, -1.8916672468185425, -2.0144755442937217, -2.4499480724334717, -2.430097977320353, -2.221113443374634, -2.1024104754130044, -1.808496117591858, -2.144047657648722, -2.1213815609614053, -1.4347606499989827, -1.6695444583892822, -1.9843899408976238, -1.9912807941436768, -1.2884901960690816, -1.8188876310984294, -1.8037696679433186, -1.7592846155166626, -1.1740437348683674, -1.3681784868240356, -1.5993361473083496, -1.5554521083831787, -0.6082061529159546, -0.46297821402549744, -0.6529894868532816, -0.4714416066805522, -0.7206048369407654, -0.862498422463735, -0.3330726313094298, -1.0443281531333923, -1.5748084783554077, -1.7589613199234009, -1.392319917678833, -2.1246463457743325, -1.7696581681569417, -1.4065850575764973, -1.3755933443705242, -1.7766231298446655, -1.4913920561472576, -1.4969498713811238, -2.1290204524993896, -1.8802826404571533, -2.0364091396331787, -1.3890225092569988, -1.9366425673166912, -1.6821291049321492, -1.6241964896519978, -1.5163408120473225, -1.2886511882146199, -1.2609231074651082, -1.4418997764587402, -1.183966875076294, -0.9812319080034891, -0.81937309106191, -1.6255487998326619, -1.6474672158559163, -1.1632002194722493, -1.9732113281885784, -1.4739481608072917, -1.424432675043742, -1.5124091307322185, -0.44272298614184064, -0.7685344616572062, -0.9675639669100443, -0.4578015406926473, 0.0446436715622743, -0.8034603794415792, -0.43346485992272693])\n",
    "\n",
    "avg_current_m0 = avg_current_m0.reshape((11,21))\n",
    "avg_current_m1 = avg_current_m1.reshape((11,21))\n",
    "\n",
    "'''\n",
    "Flip the even number rows \n",
    "'''\n",
    "for row_index in range(len(avg_current_m0)):\n",
    "    if row_index % 2 != 0:\n",
    "        avg_current_m0[row_index, :] = np.flip(avg_current_m0[row_index, :])\n",
    "        avg_current_m1[row_index, :] = np.flip(avg_current_m1[row_index, :])\n",
    "    else:\n",
    "        pass\n",
    "    \n",
    "from scipy import interpolate\n",
    "x = np.arange(0, 21, 1)\n",
    "y = np.arange(0, 11, 1)\n",
    "\n",
    "z  = avg_current_m0\n",
    "zz = avg_current_m1\n",
    "\n",
    "f_m0_current = interpolate.interp2d(x, y, z)\n",
    "f_m1_current = interpolate.interp2d(x, y, zz)\n"
   ]
  },
  {
   "cell_type": "markdown",
   "metadata": {},
   "source": [
    "## Connect to Odrive"
   ]
  },
  {
   "cell_type": "code",
   "execution_count": 4,
   "metadata": {},
   "outputs": [
    {
     "name": "stdout",
     "output_type": "stream",
     "text": [
      "Connected!\n",
      "Target serial 335C315E3536 \t Odrive serial 56471058265398\n",
      "Motor 0 calibrated: True\n",
      "Motor 1 calibrated: True\n"
     ]
    }
   ],
   "source": [
    "def connect_odrive(serial):\n",
    "    odrv0 = odrive.find_any(serial_number = serial, timeout = 20)\n",
    "    if odrv0 is not None:\n",
    "        print('Connected!')\n",
    "        print('Target serial {} \\t Odrive serial {}'.format(serial, odrv0.serial_number))\n",
    "        print('Motor 0 calibrated: {}'.format(odrv0.axis0.motor.is_calibrated))\n",
    "        print('Motor 1 calibrated: {}'.format(odrv0.axis1.motor.is_calibrated))    \n",
    "    else:\n",
    "        print(\"ODrive ({}) not found\".format(serial))\n",
    "    return odrv0\n",
    "\n",
    "# odrv1 = connect_odrive(\"206A33A5304B\")\n",
    "odrv1 = connect_odrive(\"335C315E3536\")\n",
    "\n",
    "m0  = odrv1.axis0\n",
    "m1  = odrv1.axis1"
   ]
  },
  {
   "cell_type": "markdown",
   "metadata": {},
   "source": [
    "## Configuration Setup"
   ]
  },
  {
   "cell_type": "code",
   "execution_count": 23,
   "metadata": {},
   "outputs": [],
   "source": [
    "def SetParameter(odrv0):\n",
    "    current_limit = 20\n",
    "    odrv0.axis0.motor.config.current_lim    = current_limit #A\n",
    "    odrv0.axis1.motor.config.current_lim    = current_limit #A\n",
    "    odrv0.axis0.controller.config.vel_limit = 1000000\n",
    "    odrv0.axis1.controller.config.vel_limit = 1000000\n",
    "    odrv0.axis0.controller.config.pos_gain  = 60\n",
    "    odrv0.axis1.controller.config.pos_gain  = 60\n",
    "    odrv0.axis0.controller.config.vel_integrator_gain = 0.00025\n",
    "    odrv0.axis1.controller.config.vel_integrator_gain = 0.00025\n",
    "    return(current_limit)\n",
    "\n",
    "def CheckMotorError(odrv0):\n",
    "    axis0error = odrv0.axis0.error \n",
    "    axis1error = odrv0.axis1.error \n",
    "    axis0motorerror = odrv0.axis0.motor.error \n",
    "    axis1motorerror = odrv0.axis1.motor.error \n",
    "    axis0controllererror = odrv0.axis0.controller.error \n",
    "    axis1controllererror = odrv0.axis0.controller.error \n",
    "    print(\"error:          \", axis0error, axis1error)\n",
    "    print(\"motorerror:     \", axis0motorerror, axis1motorerror)\n",
    "    print(\"controllererror:\", axis0controllererror, axis1controllererror)\n",
    "    return()\n",
    "\n",
    "def MotorClearError(odrv0):\n",
    "    odrv0.axis0.error = 0\n",
    "    odrv0.axis1.error = 0\n",
    "    odrv0.axis0.motor.error = 0\n",
    "    odrv0.axis1.motor.error = 0\n",
    "    odrv0.axis0.controller.error = 0\n",
    "    odrv0.axis1.controller.error = 0\n",
    "    odrv0.axis0.encoder.error = 0\n",
    "    odrv0.axis1.encoder.error = 0\n",
    "    return()"
   ]
  },
  {
   "cell_type": "code",
   "execution_count": 24,
   "metadata": {},
   "outputs": [
    {
     "name": "stdout",
     "output_type": "stream",
     "text": [
      "Parameter Set!\n"
     ]
    }
   ],
   "source": [
    "SetParameter(odrv1)\n",
    "print(\"Parameter Set!\")"
   ]
  },
  {
   "cell_type": "code",
   "execution_count": 7,
   "metadata": {},
   "outputs": [
    {
     "name": "stdout",
     "output_type": "stream",
     "text": [
      "odrive1\n",
      "error:           0 0\n",
      "motorerror:      0 0\n",
      "controllererror: 0 0\n",
      "Error Clear!\n"
     ]
    }
   ],
   "source": [
    "print(\"odrive1\")\n",
    "CheckMotorError(odrv1)\n",
    "MotorClearError(odrv1)\n",
    "print(\"Error Clear!\")"
   ]
  },
  {
   "cell_type": "markdown",
   "metadata": {},
   "source": [
    "## Motor Command"
   ]
  },
  {
   "cell_type": "code",
   "execution_count": 8,
   "metadata": {},
   "outputs": [],
   "source": [
    "def Calibration(odrv0):\n",
    "    odrv0.axis0.requested_state = AXIS_STATE_FULL_CALIBRATION_SEQUENCE\n",
    "    odrv0.axis1.requested_state = AXIS_STATE_FULL_CALIBRATION_SEQUENCE\n",
    "    print('Motor 0 calibrated: {}'.format(odrv0.axis0.motor.is_calibrated))\n",
    "    print('Motor 1 calibrated: {}'.format(odrv0.axis1.motor.is_calibrated))   \n",
    "\n",
    "def ClosedLoopControlMode(odrv0):\n",
    "    odrv0.axis0.requested_state = AXIS_STATE_CLOSED_LOOP_CONTROL\n",
    "    odrv0.axis1.requested_state = AXIS_STATE_CLOSED_LOOP_CONTROL\n",
    "\n",
    "def IdleMode(odrv0):\n",
    "    odrv0.axis0.requested_state = odrive.enums.AXIS_STATE_IDLE\n",
    "    odrv0.axis1.requested_state = odrive.enums.AXIS_STATE_IDLE\n",
    "\n",
    "def ControllerPositionControl(odrv0): # default mode\n",
    "    odrv0.axis0.controller.config.control_mode = CTRL_MODE_POSITION_CONTROL\n",
    "    odrv0.axis1.controller.config.control_mode = CTRL_MODE_POSITION_CONTROL\n",
    "#     print(\"Control Mode :{}\".format(odrv0.axis0.controller.config.control_mode))\n",
    "\n",
    "def ControllerCurrentControl(odrv0):\n",
    "    odrv0.axis0.controller.config.control_mode = CTRL_MODE_CURRENT_CONTROL\n",
    "    odrv0.axis1.controller.config.control_mode = CTRL_MODE_CURRENT_CONTROL\n",
    "#     print(\"Control Mode :{}\".format(odrv0.axis0.controller.config.control_mode))\n",
    "\n",
    "def MaxCurrentProtection(current, current_limit = 20):\n",
    "    current = min(np.abs(current), current_limit) * np.sign(current) \n",
    "    return(current)"
   ]
  },
  {
   "cell_type": "code",
   "execution_count": null,
   "metadata": {},
   "outputs": [],
   "source": [
    "Calibration(odrv1)"
   ]
  },
  {
   "cell_type": "code",
   "execution_count": 9,
   "metadata": {},
   "outputs": [],
   "source": [
    "ClosedLoopControlMode(odrv1)"
   ]
  },
  {
   "cell_type": "code",
   "execution_count": 10,
   "metadata": {},
   "outputs": [],
   "source": [
    "IdleMode(odrv1)"
   ]
  },
  {
   "cell_type": "markdown",
   "metadata": {},
   "source": [
    "## Define zero angle"
   ]
  },
  {
   "cell_type": "code",
   "execution_count": 11,
   "metadata": {},
   "outputs": [
    {
     "name": "stdout",
     "output_type": "stream",
     "text": [
      "-996.078369140625\n",
      "3094.484375\n"
     ]
    }
   ],
   "source": [
    "m0_home_pos = m0.encoder.pos_estimate\n",
    "m1_home_pos = m1.encoder.pos_estimate\n",
    "theta_R_home = -((m0_home_pos) / 8192 * 2 * np.pi) + np.pi\n",
    "theta_L_home = -((m1_home_pos) / 8192 * 2 * np.pi)\n",
    "print(m0_home_pos)\n",
    "print(m1_home_pos)"
   ]
  },
  {
   "cell_type": "markdown",
   "metadata": {},
   "source": [
    "## Define home location"
   ]
  },
  {
   "cell_type": "code",
   "execution_count": 12,
   "metadata": {},
   "outputs": [
    {
     "name": "stdout",
     "output_type": "stream",
     "text": [
      "Odrv1 \n",
      "R: 132.49168395996094 \n",
      "L: 43.82446289062499\n"
     ]
    }
   ],
   "source": [
    "m0_equilibrium_toe_pos = m0.encoder.pos_estimate\n",
    "m1_equilibrium_toe_pos = m1.encoder.pos_estimate\n",
    "theta_R_eq = - ((m0_equilibrium_toe_pos - m0_home_pos) / 8192 * 2 * np.pi) + np.pi\n",
    "theta_L_eq = - ((m1_equilibrium_toe_pos - m1_home_pos) / 8192 * 2 * np.pi)\n",
    "theta_R_eq_d = theta_R_eq / (2 * np.pi) * 360\n",
    "theta_L_eq_d = theta_L_eq / (2 * np.pi) * 360\n",
    "print(\"Odrv1 \\nR:\", theta_R_eq_d, \"\\nL:\", theta_L_eq_d)"
   ]
  },
  {
   "cell_type": "markdown",
   "metadata": {},
   "source": [
    "## Space Convertor"
   ]
  },
  {
   "cell_type": "code",
   "execution_count": 13,
   "metadata": {},
   "outputs": [],
   "source": [
    "def get_joint_angle(m0_home_pos, m1_home_pos):\n",
    "    \n",
    "    thetaR = -((m0.encoder.pos_estimate - m0_home_pos) / 8192 * 2 * np.pi) + np.pi\n",
    "    thetaL = -((m1.encoder.pos_estimate - m1_home_pos) / 8192 * 2 * np.pi)\n",
    "    \n",
    "    return np.array([[thetaR],[thetaL]])\n",
    "\n",
    "def get_encoder_unit(m0_home_pos, m1_home_pos, theta_R, theta_L):\n",
    "    \n",
    "    m0_pos = -(theta_R - np.pi)/(2*np.pi)*8192 + m0_home_pos\n",
    "    m1_pos = -theta_L/(2*np.pi)*8192 + m1_home_pos \n",
    "    \n",
    "    return np.array([[m0_pos],[m1_pos]])\n",
    "\n",
    "def from_joint_get_pos(m0_home_pos, m1_home_pos): #return current xy\n",
    "    \n",
    "    thetaR = - ((m0.encoder.pos_estimate - m0_home_pos) / 8192 * 2 * np.pi) + np.pi\n",
    "    thetaL = - ((m1.encoder.pos_estimate - m1_home_pos) / 8192 * 2 * np.pi)\n",
    "\n",
    "    x = FK_fast(thetaR, thetaL)[0]\n",
    "    y = FK_fast(thetaR, thetaL)[1]\n",
    "    \n",
    "    return np.array([x, y])\n",
    "\n",
    "def from_pos_get_joint(x, y, m0_home_pos, m1_home_pos): #xy ->encoder\n",
    "\n",
    "    theta_R = IK_5_link(x, y)[1]\n",
    "    theta_L = IK_5_link(x, y)[0]\n",
    "    \n",
    "    m0_pos = -(theta_R - np.pi)/(2*np.pi)*8192 + m0_home_pos\n",
    "    m1_pos = -theta_L/(2*np.pi)*8192 + m1_home_pos\n",
    "    \n",
    "    return np.array([m0_pos, m1_pos])"
   ]
  },
  {
   "cell_type": "markdown",
   "metadata": {},
   "source": [
    "## Trajactory Generator"
   ]
  },
  {
   "cell_type": "code",
   "execution_count": 43,
   "metadata": {},
   "outputs": [],
   "source": [
    "def SwingTrajectory(t_clock, UpperAMP = 0.02, StanceHeight = 0.19, StepLength = 0.18):\n",
    "    \n",
    "    period = 2\n",
    "    percent = t_clock / period\n",
    "\n",
    "    if (percent <= 1): # Swing\n",
    "        x = -(StepLength / 2) + percent * StepLength\n",
    "        y = -UpperAMP * np.sin(np.pi * percent) + StanceHeight  \n",
    "        \n",
    "    else: # Stay and do nothing\n",
    "        x = StepLength / 2\n",
    "        y = StanceHeight\n",
    "\n",
    "    return np.array([[x], [y]])\n",
    "\n",
    "def GoHomeTrajactory(t_clock, StanceHeight = 0.19, StepLength = 0.18, LiftHeight = 0.09):\n",
    "\n",
    "    period = 4   \n",
    "    percent = t_clock / period\n",
    "\n",
    "    if percent >= 0 and percent < 0.25:\n",
    "        x = StepLength / 2\n",
    "        y = -(percent / 0.25) * LiftHeight + StanceHeight\n",
    "        \n",
    "    elif percent >= 0.25 and percent < 0.75:\n",
    "        x = StepLength / 2 - ((percent - 0.25) / 0.5) * StepLength\n",
    "        y = -LiftHeight + StanceHeight\n",
    "        \n",
    "    elif percent >= 0.75 and percent <= 1:\n",
    "        x = -StepLength / 2\n",
    "        y = -LiftHeight + StanceHeight + ((percent - 0.75) / 0.25) * LiftHeight \n",
    "        \n",
    "    else:\n",
    "        x = -StepLength / 2\n",
    "        y = StanceHeight\n",
    "\n",
    "    return np.array([[x], [y]])\n",
    "\n",
    "def GoHomeTrajactoryflexible(t_clock, x_0, y_0, StanceHeight = 0.19, StepLength = 0.18, LiftHeight = 0.09):\n",
    "\n",
    "    period = 4   \n",
    "    percent = t_clock / period\n",
    "\n",
    "    if percent >= 0 and percent < 0.25:\n",
    "        x = x_0\n",
    "        y = -(percent / 0.25) * (y_0-(StanceHeight-LiftHeight)) + y_0\n",
    "        \n",
    "    elif percent >= 0.25 and percent < 0.75:\n",
    "        x = x_0 - ((percent - 0.25) / 0.5) * (StepLength/2+x_0)\n",
    "        y = -LiftHeight + StanceHeight\n",
    "        \n",
    "    elif percent >= 0.75 and percent <= 1:\n",
    "        x = -StepLength / 2\n",
    "        y = -LiftHeight + StanceHeight + ((percent - 0.75) / 0.25) * LiftHeight \n",
    "        \n",
    "    else:\n",
    "        x = -StepLength / 2\n",
    "        y = StanceHeight\n",
    "\n",
    "    return np.array([[x], [y]])"
   ]
  },
  {
   "cell_type": "markdown",
   "metadata": {},
   "source": [
    "## Run test Pos mode"
   ]
  },
  {
   "cell_type": "code",
   "execution_count": null,
   "metadata": {},
   "outputs": [],
   "source": [
    "%matplotlib qt"
   ]
  },
  {
   "cell_type": "code",
   "execution_count": 27,
   "metadata": {},
   "outputs": [],
   "source": [
    "def run_step_test(test_cycle, pause_time = 2, swing_time = 2, gohome_time = 4):\n",
    "    \n",
    "    ClosedLoopControlMode(odrv1)\n",
    "\n",
    "    x = []\n",
    "    y = []\n",
    "    x_real = []\n",
    "    y_real = []\n",
    "    \n",
    "    count = 0\n",
    "    while count < test_cycle:\n",
    "        '''\n",
    "        Pausing =================================================================================\n",
    "        '''\n",
    "        t_pause_start = time.time()\n",
    "        while time.time() - t_pause_start < pause_time:\n",
    "\n",
    "            pass\n",
    "        '''\n",
    "        Swing Trajactory ========================================================================\n",
    "        '''\n",
    "        t_swing_start = time.time()\n",
    "        while time.time() - t_swing_start < swing_time:\n",
    "\n",
    "            t_clock = time.time() - t_swing_start\n",
    "            odrv1_theta_R = IK_5_link(SwingTrajectory(t_clock)[0],SwingTrajectory(t_clock)[1])[1]\n",
    "            odrv1_theta_L = IK_5_link(SwingTrajectory(t_clock)[0],SwingTrajectory(t_clock)[1])[0]\n",
    "            \n",
    "            m0_pos = -(odrv1_theta_R - np.pi)/(2*np.pi)*8192 + m0_home_pos\n",
    "            m1_pos = -odrv1_theta_L/(2*np.pi)*8192 + m1_home_pos\n",
    "            \n",
    "            m0.controller.set_pos_setpoint(m0_pos,0,0)\n",
    "            m1.controller.set_pos_setpoint(m1_pos,0,0)\n",
    "            \n",
    "            #plotting-----------------------------------------------------------------------------\n",
    "            x.append(SwingTrajectory(t_clock)[0])\n",
    "            y.append(SwingTrajectory(t_clock)[1])\n",
    "            \n",
    "            real_thetaR = - ((m0.encoder.pos_estimate - m0_home_pos) / 8192 * 2 * np.pi) + np.pi\n",
    "            real_thetaL = - ((m1.encoder.pos_estimate - m1_home_pos) / 8192 * 2 * np.pi)\n",
    "            \n",
    "            x_real.append(FK_fast(real_thetaR, real_thetaL)[0])\n",
    "            y_real.append(FK_fast(real_thetaR, real_thetaL)[1])\n",
    "        '''\n",
    "        Pausing =================================================================================\n",
    "        '''\n",
    "        ClosedLoopControlMode(odrv1)\n",
    "        \n",
    "        x_0 = from_joint_get_pos(m0_home_pos, m1_home_pos)[0][0] #return current x\n",
    "        y_0 = from_joint_get_pos(m0_home_pos, m1_home_pos)[1][0] #return current y\n",
    "        \n",
    "        m0.controller.set_pos_setpoint(from_pos_get_joint(x_0, y_0, m0_home_pos, m1_home_pos)[0],0,0)\n",
    "        m1.controller.set_pos_setpoint(from_pos_get_joint(x_0, y_0, m0_home_pos, m1_home_pos)[1],0,0)\n",
    "        \n",
    "        t_pause_start = time.time()\n",
    "        while time.time() - t_pause_start < pause_time:\n",
    "\n",
    "            pass\n",
    "        '''\n",
    "        Going Home Trajactory =====================================================================\n",
    "        '''\n",
    "\n",
    "        t_gohome_start = time.time()\n",
    "        while time.time() - t_gohome_start < gohome_time:\n",
    "            \n",
    "            t_clock = time.time() - t_gohome_start\n",
    "            odrv1_theta_R = IK_5_link(GoHomeTrajactoryflexible(t_clock,x_0,y_0)[0],GoHomeTrajactoryflexible(t_clock,x_0,y_0)[1])[1]\n",
    "            odrv1_theta_L = IK_5_link(GoHomeTrajactoryflexible(t_clock,x_0,y_0)[0],GoHomeTrajactoryflexible(t_clock,x_0,y_0)[1])[0] \n",
    "            \n",
    "            m0_pos = -(odrv1_theta_R - np.pi)/(2*np.pi)*8192 + m0_home_pos\n",
    "            m1_pos = -odrv1_theta_L/(2*np.pi)*8192 + m1_home_pos\n",
    "            \n",
    "            m0.controller.set_pos_setpoint(m0_pos,0,0)\n",
    "            m1.controller.set_pos_setpoint(m1_pos,0,0)\n",
    "            \n",
    "            #plotting-----------------------------------------------------------------------------\n",
    "            x.append(GoHomeTrajactoryflexible(t_clock,x_0,y_0)[0])\n",
    "            y.append(GoHomeTrajactoryflexible(t_clock,x_0,y_0)[1])    \n",
    "            \n",
    "            real_thetaR = - ((m0.encoder.pos_estimate - m0_home_pos) / 8192 * 2 * np.pi) + np.pi\n",
    "            real_thetaL = - ((m1.encoder.pos_estimate - m1_home_pos) / 8192 * 2 * np.pi)\n",
    "            \n",
    "            x_real.append(FK_fast(real_thetaR, real_thetaL)[0])\n",
    "            y_real.append(FK_fast(real_thetaR, real_thetaL)[1])\n",
    "\n",
    "        count += 1\n",
    "        print(\"test cycle:\",count)\n",
    "\n",
    "    plt.plot(x,y)\n",
    "    plt.plot(x_real,y_real)\n",
    "    plt.xlim(0.1, -0.1)\n",
    "    plt.ylim(0.19, 0.09)\n",
    "    plt.title(\"Pos step:{} cycles & vel_gain: {}\".format(test_cycle, odrv1.axis0.controller.config.vel_integrator_gain))\n",
    "    plt.legend(['set point','real point'])\n",
    "    plt.xlabel('x(m)')\n",
    "    plt.ylabel('y(m)')\n",
    "    plt.show()"
   ]
  },
  {
   "cell_type": "code",
   "execution_count": 28,
   "metadata": {},
   "outputs": [
    {
     "name": "stdout",
     "output_type": "stream",
     "text": [
      "test cycle: 1\n",
      "test cycle: 2\n"
     ]
    },
    {
     "data": {
      "image/png": "[encoded data removed]",
      "text/plain": [
       "<Figure size 432x288 with 1 Axes>"
      ]
     },
     "metadata": {
      "needs_background": "light"
     },
     "output_type": "display_data"
    },
    {
     "name": "stdout",
     "output_type": "stream",
     "text": [
      "time spent:20.197597980499268sec\n"
     ]
    }
   ],
   "source": [
    "t0 = time.time()\n",
    "run_step_test(2)\n",
    "t = time.time() - t0\n",
    "print(\"time spent:{}sec\".format(t))\n",
    "\n",
    "time.sleep(1)\n",
    "IdleMode(odrv1)"
   ]
  },
  {
   "cell_type": "code",
   "execution_count": null,
   "metadata": {},
   "outputs": [],
   "source": [
    "IdleMode(odrv1)"
   ]
  },
  {
   "cell_type": "code",
   "execution_count": 36,
   "metadata": {},
   "outputs": [],
   "source": [
    "\"\"\"\n",
    "k = [kx,0 ]  c = [cx,0 ]\n",
    "    [0 ,ky]      [0 ,cy]\n",
    "\n",
    "\"\"\"\n",
    "\n",
    "def compliance_swing(theta_R, theta_L, vel_R, vel_L, t_swing_start):\n",
    "    \n",
    "    t_clock = time.time() - t_swing_start\n",
    "    disp    = FK_fast(theta_R, theta_L) - SwingTrajectory(t_clock) \n",
    "    \n",
    "    Kt = 0.0285\n",
    "    k  = np.array([[30 ,0],[0,30 ]])\n",
    "    c  = np.array([[0.5,0],[0,0.5]])\n",
    "       \n",
    "    vel     = J_fast(theta_R, theta_L) @ np.array([[vel_R], [vel_L]])\n",
    "    current = -J_fast(theta_R, theta_L).T @ ( k @ disp + c @ vel )*(1/Kt)\n",
    "    \n",
    "    return current\n",
    "\n",
    "def compliance_antigravity(theta_R, theta_L):\n",
    "    \n",
    "    i = -100*(FK_fast(theta_R, theta_L)[0])+10\n",
    "    j = -100*(FK_fast(theta_R, theta_L)[1])+19\n",
    "    \n",
    "    current = np.array([f_m0_current(i, j), f_m1_current(i, j)])\n",
    "    \n",
    "    return current\n",
    "\n",
    "def compliance_antigravity_swing(theta_R, theta_L, vel_R, vel_L, t_swing_start):\n",
    "    \n",
    "    t_clock = time.time() - t_swing_start\n",
    "    disp    = FK_fast(theta_R, theta_L) - SwingTrajectory(t_clock) \n",
    "    \n",
    "    Kt = 0.0285\n",
    "    k  = np.array([[100 ,0],[0,100 ]])\n",
    "    c  = np.array([[0.5,0],[0,0.5]])\n",
    "    \n",
    "    i  = -100*(FK_fast(theta_R, theta_L)[0])+10\n",
    "    j  = -100*(FK_fast(theta_R, theta_L)[1])+19\n",
    "       \n",
    "    vel     = J_fast(theta_R, theta_L) @ np.array([[vel_R], [vel_L]])\n",
    "    current = -J_fast(theta_R, theta_L).T @ ( k @ disp + c @ vel )*(1/Kt) + np.array([f_m0_current(i, j), f_m1_current(i, j)])\n",
    "    \n",
    "    return current, k[0,0]"
   ]
  },
  {
   "cell_type": "markdown",
   "metadata": {},
   "source": [
    "## Run compliance mode"
   ]
  },
  {
   "cell_type": "code",
   "execution_count": null,
   "metadata": {},
   "outputs": [],
   "source": [
    "ControllerCurrentControl(odrv1)"
   ]
  },
  {
   "cell_type": "code",
   "execution_count": 44,
   "metadata": {},
   "outputs": [],
   "source": [
    "def run_compliance_step_test(test_cycle, pause_time = 2, swing_time = 2, gohome_time = 4):\n",
    "    \n",
    "    ClosedLoopControlMode(odrv1)\n",
    "\n",
    "    x = []\n",
    "    y = []\n",
    "    m0_i   = []\n",
    "    m1_i   = []\n",
    "    x_real = []\n",
    "    y_real = []\n",
    "    i_index = 0\n",
    "    \n",
    "    count = 0\n",
    "    while count < test_cycle:\n",
    "        '''\n",
    "        Pausing =================================================================================\n",
    "        '''\n",
    "        t_pause_start = time.time()\n",
    "        while time.time() - t_pause_start < pause_time:\n",
    "\n",
    "            pass\n",
    "        '''\n",
    "        Swing Trajactory ========================================================================\n",
    "        '''\n",
    "        t_swing_start = time.time()\n",
    "        while time.time() - t_swing_start < swing_time:\n",
    "            \n",
    "            t_clock = time.time() - t_swing_start\n",
    "            theta_R = - ((m0.encoder.pos_estimate - m0_home_pos) / 8192 * 2 * np.pi) + np.pi\n",
    "            theta_L = - ((m1.encoder.pos_estimate - m1_home_pos) / 8192 * 2 * np.pi)\n",
    "            vel_R = - (m0.encoder.vel_estimate / 8192 * 2 * np.pi)\n",
    "            vel_L = - (m1.encoder.vel_estimate / 8192 * 2 * np.pi)\n",
    "             \n",
    "            current, k = compliance_antigravity_swing(theta_R, theta_L, vel_R, vel_L, t_swing_start)\n",
    "            # Motor current = Current - Damp Current\n",
    "            m0_current_R = current[0] - np.array(0.5 * vel_R)\n",
    "            m1_current_L = current[1] - np.array(0.5 * vel_L)\n",
    "            \n",
    "            m0.controller.set_current_setpoint(-MaxCurrentProtection(m0_current_R))\n",
    "            m1.controller.set_current_setpoint(-MaxCurrentProtection(m1_current_L))\n",
    "            \n",
    "            #plotting-----------------------------------------------------------------------------\n",
    "            x.append(SwingTrajectory(t_clock)[0])\n",
    "            y.append(SwingTrajectory(t_clock)[1])\n",
    "            \n",
    "            real_thetaR = - ((m0.encoder.pos_estimate - m0_home_pos) / 8192 * 2 * np.pi) + np.pi\n",
    "            real_thetaL = - ((m1.encoder.pos_estimate - m1_home_pos) / 8192 * 2 * np.pi)\n",
    "            \n",
    "            x_real.append(FK_fast(real_thetaR, real_thetaL)[0])\n",
    "            y_real.append(FK_fast(real_thetaR, real_thetaL)[1])\n",
    "            \n",
    "            m0_i.append(m0.motor.current_control.Iq_measured)\n",
    "            m1_i.append(m1.motor.current_control.Iq_measured)\n",
    "            \n",
    "            i_index += 1\n",
    "        '''\n",
    "        Pausing =================================================================================\n",
    "        '''\n",
    "        m0.controller.set_current_setpoint(0)\n",
    "        m1.controller.set_current_setpoint(0)\n",
    "        ControllerPositionControl(odrv1)\n",
    "        ClosedLoopControlMode(odrv1)\n",
    "        \n",
    "        x_0 = from_joint_get_pos(m0_home_pos, m1_home_pos)[0][0] #return current x\n",
    "        y_0 = from_joint_get_pos(m0_home_pos, m1_home_pos)[1][0] #return current y\n",
    "        \n",
    "        m0.controller.set_pos_setpoint(from_pos_get_joint(x_0, y_0, m0_home_pos, m1_home_pos)[0],0,0)\n",
    "        m1.controller.set_pos_setpoint(from_pos_get_joint(x_0, y_0, m0_home_pos, m1_home_pos)[1],0,0)\n",
    "        \n",
    "        t_pause_start = time.time()\n",
    "        while time.time() - t_pause_start < pause_time:\n",
    "\n",
    "            pass\n",
    "        '''\n",
    "        Going Home Trajactory =====================================================================\n",
    "        '''\n",
    "        t_gohome_start = time.time()\n",
    "        while time.time() - t_gohome_start < gohome_time:\n",
    "\n",
    "            t_clock = time.time() - t_gohome_start\n",
    "            odrv1_theta_R = IK_5_link(GoHomeTrajactoryflexible(t_clock,x_0,y_0)[0],GoHomeTrajactoryflexible(t_clock,x_0,y_0)[1])[1]\n",
    "            odrv1_theta_L = IK_5_link(GoHomeTrajactoryflexible(t_clock,x_0,y_0)[0],GoHomeTrajactoryflexible(t_clock,x_0,y_0)[1])[0] \n",
    "            \n",
    "            m0_pos  = -(odrv1_theta_R - np.pi)/(2*np.pi)*8192 + m0_home_pos\n",
    "            m1_pos  = -odrv1_theta_L/(2*np.pi)*8192 + m1_home_pos\n",
    "            \n",
    "            m0.controller.set_pos_setpoint(m0_pos,0,0)\n",
    "            m1.controller.set_pos_setpoint(m1_pos,0,0)\n",
    "            \n",
    "            #plotting-----------------------------------------------------------------------------\n",
    "            x.append(GoHomeTrajactoryflexible(t_clock,x_0,y_0)[0])\n",
    "            y.append(GoHomeTrajactoryflexible(t_clock,x_0,y_0)[1])    \n",
    "            \n",
    "            real_thetaR = - ((m0.encoder.pos_estimate - m0_home_pos) / 8192 * 2 * np.pi) + np.pi\n",
    "            real_thetaL = - ((m1.encoder.pos_estimate - m1_home_pos) / 8192 * 2 * np.pi)\n",
    "            \n",
    "            x_real.append(FK_fast(real_thetaR, real_thetaL)[0])\n",
    "            y_real.append(FK_fast(real_thetaR, real_thetaL)[1])\n",
    "            \n",
    "            m0_i.append(m0.motor.current_control.Iq_measured)\n",
    "            m1_i.append(m1.motor.current_control.Iq_measured)\n",
    "\n",
    "        count += 1\n",
    "        print(\"test cycle:\",count)\n",
    "        \n",
    "    fig1 = plt.plot(x,y)\n",
    "    fig1 = plt.plot(x_real,y_real)\n",
    "    plt.xlim(0.1, -0.1)\n",
    "    plt.ylim(0.19, 0.09)\n",
    "    plt.title(\"Isotropic Compliance Step: {} cycle, Kx = {}\".format(test_cycle,k))\n",
    "    plt.legend(['set point','real point'])\n",
    "    plt.xlabel('x(m)')\n",
    "    plt.ylabel('y(m)')\n",
    "    fig1 = plt.show()\n",
    "    \n",
    "#     i = np.arange(i_index)\n",
    "#     fig2 = plt.plot(i,m0_i,'tab:red',linewidth=1)\n",
    "#     fig2 = plt.plot(i,m1_i,'tab:blue',linewidth=1)\n",
    "#     plt.title(\"Motor Current\")\n",
    "#     plt.legend(['m0','m1'])\n",
    "#     plt.xlabel('Loop count')\n",
    "#     plt.ylabel('Current (A)')\n",
    "#     fig2 = plt.show()"
   ]
  },
  {
   "cell_type": "code",
   "execution_count": 45,
   "metadata": {},
   "outputs": [
    {
     "name": "stdout",
     "output_type": "stream",
     "text": [
      "test cycle: 1\n",
      "test cycle: 2\n"
     ]
    },
    {
     "data": {
      "image/png": "[encoded data removed]",
      "text/plain": [
       "<Figure size 432x288 with 1 Axes>"
      ]
     },
     "metadata": {
      "needs_background": "light"
     },
     "output_type": "display_data"
    },
    {
     "name": "stdout",
     "output_type": "stream",
     "text": [
      "time spent:20.202030181884766sec\n"
     ]
    }
   ],
   "source": [
    "t0 = time.time()\n",
    "run_compliance_step_test(2)\n",
    "t = time.time() - t0\n",
    "print(\"time spent:{}sec\".format(t))\n",
    "\n",
    "time.sleep(2)\n",
    "IdleMode(odrv1)"
   ]
  },
  {
   "cell_type": "code",
   "execution_count": null,
   "metadata": {},
   "outputs": [],
   "source": [
    "ClosedLoopControlMode(odrv1)"
   ]
  },
  {
   "cell_type": "code",
   "execution_count": null,
   "metadata": {},
   "outputs": [],
   "source": [
    "IdleMode(odrv1)"
   ]
  },
  {
   "cell_type": "code",
   "execution_count": null,
   "metadata": {},
   "outputs": [],
   "source": [
    "print(\"odrive1\")\n",
    "CheckMotorError(odrv1)\n",
    "MotorClearError(odrv1)\n",
    "print(\"Error Clear!\")"
   ]
  },
  {
   "cell_type": "code",
   "execution_count": null,
   "metadata": {},
   "outputs": [],
   "source": [
    "def run_compliance_gravity_test(test_time):\n",
    "    \n",
    "    ClosedLoopControlMode(odrv1)\n",
    "    \n",
    "    t_start = time.time()\n",
    "    \n",
    "    while time.time() - t_start < test_time:\n",
    "\n",
    "        theta_R = - ((m0.encoder.pos_estimate - m0_home_pos) / 8192 * 2 * np.pi) + np.pi\n",
    "        theta_L = - ((m1.encoder.pos_estimate - m1_home_pos) / 8192 * 2 * np.pi)\n",
    "        vel_R = - (m0.encoder.vel_estimate / 8192 * 2 * np.pi)\n",
    "        vel_L = - (m1.encoder.vel_estimate / 8192 * 2 * np.pi)\n",
    "\n",
    "        current = compliance_antigravity(theta_R, theta_L)\n",
    "        # Motor current = Current - Damp Current\n",
    "        m0_current_R = current[0] - np.array(0.5 * vel_R)\n",
    "        m1_current_L = current[1] - np.array(0.5 * vel_L)\n",
    "\n",
    "        m0.controller.set_current_setpoint(-MaxCurrentProtection(m0_current_R))\n",
    "        m1.controller.set_current_setpoint(-MaxCurrentProtection(m1_current_L))"
   ]
  },
  {
   "cell_type": "code",
   "execution_count": null,
   "metadata": {},
   "outputs": [],
   "source": [
    "run_compliance_gravity_test(10)\n",
    "\n",
    "time.sleep(1)\n",
    "IdleMode(odrv1)"
   ]
  },
  {
   "cell_type": "code",
   "execution_count": null,
   "metadata": {},
   "outputs": [],
   "source": []
  }
 ],
 "metadata": {
  "kernelspec": {
   "display_name": "Python 3",
   "language": "python",
   "name": "python3"
  },
  "language_info": {
   "codemirror_mode": {
    "name": "ipython",
    "version": 3
   },
   "file_extension": ".py",
   "mimetype": "text/x-python",
   "name": "python",
   "nbconvert_exporter": "python",
   "pygments_lexer": "ipython3",
   "version": "3.7.4"
  }
 },
 "nbformat": 4,
 "nbformat_minor": 2
}
