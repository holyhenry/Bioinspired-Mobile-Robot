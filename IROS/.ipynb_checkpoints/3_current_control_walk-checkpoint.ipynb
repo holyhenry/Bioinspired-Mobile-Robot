{
 "cells": [
  {
   "cell_type": "code",
   "execution_count": 1,
   "metadata": {},
   "outputs": [],
   "source": [
    "import odrive\n",
    "from odrive.enums import *\n",
    "import time\n",
    "import math\n",
    "import numpy as np\n",
    "import sympy as sp\n",
    "from sympy.utilities.lambdify import lambdify\n",
    "import matplotlib.pyplot as plt\n",
    "plt.ion()\n",
    "import matplotlib as mpl\n",
    "mpl.use('Qt5Agg')\n",
    "from scipy.optimize import minimize"
   ]
  },
  {
   "cell_type": "markdown",
   "metadata": {},
   "source": [
    "# Forward Kinematics & IK & Jacobian (Joint space -- Foot space)"
   ]
  },
  {
   "cell_type": "code",
   "execution_count": 2,
   "metadata": {},
   "outputs": [],
   "source": [
    "(thetaL_sym, thetaR_sym) = sp.symbols(\"\"\"thetaL_sym thetaR_sym \"\"\", real = True)\n",
    "\n",
    "def T(theta, x, y):\n",
    "    return sp.Matrix([[sp.cos(theta), -sp.sin(theta), x], \n",
    "                      [sp.sin(theta), sp.cos(theta), y],\n",
    "                      [0, 0, 1]])\n",
    "\n",
    "l1 = 0.09\n",
    "l2 = 0.16\n",
    "w  = 0.07\n",
    "\n",
    "x_r = -w/2 + l1*sp.cos(thetaR_sym)\n",
    "x_l = w/2 + l1*sp.cos(thetaL_sym)\n",
    "\n",
    "y_r = l1*sp.sin(thetaR_sym)\n",
    "y_l = l1*sp.sin(thetaL_sym)\n",
    "\n",
    "theta3_sym = sp.atan2(y_l - y_r, x_l - x_r)\n",
    "L = sp.sqrt((x_l - x_r)**2 + (y_l - y_r)**2)\n",
    "\n",
    "FK = T(thetaL_sym, w/2, 0)@T((sp.pi - thetaL_sym + theta3_sym), l1, 0)@sp.Matrix([L/2, -sp.sqrt(l2**2 - (L/2)**2), 1])\n",
    "FK = FK[:2,:]\n",
    "FK.simplify()\n",
    "FK_fast = lambdify((thetaR_sym, thetaL_sym), FK) # (x,y) = FK_fast(thetaR,thetaL)\n",
    "\n",
    "J = FK.jacobian([thetaR_sym, thetaL_sym]).evalf()\n",
    "J_fast = lambdify((thetaR_sym, thetaL_sym), J) # J_fast(thetaR,thetaL)\n",
    "\n",
    "def IK_5_link(x, y, l1 = 0.09, l2 = 0.16, w = 0.07):\n",
    "\n",
    "    def leg_wide(var):\n",
    "        return np.linalg.norm([var[0], var[1] - np.pi]) \n",
    "\n",
    "    def x_constraint_equation(var):\n",
    "    # should be equal to zero when the \n",
    "        return l1**2 - l2**2 + (x - w/2)**2 + y**2 - 2*l1*(y*np.sin(var[0]) + (x - w/2)*np.cos(var[0]))\n",
    "\n",
    "    def y_constraint_equation(var):\n",
    "        return l1**2 - l2**2 + (x + w/2)**2 + y**2 - 2*l1*(y*np.sin(var[1]) + (x + w/2)*np.cos(var[1]))\n",
    "\n",
    "    res = minimize(leg_wide, (0.1, 9*np.pi/10), method=\"SLSQP\", constraints= ({\"type\": \"eq\", \"fun\": x_constraint_equation}, \n",
    "                                                                              {\"type\": \"eq\", \"fun\": y_constraint_equation}))\n",
    "    return (res.x[0], res.x[1])"
   ]
  },
  {
   "cell_type": "code",
   "execution_count": 3,
   "metadata": {},
   "outputs": [
    {
     "name": "stdout",
     "output_type": "stream",
     "text": [
      "[-2.77555756e-17] [0.09987492]\n",
      "1.1288455222334933e-12 179.99999999953877\n"
     ]
    }
   ],
   "source": [
    "pos = FK_fast(np.pi,0)\n",
    "print(pos[0],pos[1])\n",
    "res = IK_5_link(pos[0], pos[1])\n",
    "print(res[0]/2/np.pi*360, res[1]/2/np.pi*360)"
   ]
  },
  {
   "cell_type": "markdown",
   "metadata": {},
   "source": [
    "## Connect to Odrive"
   ]
  },
  {
   "cell_type": "code",
   "execution_count": 4,
   "metadata": {},
   "outputs": [
    {
     "name": "stdout",
     "output_type": "stream",
     "text": [
      "Connected!\n",
      "Target serial 20773394304B \t Odrive serial 35696338546763\n",
      "Motor 0 calibrated: True\n",
      "Motor 1 calibrated: True\n",
      "Connected!\n",
      "Target serial 337231563536 \t Odrive serial 56565547021622\n",
      "Motor 0 calibrated: True\n",
      "Motor 1 calibrated: True\n"
     ]
    }
   ],
   "source": [
    "def connect_odrive(serial):\n",
    "    odrv0 = odrive.find_any(serial_number = serial, timeout = 20)\n",
    "    if odrv0 is not None:\n",
    "        print('Connected!')\n",
    "        print('Target serial {} \\t Odrive serial {}'.format(serial, odrv0.serial_number))\n",
    "        print('Motor 0 calibrated: {}'.format(odrv0.axis0.motor.is_calibrated))\n",
    "        print('Motor 1 calibrated: {}'.format(odrv0.axis1.motor.is_calibrated))    \n",
    "    else:\n",
    "        print(\"ODrive ({}) not found\".format(serial))\n",
    "    return odrv0\n",
    "\n",
    "odrv1 = connect_odrive(\"20773394304B\")\n",
    "odrv2 = connect_odrive(\"337231563536\")\n",
    "\n",
    "m0  = odrv1.axis0\n",
    "m1  = odrv1.axis1\n",
    "m00 = odrv2.axis0\n",
    "m11 = odrv2.axis1"
   ]
  },
  {
   "cell_type": "markdown",
   "metadata": {},
   "source": [
    "## Setup"
   ]
  },
  {
   "cell_type": "code",
   "execution_count": 5,
   "metadata": {},
   "outputs": [],
   "source": [
    "def SetParameter(odrv0):\n",
    "    current_limit = 20\n",
    "    odrv0.axis0.motor.config.current_lim    = current_limit #A\n",
    "    odrv0.axis1.motor.config.current_lim    = current_limit #A\n",
    "    odrv0.axis0.controller.config.vel_limit = 1000000\n",
    "    odrv0.axis1.controller.config.vel_limit = 1000000\n",
    "    odrv0.axis0.controller.config.pos_gain  = 20\n",
    "    odrv0.axis1.controller.config.pos_gain  = 20\n",
    "    odrv0.axis0.controller.config.vel_integrator_gain = 0\n",
    "    odrv0.axis1.controller.config.vel_integrator_gain = 0\n",
    "    return(current_limit)\n",
    "\n",
    "def CheckMotorError(odrv0):\n",
    "    axis0error = odrv0.axis0.error \n",
    "    axis1error = odrv0.axis1.error \n",
    "    axis0motorerror = odrv0.axis0.motor.error \n",
    "    axis1motorerror = odrv0.axis1.motor.error \n",
    "    axis0controllererror = odrv0.axis0.controller.error \n",
    "    axis1controllererror = odrv0.axis0.controller.error \n",
    "    print(\"error:          \", axis0error, axis1error)\n",
    "    print(\"motorerror:     \", axis0motorerror, axis1motorerror)\n",
    "    print(\"controllererror:\", axis0controllererror, axis1controllererror)\n",
    "    return()\n",
    "\n",
    "def MotorClearError(odrv0):\n",
    "    odrv0.axis0.error = 0\n",
    "    odrv0.axis1.error = 0\n",
    "    odrv0.axis0.motor.error = 0\n",
    "    odrv0.axis1.motor.error = 0\n",
    "    odrv0.axis0.controller.error = 0\n",
    "    odrv0.axis1.controller.error = 0\n",
    "    odrv0.axis0.encoder.error = 0\n",
    "    odrv0.axis1.encoder.error = 0\n",
    "    return()"
   ]
  },
  {
   "cell_type": "code",
   "execution_count": null,
   "metadata": {},
   "outputs": [],
   "source": [
    "%qtconsole"
   ]
  },
  {
   "cell_type": "code",
   "execution_count": 6,
   "metadata": {},
   "outputs": [
    {
     "name": "stdout",
     "output_type": "stream",
     "text": [
      "Parameter Set!\n"
     ]
    }
   ],
   "source": [
    "SetParameter(odrv1)\n",
    "SetParameter(odrv2)\n",
    "print(\"Parameter Set!\")"
   ]
  },
  {
   "cell_type": "code",
   "execution_count": 7,
   "metadata": {},
   "outputs": [
    {
     "name": "stdout",
     "output_type": "stream",
     "text": [
      "odrive1\n",
      "error:           0 0\n",
      "motorerror:      0 0\n",
      "controllererror: 0 0\n",
      "odrive2\n",
      "error:           0 0\n",
      "motorerror:      0 0\n",
      "controllererror: 0 0\n",
      "Error Clear!\n"
     ]
    }
   ],
   "source": [
    "print(\"odrive1\")\n",
    "CheckMotorError(odrv1)\n",
    "print(\"odrive2\")\n",
    "CheckMotorError(odrv2)\n",
    "\n",
    "MotorClearError(odrv1)\n",
    "MotorClearError(odrv2)\n",
    "print(\"Error Clear!\")"
   ]
  },
  {
   "cell_type": "markdown",
   "metadata": {},
   "source": [
    "## Motor Commands"
   ]
  },
  {
   "cell_type": "code",
   "execution_count": 8,
   "metadata": {},
   "outputs": [],
   "source": [
    "def Calibration(odrv0):\n",
    "    odrv0.axis0.requested_state = AXIS_STATE_FULL_CALIBRATION_SEQUENCE\n",
    "    odrv0.axis1.requested_state = AXIS_STATE_FULL_CALIBRATION_SEQUENCE\n",
    "    print('Motor 0 calibrated: {}'.format(odrv0.axis0.motor.is_calibrated))\n",
    "    print('Motor 1 calibrated: {}'.format(odrv0.axis1.motor.is_calibrated))   \n",
    "\n",
    "def ClosedLoopControlMode(odrv0):\n",
    "    odrv0.axis0.requested_state = AXIS_STATE_CLOSED_LOOP_CONTROL\n",
    "    odrv0.axis1.requested_state = AXIS_STATE_CLOSED_LOOP_CONTROL\n",
    "\n",
    "def IdleMode(odrv0):\n",
    "    odrv0.axis0.requested_state = odrive.enums.AXIS_STATE_IDLE\n",
    "    odrv0.axis1.requested_state = odrive.enums.AXIS_STATE_IDLE\n",
    "\n",
    "def ControllerPositionControl(odrv0): # default mode\n",
    "    odrv0.axis0.controller.config.control_mode = CTRL_MODE_POSITION_CONTROL\n",
    "    odrv0.axis1.controller.config.control_mode = CTRL_MODE_POSITION_CONTROL\n",
    "    print(\"Control Mode :{}\".format(odrv0.axis0.controller.config.control_mode))\n",
    "\n",
    "def ControllerCurrentControl(odrv0):\n",
    "    odrv0.axis0.controller.config.control_mode = CTRL_MODE_CURRENT_CONTROL\n",
    "    odrv0.axis1.controller.config.control_mode = CTRL_MODE_CURRENT_CONTROL\n",
    "    print(\"Control Mode :{}\".format(odrv0.axis0.controller.config.control_mode))\n",
    "\n",
    "def MaxCurrentProtection(current, current_limit = 20):\n",
    "    current = min(np.abs(current), current_limit) * np.sign(current) \n",
    "    return(current)"
   ]
  },
  {
   "cell_type": "code",
   "execution_count": null,
   "metadata": {},
   "outputs": [],
   "source": [
    "Calibration(odrv1)\n",
    "Calibration(odrv2)"
   ]
  },
  {
   "cell_type": "code",
   "execution_count": 9,
   "metadata": {},
   "outputs": [],
   "source": [
    "ClosedLoopControlMode(odrv1)\n",
    "ClosedLoopControlMode(odrv2)"
   ]
  },
  {
   "cell_type": "code",
   "execution_count": null,
   "metadata": {},
   "outputs": [],
   "source": [
    "ControllerCurrentControl(odrv1)\n",
    "ControllerCurrentControl(odrv2)"
   ]
  },
  {
   "cell_type": "code",
   "execution_count": 10,
   "metadata": {},
   "outputs": [],
   "source": [
    "IdleMode(odrv1)\n",
    "IdleMode(odrv2)"
   ]
  },
  {
   "cell_type": "markdown",
   "metadata": {},
   "source": [
    "# Define zero angle (Joint space)"
   ]
  },
  {
   "cell_type": "code",
   "execution_count": 11,
   "metadata": {},
   "outputs": [
    {
     "name": "stdout",
     "output_type": "stream",
     "text": [
      "-931.25\n",
      "929.2341918945312\n"
     ]
    }
   ],
   "source": [
    "#odrv1\n",
    "m0_home_pos = m0.encoder.pos_estimate\n",
    "m1_home_pos = m1.encoder.pos_estimate\n",
    "theta_R_home = -((m0_home_pos) / 8192 * 2 * np.pi) + np.pi\n",
    "theta_L_home = -((m1_home_pos) / 8192 * 2 * np.pi)\n",
    "print(m0_home_pos)\n",
    "print(m1_home_pos)"
   ]
  },
  {
   "cell_type": "code",
   "execution_count": 12,
   "metadata": {},
   "outputs": [
    {
     "name": "stdout",
     "output_type": "stream",
     "text": [
      "-853.25\n",
      "2966.75\n"
     ]
    }
   ],
   "source": [
    "#odrv2\n",
    "m00_home_pos = m00.encoder.pos_estimate\n",
    "m11_home_pos = m11.encoder.pos_estimate\n",
    "theta_R_home = -((m00_home_pos) / 8192 * 2 * np.pi) + np.pi\n",
    "theta_L_home = -((m11_home_pos) / 8192 * 2 * np.pi)\n",
    "print(m00_home_pos)\n",
    "print(m11_home_pos)"
   ]
  },
  {
   "cell_type": "markdown",
   "metadata": {},
   "source": [
    "# Define tiptoe home location (Joint space)"
   ]
  },
  {
   "cell_type": "code",
   "execution_count": 13,
   "metadata": {},
   "outputs": [
    {
     "name": "stdout",
     "output_type": "stream",
     "text": [
      "Odrv1 \n",
      "R: 144.7785186767578 \n",
      "L: 41.9677734375\n"
     ]
    }
   ],
   "source": [
    "#odrv1\n",
    "m0_equilibrium_toe_pos = m0.encoder.pos_estimate\n",
    "m1_equilibrium_toe_pos = m1.encoder.pos_estimate\n",
    "theta_R_eq = - ((m0_equilibrium_toe_pos - m0_home_pos) / 8192 * 2 * np.pi) + np.pi\n",
    "theta_L_eq = - ((m1_equilibrium_toe_pos - m1_home_pos) / 8192 * 2 * np.pi)\n",
    "theta_R_eq_d = theta_R_eq / (2 * np.pi) * 360\n",
    "theta_L_eq_d = theta_L_eq / (2 * np.pi) * 360\n",
    "print(\"Odrv1 \\nR:\", theta_R_eq_d, \"\\nL:\", theta_L_eq_d)"
   ]
  },
  {
   "cell_type": "code",
   "execution_count": 14,
   "metadata": {},
   "outputs": [
    {
     "name": "stdout",
     "output_type": "stream",
     "text": [
      "Odrv2 \n",
      "R: 143.50410461425778 \n",
      "L: 41.044921875\n"
     ]
    }
   ],
   "source": [
    "#odrv2\n",
    "m00_equilibrium_toe_pos = m00.encoder.pos_estimate\n",
    "m11_equilibrium_toe_pos = m11.encoder.pos_estimate\n",
    "theta_R_eq = - ((m00_equilibrium_toe_pos - m00_home_pos) / 8192 * 2 * np.pi) + np.pi\n",
    "theta_L_eq = - ((m11_equilibrium_toe_pos - m11_home_pos) / 8192 * 2 * np.pi)\n",
    "theta_R_eq_d = theta_R_eq / (2 * np.pi) * 360\n",
    "theta_L_eq_d = theta_L_eq / (2 * np.pi) * 360\n",
    "print(\"Odrv2 \\nR:\", theta_R_eq_d, \"\\nL:\", theta_L_eq_d)"
   ]
  },
  {
   "cell_type": "markdown",
   "metadata": {},
   "source": [
    "# Sine Trajectory (Foot Space)"
   ]
  },
  {
   "cell_type": "code",
   "execution_count": null,
   "metadata": {},
   "outputs": [],
   "source": [
    "# DownAMP = 0.01\n",
    "# UpperAMP = 0.05\n",
    "# StanceHeight = 0.18\n",
    "# StepLength = 0.12\n",
    "\n",
    "# CurrentPercent = np.array([a/100+0.01 for a in range(100)]) # 0.01 ~ 1.00\n",
    "# StancePercent = 0.6\n",
    "# SwingPercent = 1 - StancePercent\n",
    "\n",
    "# x = np.zeros(len(CurrentPercent), dtype=float)\n",
    "# y = np.zeros(len(CurrentPercent), dtype=float)\n",
    "\n",
    "# for i in range(len(CurrentPercent)):\n",
    "#      if (CurrentPercent[i] <= StancePercent):\n",
    "#           x[i] = -(StepLength / 2) + (CurrentPercent[i] / StancePercent) * StepLength\n",
    "#           y[i] =  DownAMP * np.sin(np.pi * CurrentPercent[i] / StancePercent) + StanceHeight\n",
    "#      else:\n",
    "#           x[i] = (StepLength / 2) - ((CurrentPercent[i] - StancePercent) / SwingPercent) * StepLength\n",
    "#           y[i] = -UpperAMP * np.sin(np.pi * (CurrentPercent[i] - StancePercent) / SwingPercent) + StanceHeight\n",
    "\n",
    "# plt.plot(x,y)\n",
    "# plt.plot(x[99],y[99],x[79],y[79],x[59],y[59],x[29],y[29], marker='*')\n",
    "# plt.title('SineTrajectory')\n",
    "# plt.ylim(0.195, 0.125)\n",
    "# plt.xlim(0.065, -0.065)\n",
    "# plt.grid()\n",
    "# plt.show()"
   ]
  },
  {
   "cell_type": "code",
   "execution_count": 15,
   "metadata": {},
   "outputs": [],
   "source": [
    "\"\"\"\n",
    "default offset = 0.02m for imporving performance\n",
    "\"\"\"\n",
    "def RightTrajectory(DownAMP = 0.01, UpperAMP = 0.09, StanceHeight = 0.185, StepLength = 0.18, offset = 0.02):\n",
    "    \n",
    "    StancePercent = 0.5\n",
    "    SwingPercent = 1 - StancePercent\n",
    "    t_iteration = 4\n",
    "    t_real = time.time()\n",
    "    t_cycle = t_real % 4\n",
    "    CurrentPercent = t_cycle / t_iteration\n",
    "    \n",
    "    # stance phase\n",
    "    if (CurrentPercent <= StancePercent):\n",
    "        x = -(StepLength / 2) + (CurrentPercent / StancePercent) * StepLength + offset\n",
    "        y =  DownAMP * np.sin(np.pi * CurrentPercent / StancePercent) + StanceHeight\n",
    "        \n",
    "    # swing phase    \n",
    "    else: \n",
    "        x = (StepLength / 2) - ((CurrentPercent - StancePercent) / SwingPercent) * StepLength + offset\n",
    "        y = -UpperAMP * np.sin(np.pi * (CurrentPercent - StancePercent) / SwingPercent) + StanceHeight\n",
    "\n",
    "    return np.array([[x], [y]])\n",
    "\n",
    "def LeftTrajectory(DownAMP = 0.01, UpperAMP = 0.09, StanceHeight = 0.185, StepLength = 0.18, offset = 0.02):\n",
    "    \n",
    "    StancePercent = 0.5\n",
    "    SwingPercent = 1 - StancePercent\n",
    "    t_iteration = 4\n",
    "    t_real = time.time()\n",
    "    t_cycle = t_real % 4\n",
    "    CurrentPercent = t_cycle / t_iteration\n",
    "    \n",
    "    # swing phase\n",
    "    if (CurrentPercent <= StancePercent): \n",
    "        x = (StepLength / 2)- (CurrentPercent / StancePercent) * StepLength + offset\n",
    "        y = -UpperAMP * np.sin(np.pi * (CurrentPercent / StancePercent)) + StanceHeight\n",
    "        \n",
    "    # stance phase                           \n",
    "    else: \n",
    "        x = -(StepLength / 2) + ((CurrentPercent - StancePercent) / SwingPercent) * StepLength + offset\n",
    "        y =  DownAMP * np.sin(np.pi * ((CurrentPercent - StancePercent) / SwingPercent)) + StanceHeight\n",
    "        \n",
    "    return np.array([[-x], [y]])"
   ]
  },
  {
   "cell_type": "markdown",
   "metadata": {},
   "source": [
    "# Position control mode"
   ]
  },
  {
   "cell_type": "code",
   "execution_count": 36,
   "metadata": {},
   "outputs": [
    {
     "name": "stdout",
     "output_type": "stream",
     "text": [
      "264 iterations in 4 second\n",
      "Frequency: 66.0 Hz\n"
     ]
    }
   ],
   "source": [
    "ClosedLoopControlMode(odrv1)\n",
    "ClosedLoopControlMode(odrv2)\n",
    "\n",
    "x = []\n",
    "y = []\n",
    "xx = []\n",
    "yy = []\n",
    "\n",
    "t_start = time.time()\n",
    "duration = 4 #sec\n",
    "count = 0\n",
    "\n",
    "while (time.time() - t_start < duration):\n",
    "    \n",
    "    t0 = time.time()\n",
    "    \n",
    "    odrv1_theta_R = IK_5_link(RightTrajectory()[0],RightTrajectory()[1])[1]\n",
    "    odrv1_theta_L = IK_5_link(RightTrajectory()[0],RightTrajectory()[1])[0]\n",
    "    odrv2_theta_R = IK_5_link(LeftTrajectory()[0],LeftTrajectory()[1])[1]\n",
    "    odrv2_theta_L = IK_5_link(LeftTrajectory()[0],LeftTrajectory()[1])[0]\n",
    "    \n",
    "    x.append(FK_fast(odrv1_theta_R,odrv1_theta_L)[0])\n",
    "    y.append(FK_fast(odrv1_theta_R,odrv1_theta_L)[1])\n",
    "    xx.append(FK_fast(odrv1_theta_R,odrv1_theta_L)[0])\n",
    "    yy.append(FK_fast(odrv1_theta_R,odrv1_theta_L)[1])\n",
    "    \n",
    "    #full function of both legs\n",
    "    \n",
    "    m0_pos  = -(odrv1_theta_R - np.pi)/(2*np.pi)*8192 + m0_home_pos\n",
    "    m1_pos  = -odrv1_theta_L/(2*np.pi)*8192 + m1_home_pos\n",
    "    m00_pos = -(odrv2_theta_R - np.pi)/(2*np.pi)*8192 + m00_home_pos\n",
    "    m11_pos = -odrv2_theta_L/(2*np.pi)*8192 +m11_home_pos\n",
    "    \n",
    "    m0.controller.set_pos_setpoint(m0_pos,0,0)\n",
    "    m1.controller.set_pos_setpoint(m1_pos,0,0)\n",
    "    m00.controller.set_pos_setpoint(m00_pos,0,0)\n",
    "    m11.controller.set_pos_setpoint(m11_pos,0,0)\n",
    "   \n",
    "    count += 1\n",
    "\n",
    "    t1 = time.time()\n",
    "    time_spent = t1 - t0\n",
    "\n",
    "print(count,'iterations in', duration, 'second')\n",
    "print(\"Frequency:\", count/duration, 'Hz')\n"
   ]
  },
  {
   "cell_type": "code",
   "execution_count": 35,
   "metadata": {},
   "outputs": [
    {
     "data": {
      "image/png": "[encoded data removed]",
      "text/plain": [
       "<Figure size 432x288 with 2 Axes>"
      ]
     },
     "metadata": {
      "needs_background": "light"
     },
     "output_type": "display_data"
    }
   ],
   "source": [
    "plt.subplot(1, 2, 1)\n",
    "plt.plot(x,y,'tab:orange',linewidth=1)\n",
    "plt.grid(True)\n",
    "\n",
    "plt.subplot(1, 2, 2)\n",
    "plt.plot(xx,yy,'tab:red',linewidth=1)\n",
    "plt.grid(True)\n",
    "\n",
    "plt.show()\n",
    "plt.pause(0.01)"
   ]
  },
  {
   "cell_type": "code",
   "execution_count": 17,
   "metadata": {},
   "outputs": [],
   "source": [
    "IdleMode(odrv1)\n",
    "IdleMode(odrv2)"
   ]
  },
  {
   "cell_type": "markdown",
   "metadata": {},
   "source": [
    "# Define virtual compliance"
   ]
  },
  {
   "cell_type": "code",
   "execution_count": null,
   "metadata": {},
   "outputs": [],
   "source": [
    "'''\n",
    "    k  = np.array([[kx,0],[0,ky]])\n",
    "    c  = np.array([[cx,0],[0,cy]])\n",
    "'''\n",
    "def cartesian_compliance_homePosition(theta_R, theta_L, vel_R, vel_L):\n",
    "    k  = np.array([[110,0],[0,110]])\n",
    "    c  = np.array([[0.5,0],[0,0.5]])\n",
    "    Kt = 0.0285\n",
    "    J_trans  = -np.transpose(J_fast(theta_R, theta_L))  \n",
    "    disp     = FK_fast(theta_R, theta_L) - FK_fast(theta_R_eq, theta_L_eq) \n",
    "    vel      = J_fast(theta_R, theta_L) @ np.array([[vel_R], [vel_L]])\n",
    "    currents = J_trans @ ( k @ disp + c @ vel )*(1/Kt)\n",
    "    return currents\n",
    "\n",
    "def cartesian_compliance_RightTrajectory(theta_R, theta_L, vel_R, vel_L):\n",
    "    J_trans = -np.transpose(J_fast(theta_R, theta_L))\n",
    "    disp    = FK_fast(theta_R, theta_L) - RightTrajectory()   \n",
    "    vel     = J_fast(theta_R, theta_L) @ np.array([[vel_R], [vel_L]])\n",
    "    Kt = 0.0285\n",
    "    if RightTrajectory()[1] < 0.185:\n",
    "        k = np.array([[40,0],[0,40]])\n",
    "        c = np.array([[0.5,0],[0,0.5]])\n",
    "        a = 1\n",
    "    else:\n",
    "        k = np.array([[60,0],[0,80]])\n",
    "        c = np.array([[0.5,0],[0,0.5]])\n",
    "        a = 0\n",
    "    currents = J_trans @ ( k @ disp + c @ vel )*(1/Kt)\n",
    "    return np.array([currents[0], currents[1], a])\n",
    "\n",
    "def cartesian_compliance_LeftTrajectory(theta_R, theta_L, vel_R, vel_L):\n",
    "    J_trans = -np.transpose(J_fast(theta_R, theta_L))\n",
    "    disp    = FK_fast(theta_R, theta_L) - LeftTrajectory()\n",
    "    vel     = J_fast(theta_R, theta_L) @ np.array([[vel_R], [vel_L]])\n",
    "    Kt = 0.0285\n",
    "    if LeftTrajectory()[1] < 0.185:\n",
    "        k = np.array([[40,0],[0,40]])\n",
    "        c = np.array([[0.5,0],[0,0.5]])\n",
    "        a = 1\n",
    "    else:\n",
    "        k = np.array([[60,0],[0,80]])\n",
    "        c = np.array([[0.5,0],[0,0.5]])\n",
    "        a = 0\n",
    "    currents = J_trans @ ( k @ disp + c @ vel )*(1/Kt)\n",
    "    return np.array([currents[0], currents[1], a])\n"
   ]
  },
  {
   "cell_type": "markdown",
   "metadata": {},
   "source": [
    "# Current Control loop (each loop takes about 0.005s 200Hz)"
   ]
  },
  {
   "cell_type": "code",
   "execution_count": null,
   "metadata": {
    "scrolled": false
   },
   "outputs": [],
   "source": [
    "ClosedLoopControlMode(odrv1)\n",
    "ClosedLoopControlMode(odrv2)\n",
    "\n",
    "odrv1_cur_l = []\n",
    "odrv1_cur_r = []\n",
    "odrv2_cur_l = []\n",
    "odrv2_cur_r = []\n",
    "\n",
    "t_start = time.time()\n",
    "duration = 20 #sec\n",
    "count = 0\n",
    "\n",
    "while (time.time() - t_start < duration):\n",
    "    \n",
    "    t0 = time.time()\n",
    "    \n",
    "    #current angle(rad) & velocity(rad/s)\n",
    "    odrv1_theta_R = - ((m0.encoder.pos_estimate - m0_home_pos) / 8192 * 2 * np.pi) + np.pi\n",
    "    odrv1_theta_L = - ((m1.encoder.pos_estimate - m1_home_pos) / 8192 * 2 * np.pi)\n",
    "    odrv2_theta_R = - ((m00.encoder.pos_estimate - m00_home_pos) / 8192 * 2 * np.pi) + np.pi\n",
    "    odrv2_theta_L = - ((m11.encoder.pos_estimate - m11_home_pos) / 8192 * 2 * np.pi)\n",
    "    \n",
    "    odrv1_vel_R = - ((m0.encoder.vel_estimate) / 8192 * 2 * np.pi)\n",
    "    odrv1_vel_L = - ((m1.encoder.vel_estimate) / 8192 * 2 * np.pi)\n",
    "    odrv2_vel_R = - ((m00.encoder.vel_estimate) / 8192 * 2 * np.pi)\n",
    "    odrv2_vel_L = - ((m11.encoder.vel_estimate) / 8192 * 2 * np.pi)\n",
    "    \n",
    "    #get current\n",
    "    joint_damping_R = 0.5\n",
    "    joint_damping_L = 0.5\n",
    "    \n",
    "    # run the commands based on time\n",
    "    odrv1_current = cartesian_compliance_RightTrajectory(odrv1_theta_R, odrv1_theta_L, odrv1_vel_R, odrv1_vel_L)[0:2]\n",
    "    phase_indicator1 = cartesian_compliance_RightTrajectory(odrv1_theta_R, odrv1_theta_L, odrv1_vel_R, odrv1_vel_L)[2]\n",
    "#     odrv1_current = cartesian_compliance_homePosition(odrv1_theta_R, odrv1_theta_L, odrv1_vel_R, odrv1_vel_L)\n",
    "    odrv1_damping_current_R = np.array(joint_damping_R * odrv1_vel_R)\n",
    "    odrv1_damping_current_L = np.array(joint_damping_L * odrv1_vel_L)\n",
    "    odrv1_current_R = odrv1_current[0] - odrv1_damping_current_R\n",
    "    odrv1_current_L = odrv1_current[1] - odrv1_damping_current_L\n",
    "    \n",
    "    odrv2_current = cartesian_compliance_LeftTrajectory(odrv2_theta_R, odrv2_theta_L, odrv2_vel_R, odrv2_vel_L)[0:2]\n",
    "    phase_indicator2 = cartesian_compliance_LeftTrajectory(odrv2_theta_R, odrv2_theta_L, odrv2_vel_R, odrv2_vel_L)[2]\n",
    "#     odrv2_current = cartesian_compliance_homePosition(odrv2_theta_R, odrv2_theta_L, odrv2_vel_R, odrv2_vel_L)\n",
    "    odrv2_damping_current_R = np.array(joint_damping_R * odrv2_vel_R)\n",
    "    odrv2_damping_current_L = np.array(joint_damping_L * odrv2_vel_L)\n",
    "    odrv2_current_R = odrv2_current[0] - odrv2_damping_current_R\n",
    "    odrv2_current_L = odrv2_current[1] - odrv2_damping_current_L\n",
    "\n",
    "    #make sure the current is not exceeds the limit\n",
    "    odrv1_current_R = MaxCurrentProtection(odrv1_current_R)\n",
    "    odrv1_current_L = MaxCurrentProtection(odrv1_current_L)\n",
    "    odrv2_current_R = MaxCurrentProtection(odrv2_current_R)\n",
    "    odrv2_current_L = MaxCurrentProtection(odrv2_current_L)\n",
    "    \n",
    "    if phase_indicator1 ==1:\n",
    "        m0.controller.set_current_setpoint(-odrv1_current_R)\n",
    "        m1.controller.set_current_setpoint(0) #rear motor\n",
    "        m00.controller.set_current_setpoint(-odrv2_current_R)\n",
    "        m11.controller.set_current_setpoint(-odrv2_current_L)\n",
    "    else:\n",
    "        m0.controller.set_current_setpoint(-odrv1_current_R)\n",
    "        m1.controller.set_current_setpoint(-odrv1_current_L)\n",
    "        m00.controller.set_current_setpoint(0) #rear motor\n",
    "        m11.controller.set_current_setpoint(-odrv2_current_L)\n",
    "        \n",
    "    #control the motors\n",
    "#     m0.controller.set_current_setpoint(-odrv1_current_R)\n",
    "#     m1.controller.set_current_setpoint(-odrv1_current_L)\n",
    "#     m00.controller.set_current_setpoint(-odrv2_current_R)\n",
    "#     m11.controller.set_current_setpoint(-odrv2_current_L)\n",
    "    \n",
    "    #plotting\n",
    "    odrv1_cur_r.append(-odrv1_current_R)    \n",
    "    odrv1_cur_l.append(-odrv1_current_L) \n",
    "    odrv2_cur_r.append(-odrv2_current_R)    \n",
    "    odrv2_cur_l.append(-odrv2_current_L) \n",
    "    \n",
    "    count += 1\n",
    "\n",
    "    t1 = time.time()\n",
    "    time_spent = t1 - t0\n",
    "\n",
    "print(count,'iterations in', duration, 'second')\n",
    "print(\"Frequency:\", count/duration, 'Hz')\n",
    "\n",
    "m0.controller.set_current_setpoint(0)\n",
    "m1.controller.set_current_setpoint(0)\n",
    "m00.controller.set_current_setpoint(0)\n",
    "m11.controller.set_current_setpoint(0)\n",
    "\n",
    "ControllerPositionControl(odrv1)\n",
    "ControllerPositionControl(odrv2)\n",
    "\n",
    "ClosedLoopControlMode(odrv1)\n",
    "ClosedLoopControlMode(odrv2)\n",
    "    "
   ]
  },
  {
   "cell_type": "markdown",
   "metadata": {},
   "source": [
    "Walking back to origin"
   ]
  },
  {
   "cell_type": "code",
   "execution_count": null,
   "metadata": {},
   "outputs": [],
   "source": [
    "# plot the current\n",
    "i = np.arange(count)\n",
    "\n",
    "plt.subplot(1, 2, 1)\n",
    "plt.plot(i,odrv1_cur_r,'tab:orange',linewidth=1)\n",
    "plt.plot(i,odrv1_cur_l,'tab:green',linewidth=1)\n",
    "plt.legend(['front-m0','back-m1'],loc='upper left',ncol=2, mode=\"expand\")\n",
    "plt.title('Odrv1 (R_leg)')\n",
    "plt.ylim(-20,20)\n",
    "plt.grid(True)\n",
    "\n",
    "plt.ylabel('Current (A)')\n",
    "\n",
    "plt.subplot(1, 2, 2)\n",
    "plt.plot(i,odrv2_cur_r,'tab:red',linewidth=1)\n",
    "plt.plot(i,odrv2_cur_l,'tab:blue',linewidth=1)\n",
    "plt.legend(['back-m0','front-m1'],loc='upper left',ncol=2, mode=\"expand\")\n",
    "plt.title('Odrv2 (L_leg)')\n",
    "plt.ylim(-20,20)\n",
    "plt.grid(True)\n",
    "\n",
    "plt.suptitle('Gait Period: 2s / Total elapse: {}s'.format(duration))\n",
    "\n",
    "plt.show()\n",
    "plt.pause(0.01)"
   ]
  },
  {
   "cell_type": "code",
   "execution_count": null,
   "metadata": {},
   "outputs": [],
   "source": [
    "%matplotlib qt"
   ]
  },
  {
   "cell_type": "code",
   "execution_count": null,
   "metadata": {},
   "outputs": [],
   "source": [
    "IdleMode(odrv1)\n",
    "IdleMode(odrv2)"
   ]
  },
  {
   "cell_type": "code",
   "execution_count": null,
   "metadata": {},
   "outputs": [],
   "source": [
    "ClosedLoopControlMode(odrv1)\n",
    "ClosedLoopControlMode(odrv2)"
   ]
  },
  {
   "cell_type": "code",
   "execution_count": null,
   "metadata": {},
   "outputs": [],
   "source": [
    "print(\"odrive1\")\n",
    "CheckMotorError(odrv1)\n",
    "print(\"odrive2\")\n",
    "CheckMotorError(odrv2)\n",
    "\n",
    "MotorClearError(odrv1)\n",
    "MotorClearError(odrv2)\n",
    "print(\"Error Clear!\")"
   ]
  },
  {
   "cell_type": "code",
   "execution_count": null,
   "metadata": {},
   "outputs": [],
   "source": []
  }
 ],
 "metadata": {
  "kernelspec": {
   "display_name": "Python 3",
   "language": "python",
   "name": "python3"
  },
  "language_info": {
   "codemirror_mode": {
    "name": "ipython",
    "version": 3
   },
   "file_extension": ".py",
   "mimetype": "text/x-python",
   "name": "python",
   "nbconvert_exporter": "python",
   "pygments_lexer": "ipython3",
   "version": "3.7.4"
  }
 },
 "nbformat": 4,
 "nbformat_minor": 2
}
